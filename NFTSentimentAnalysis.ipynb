{
 "cells": [
  {
   "cell_type": "code",
   "execution_count": 97,
   "id": "dc73b9d1",
   "metadata": {},
   "outputs": [
    {
     "name": "stderr",
     "output_type": "stream",
     "text": [
      "WARNING:param.panel_extension: A HoloViz extension was loaded previously. This means the extension is already initialized and the following Panel extensions could not be properly loaded: ['plotly']. If you are loading custom extensions with pn.extension(...) ensure that this is called before any other HoloViz extension such as hvPlot or HoloViews.\n",
      "[nltk_data] Downloading package vader_lexicon to\n",
      "[nltk_data]     /Users/sameerlakhe/nltk_data...\n",
      "[nltk_data]   Package vader_lexicon is already up-to-date!\n"
     ]
    }
   ],
   "source": [
    "# Initial imports\n",
    "import os\n",
    "import requests\n",
    "import pandas as pd\n",
    "from dotenv import load_dotenv\n",
    "import alpaca_trade_api as tradeapi\n",
    "import json\n",
    "from datetime import datetime \n",
    "import datetime\n",
    "from alpaca_trade_api.rest import REST, TimeFrame\n",
    "import tweepy\n",
    "%matplotlib inline\n",
    "from pathlib import Path\n",
    "import csv\n",
    "import re\n",
    "import emoji\n",
    "import nltk\n",
    "import pandas as pd\n",
    "from dotenv import load_dotenv\n",
    "import nltk as nltk\n",
    "from nltk.sentiment.vader import SentimentIntensityAnalyzer\n",
    "from nltk.tokenize import word_tokenize, sent_tokenize\n",
    "from nltk.corpus import stopwords\n",
    "from nltk.stem import WordNetLemmatizer, PorterStemmer\n",
    "from string import punctuation\n",
    "from collections import Counter\n",
    "from nltk import ngrams\n",
    "from wordcloud import WordCloud\n",
    "import matplotlib.pyplot as plt\n",
    "import matplotlib as mpl\n",
    "import spacy\n",
    "from spacy import displacy\n",
    "import warnings\n",
    "import numpy as np\n",
    "import pandas as pd\n",
    "import hvplot.pandas\n",
    "from sklearn.preprocessing import MinMaxScaler\n",
    "from tensorflow.keras.models import Sequential\n",
    "from tensorflow.keras.layers import LSTM, Dense, Dropout\n",
    "from numpy.random import seed\n",
    "#seed(1)\n",
    "from tensorflow import random\n",
    "from sklearn.model_selection import train_test_split\n",
    "from tensorflow.keras.preprocessing.text import Tokenizer\n",
    "from tensorflow.keras.preprocessing.sequence import pad_sequences\n",
    "from tensorflow.keras.models import Sequential\n",
    "from tensorflow.keras.layers import Embedding, LSTM, Dense\n",
    "import tensorflow as tf\n",
    "from sklearn.metrics import accuracy_score\n",
    "from sklearn.metrics import confusion_matrix\n",
    "from sklearn.metrics import classification_report\n",
    "from IPython.display import Image\n",
    "from IPython.core.display import HTML \n",
    "import panel as pn\n",
    "pn.extension('plotly')\n",
    "from PIL import Image\n",
    "from sklearn.metrics import roc_curve, auc\n",
    "from datetime import date\n",
    "import pytz\n",
    "#random.set_seed(2)\n",
    "warnings.filterwarnings('ignore')\n",
    "nltk.download('vader_lexicon')\n",
    "plt.style.use('seaborn-whitegrid')\n",
    "mpl.rcParams['figure.figsize'] = [20.0, 10.0]\n",
    "%matplotlib inline"
   ]
  },
  {
   "cell_type": "code",
   "execution_count": 68,
   "id": "d8d42b0b",
   "metadata": {},
   "outputs": [
    {
     "name": "stdout",
     "output_type": "stream",
     "text": [
      "9796bf59fe674cae9688a1a9bb422338\n"
     ]
    }
   ],
   "source": [
    "# Load .env enviroment variables\n",
    "load_dotenv()\n",
    "asset_base_url = \"https://api.opensea.io/api/v1/assets\"\n",
    "collection_slug=\"boredapeyachtclub\"\n",
    "opensea_api_key = os.getenv(\"opensea_api_key\")\n",
    "# define headers as global variable it is used in multiple get API calls\n",
    "headers = {\n",
    "        \"Accept\": \"application/json\",\n",
    "        \"X-API-KEY\": opensea_api_key\n",
    "    }\n",
    "#this function will invoke opensea API to get different assets in the NFT collection\n",
    "# it takes the collection name and the limit of assets to be fetched\n",
    "def get_asset(collection_slug,limit):\n",
    "    query = { \n",
    "        \"include_orders\":False,\n",
    "        \"collection_slug\":collection_slug,\n",
    "        \"limit\":limit\n",
    "    }\n",
    "    response = requests.request(\"GET\", asset_base_url, headers=headers,params=query)\n",
    "    return response.json()\n",
    "\n",
    "\n",
    "print(opensea_api_key)"
   ]
  },
  {
   "cell_type": "code",
   "execution_count": 69,
   "id": "99d98e5e",
   "metadata": {},
   "outputs": [],
   "source": [
    "asset_limit=200\n",
    "bayc_assets_data=get_asset(collection_slug,asset_limit)\n",
    "#print(json.dumps(doodle_assets,indent=4))\n",
    "bayc_assets = bayc_assets_data[\"assets\"]\n",
    "#print(json.dumps(doodle_assets,indent=4))\n",
    "\n",
    "#this function will iterater over the asset json data and get the thumbnail image URL\n",
    "# it will return a list of thumbnail URLs\n",
    "def get_asset_image_urls(assets):\n",
    "    asset_image_urls=[]\n",
    "    for asset in assets:\n",
    "        asset_image_thumbnail_url = asset[\"image_thumbnail_url\"]\n",
    "        if asset_image_thumbnail_url is not None:\n",
    "            asset_image_urls.append(asset_image_thumbnail_url)\n",
    "    return asset_image_urls\n",
    "\n",
    "asset_image_urls = get_asset_image_urls(bayc_assets)\n",
    "\n",
    "\n",
    "#this method will pick random thumbnail URLs from the list and fetch images using the URL\n",
    "# it will create a panel row with the images and add the row to the panel column\n",
    "# and will return the column\n",
    "def create_panel(asset_image_urls,total_images_to_display):\n",
    "    image_rows = pn.Row()\n",
    "    image_urls = get_unique_image_urls(asset_image_urls,total_images_to_display)\n",
    "    for i in range(0,len(image_urls)):\n",
    "        random_url = np.random.choice(asset_image_urls)\n",
    "        im = Image.open(requests.get(random_url, stream=True).raw)\n",
    "        fig = get_image_figure(im)\n",
    "        image_rows.append(fig)\n",
    "    panel_column = pn.Column(image_rows)\n",
    "    return panel_column\n",
    "\n",
    "def get_unique_image_urls(asset_image_urls,total_images_to_display):\n",
    "    image_urls = set()\n",
    "    while (len(image_urls)<total_images_to_display):\n",
    "        image_urls.add(np.random.choice(asset_image_urls))\n",
    "    return image_urls\n",
    "\n",
    "#this function takes the image object and wraps it in a figure and returns\n",
    "# the figure \n",
    "def get_image_figure(image):\n",
    "    fig=plt.figure(figsize=(3.5,3.5))\n",
    "    plt.imshow(image)\n",
    "    plt.close(fig)\n",
    "    return fig\n",
    "\n",
    "create_panel(asset_image_urls,total_images_to_display)\n",
    "\n",
    "asset_limit=100\n",
    "total_images_to_display=3\n",
    "\n",
    "# this is a function that consolidates all above functions \n",
    "# i.e 1) fetch asset data 2) get image URL from response JSON 3) create image and add it to panel\n",
    "def display_colleaction_assets(collection_slug,asset_limit,total_images_to_display):\n",
    "    collection_slug_assets_data=get_asset(collection_slug,asset_limit)\n",
    "    collection_slug_assets = collection_slug_assets_data[\"assets\"]\n",
    "    asset_image_urls = get_asset_image_urls(collection_slug_assets)\n",
    "    panel = create_panel(asset_image_urls,total_images_to_display)\n",
    "    return panel"
   ]
  },
  {
   "cell_type": "code",
   "execution_count": 70,
   "id": "f30cd9ac",
   "metadata": {},
   "outputs": [
    {
     "data": {},
     "metadata": {},
     "output_type": "display_data"
    },
    {
     "data": {
      "application/vnd.holoviews_exec.v0+json": "",
      "text/html": [
       "<div id='1100'>\n",
       "\n",
       "\n",
       "\n",
       "\n",
       "\n",
       "  <div class=\"bk-root\" id=\"d0a247b4-1b3b-4537-88c9-0e4954165df7\" data-root-id=\"1100\"></div>\n",
       "</div>\n",
       "<script type=\"application/javascript\">(function(root) {\n",
       "  function embed_document(root) {\n",
       "    var docs_json = {\"dba7028d-c562-4d43-b05a-10b36fe0d6d7\":{\"defs\":[{\"extends\":null,\"module\":null,\"name\":\"ReactiveHTML1\",\"overrides\":[],\"properties\":[]},{\"extends\":null,\"module\":null,\"name\":\"FlexBox1\",\"overrides\":[],\"properties\":[{\"default\":\"flex-start\",\"kind\":null,\"name\":\"align_content\"},{\"default\":\"flex-start\",\"kind\":null,\"name\":\"align_items\"},{\"default\":\"row\",\"kind\":null,\"name\":\"flex_direction\"},{\"default\":\"wrap\",\"kind\":null,\"name\":\"flex_wrap\"},{\"default\":\"flex-start\",\"kind\":null,\"name\":\"justify_content\"}]},{\"extends\":null,\"module\":null,\"name\":\"GridStack1\",\"overrides\":[],\"properties\":[{\"default\":\"warn\",\"kind\":null,\"name\":\"mode\"},{\"default\":null,\"kind\":null,\"name\":\"ncols\"},{\"default\":null,\"kind\":null,\"name\":\"nrows\"},{\"default\":true,\"kind\":null,\"name\":\"allow_resize\"},{\"default\":true,\"kind\":null,\"name\":\"allow_drag\"},{\"default\":[],\"kind\":null,\"name\":\"state\"}]},{\"extends\":null,\"module\":null,\"name\":\"click1\",\"overrides\":[],\"properties\":[{\"default\":\"\",\"kind\":null,\"name\":\"terminal_output\"},{\"default\":\"\",\"kind\":null,\"name\":\"debug_name\"},{\"default\":0,\"kind\":null,\"name\":\"clears\"}]},{\"extends\":null,\"module\":null,\"name\":\"TemplateActions1\",\"overrides\":[],\"properties\":[{\"default\":0,\"kind\":null,\"name\":\"open_modal\"},{\"default\":0,\"kind\":null,\"name\":\"close_modal\"}]},{\"extends\":null,\"module\":null,\"name\":\"MaterialTemplateActions1\",\"overrides\":[],\"properties\":[{\"default\":0,\"kind\":null,\"name\":\"open_modal\"},{\"default\":0,\"kind\":null,\"name\":\"close_modal\"}]}],\"roots\":{\"references\":[{\"attributes\":{\"height\":252,\"margin\":[5,5,5,5],\"name\":\"Matplotlib01843\",\"text\":\"&lt;img src=&quot;data:image/png;base64,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&quot; width=&quot;252px&quot; height=&quot;252px&quot; alt=&quot;&quot;&gt;&lt;/img&gt;\",\"width\":252},\"id\":\"1103\",\"type\":\"panel.models.markup.HTML\"},{\"attributes\":{\"reload\":false},\"id\":\"1106\",\"type\":\"panel.models.location.Location\"},{\"attributes\":{\"client_comm_id\":\"d602232c769f4916b2f32ed8dccba6d4\",\"comm_id\":\"ff48951341094afb85e2c72e6f8acf87\",\"plot_id\":\"1100\"},\"id\":\"1105\",\"type\":\"panel.models.comm_manager.CommManager\"},{\"attributes\":{\"height\":252,\"margin\":[5,5,5,5],\"name\":\"Matplotlib01845\",\"text\":\"&lt;img src=&quot;data:image/png;base64,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&quot; width=&quot;252px&quot; height=&quot;252px&quot; alt=&quot;&quot;&gt;&lt;/img&gt;\",\"width\":252},\"id\":\"1104\",\"type\":\"panel.models.markup.HTML\"},{\"attributes\":{\"children\":[{\"id\":\"1102\"},{\"id\":\"1103\"},{\"id\":\"1104\"}],\"margin\":[0,0,0,0],\"name\":\"Row01840\"},\"id\":\"1101\",\"type\":\"Row\"},{\"attributes\":{\"height\":252,\"margin\":[5,5,5,5],\"name\":\"Matplotlib01841\",\"text\":\"&lt;img src=&quot;data:image/png;base64,iVBORw0KGgoAAAANSUhEUgAAAPwAAAD8CAYAAABTq8lnAAAAOXRFWHRTb2Z0d2FyZQBNYXRwbG90bGliIHZlcnNpb24zLjUuMSwgaHR0cHM6Ly9tYXRwbG90bGliLm9yZy/YYfK9AAAACXBIWXMAAAsTAAALEwEAmpwYAABvkElEQVR4nO39d7xc13nfC3/XWrtMr6fjoJdBY6dYVaguy5IlyyX2feUaO/aN7djXTuLYca6TvE5yU+w4ju0obtcl5XWJZTku6hIlSqTYGwAOQPRyepk+u631/rHnHAAkQILEQSGxv5/PAc7Mmdl7Tfnt9axnPUUYY0hISLgxkNd6AAkJCVePRPAJCTcQieATEm4gEsEnJNxAJIJPSLiBSASfkHADkQg+IeEGIhF8QsINRCL4hIQbiETwCQk3EIngExJuIBLBJyTcQCSCT0i4gUgEn5BwA5EIPiHhBiIRfELCDUQi+ISEG4hE8AkJNxCJ4BMSbiASwSck3EAkgk9IuIFIBJ+QcAORCD4h4QYiEXxCwg1EIviEhBuIRPAJCTcQ1tU4Sa1Wk8BvArcAHvBD9Xr9xatx7oSEhLNcrRn+o0CqXq/fC/wT4Jev0nkTEhLO4WoJ/q3ApwHq9fojwJ1X6bwJCQnncFVMeqAANM65HdVqNater4crdzzxxBNJG9uEG5I77rhDXK1zXS3BN4H8ObfluWJfQWOYTUvaYYDh+tD/+lBx0oqu9TDOIxnTpXE9jglgfWixnJIU+xFpc3X95ldL8F8DPgz8Sa1Wuwd47kIPWnAFPzK0QBRF14nc4VfnSvzU8PK1HsZ5JGO6NK7HMUE8rn841OJb0sP83YNX94J0tQT/SeC9tVrt64AAfuBCD/KFIdT6Kg0pIeHaEWrNMRVwtXfGr4rg6/W6Bn701R7nGwPmepnbExKuIMZwKvKA9FU97XUVeBPq62+9lZBwpZhvt676Oa8rwSck3Ejoa2DMJoJPSLiBSASfkHADkQg+IeEGIhF8QsINRCL4hIQbiETwCQk3EIngExJuIBLBJyTcQCSCT0i4gUgEn5BwA5EIPiHhBiIRfELCDUQi+ISEG4hE8AkJNxBXq+JNwvWOGNRRFGCAyEBI/LNSpUAQf2FsAQoQBsR1U4ws4VJIBH8DYQY/mli8MBCsHlQa0hqMRmjQCBCgEEhxtqiqMoMjGDBKYKQEGct+5cIgzzl+wvVFIvgbiEgIQhmXEIZYmK4XINpdaHeImi1Uu4Pq9UGmWG+5jCuHvBEIIdDAHCFTXof5yCco5xCVIhTyRFRpKIEEipqkVNl1SiL4NzNCoKXACEHQ6REtN7EWW3zcGWbISlFUadLpHK4aIVVSpIYsFAZlAGGRlZKsUNiDGd4AfRPRiSI8HREpQTcI6QY+477g3S8scFj0mdo4hLItpFTY2iSz/XVEIvg3IZpYnCIM0f0+9PuMqRx2X5DpCR7QDpNWhqqTIZcukHGzZLIZcrksluOg7Jd/LYIgINIa13FW74v8kFajSavVZKY9z/19hwwe0hcshyE9FaIcJzHxryMSwb/ZEIKeFHQwpGaWUA99nexXvsZv/Ogvs2PrbUzcPYkAxGuU4OzcHMuNBrXt21FKAaAci9JwhdJwhY7f5+ff8jG8vsf+p57lXy/u4zNmmaW79pLDkLoWBdwSXsaaC75Wq9nA7wGbABf4JWA/8PvEE8/zwI8NSlcnrBGeFPQF2MsNdrfg1oagUZ9iS+km9v7Qu9mzaw/FQhElXt9ObLlcxrZtvv71r7NlyxYmJydf9hgpJI7jsGX7Nn6qV+GD7SUefPwAj6/PcrrikracZG1/jbkSM/zHgYV6vf49tVqtCjwFPA38Qr1e/3KtVvsE8BHi5hQJl4EhNpUjQPohKT9k0lPs6WjuXYrodB32bN3BXfffQzqTQYjXb1hn0mkwhpmZGYaGhgiCAMuyXnZMpRTl4Sr3hyX2NpvIfYdpdcBPa5qZECHkZY0j4fK4EoL/U+DPzrkdAncADw5u/y3wPhLBXz5CoIWgFflsODnHrS/M8C/e9jHCfI/p/gy3f/97yWazuK67JqezLIuNGzcCMDMzw7p16y4+NCUplUt8/7d/F7c++SSPHTrFz0wu4RYLWOkURImBdy1Y80i7er3ertfrrVqtlicW/i8Aol6vr9hyLaC41ue90WgqSafTJTpxmh87Bv8ks52feseHsYXCdh1GRkbIZjLYto0QYk1mVcuy2LZtG2fOnOFLX/oSUXTxxiEr5xRCsHnLFt6++yb+aaPK9kaI12ydDfRJuKoIcwXWVLVabT3xDP6b9Xr992q12ql6vT45+NtHgPfW6/UfP/c5TzzxhOkLfd11+7weO5CuDxXHZYjSGicyjOOQsh0cx6Hf7wOxab0i9rVmudGg3+sxMjKyKup+v08qlbroc7TW9Hs9ZgloC01oqyvuub8ePzs4f1zbA/uN3S66VquNAp8Ffrxer39hcPdTtVrtgXq9/mXgm4AvXei5J63ouuv2eb11IO1JwW/MFPnENz7Lh8Z38CN3vZdCtYyUkjAM+fM//3M2bdrEbbfdBnBFBP/Y448zv7DA5s2bqVar5PN5Dhw4wK5duy76nJWJ5bknnuLR+TP8xFaPTCqFbSmuVHTu9fbZrbA6LmP466mRq3ruK7GG/3mgDPyzWq32zwb3/STwa7VazQEOcP4aP+ESaSuFdegEdiD5qTvezZ6RSXLFAlJKpqenOXbsGHv27GFoaOiKOsYmJydxbJunn36aW265hXw+/6rPWRnPpm1bkOU8P/jsQ3y5pjgxpMhef5Pwm5Y1F3y9Xv9JYoG/lHes9bluFAyAgKDRprrYJZ3W3LFuG2PVIZQVf4TNZpPjx4/zrne9i0KhcEXHUywUiMKQL3zhC2zatOmVxw3nbcXli0UmBTygCzzbizjS7hGm0+c9fiVQZ+UnYe1I0mPfABgpCC1F+sEnubclWVcaYqhURg4CYCAW/LFjx0in02vmlb8Y6XSaVCrFN77xDaanp1/18cYYtNaEYUgUReSzeb79I9/KhkaIevpFlizBoiVYVPFPT0lCFSflJM69tSWJtLveEQLtBYStHu+ZgbdtKuC4zuoeuDGG+fl5bNtm9+7dF9wbf714vo/v+/R7PbrdLr1ej36/jx8ENBoNxsfHmZmZ4etf/zq2bfPY449jWxZKKWZmZ+j1e0yum8S2bJRSGGPisRlDFGneb4rcnN6KOGLRjPr0Ip+lsM/XvCWmZEhUzmOGSuiUSyglWQM2XLE1/41AIvjrnEgKrHaf3Ml5tgUWG+wsUkqkjI0zYwwLCwsYY5iYmFgNe70YxhiiKCKKIsIwJAxDtD67Jy5WE2UMURgRRhG+59Hv9/E8jyAI8H0fYww7duwgn8/jeR7KsgiDAB1F9Pt9nnvuKHNzS9x9FwyPDJHP5c4bRxiG7CkMsXsQctvEoY3PIha+8TiuQ7RJEQQ2gVC0o4i2bYgUSPnKrzHh4iSCv85pSsmWU0vc/6mnWbdrD8XR6qrYIRbwwYMHGRoaYufOnVjWK3+kxhiarRaNRoPG8jKzs7MEQUA42FO3LAtLKcIopFAokM/lKRSKlMtlMpkM6XR69fzvfc97Vo/7wgsvsHPnTvr9Pt949Ak+99lpHnv8BOlsho9u28He3Tsu+TV/H6CjiG6zzczpKeZnFnlx9jS/usFQLyqyhVwyy79OEsFfzwiBdWaWYi9ky9gkGLMqzJWZWBvN4SOHkVKuesvb7TbNVpOZ6Zk4yy2KVh8vhCBfKJByXYaHh1m3bh3GmNVtMyElgniGt5QVXwAGZrpSalXsF1o2CCHo9jz+9nOPYJXS3HTfbgRBXFTjNS4zpFKk81kmNq1nKBhj/bYt/P7xr2IWmuhiHmGStNvXQyL46xQtwAioTC1TbQWUiyVCYVYFvOIA63Q6zM3NMVQdotVugzF4vkev1ycIg9XHrQhOSomSEtd1yeXz5PP58yraXA6NRpNTZ+Z4+kgLba0jNVzg5OwUi40+3W6XdDp9ycIXQmDZNpZt44Qhoi2Qlo2JzuYQJLx2EsFfp4RC4EnJO545zdbIITWynr7v0Wq18DyPTqezuhU3dWYKS1k88sgj2JZFpVJhZHSU22+7/VXX9GvJk08/z1ceO8QXpjYzMTJJNkrxt19dZP2WWYbLNrt27Xldx+22Ozzz2JO0Nqcx2RTKmMSif50kgr8ekQKhQfk+Q76F1fY4GZxCKUUURUxMTHD8+HHy+Tzbt2/nZ37mZ0in0xSLxVXPvR4454QQV170g+XAFz9/hD/+1DMMb30HjjQEYR+yBaxUCsexX/fhjwVtfn7+WY5NbsCWWUiq6LxuEsFfBxhi8x3iVFflBaS8gHLLoyBsMo5EDuLilVIIIZBSYts2uVyObDa7eiwp5eqe99Uml8tSKRXQpoWMNJblcvfNVSbHi2Qymdd1zF63x0K/y9OpACkNisSkvxwSwV8PSEkoIRACTwjsE1NsmWnx1mMtRrIZhsbLjE6Ms7iwwNjYGNlslp07d6K1ptvtcvLkScIwxBhDJpOhVCpRrVZf1WO/ZgzW5T/90x/k277jDj72ff8aL7OVsY2b+R//8m5KpSque+nr93M5c+Ikp7rzhHfsJGsprGR2vywSwV8jjBR0pMQEIarRYuORGUYWe2yc9qiWyuSEQ8mtIP0Iy7FJpVLs2rULy7IIw5BnnnkGx3HIZDKsW7duNeCm3+8TBAGnT5/GceIAHcdxKBQK523nXS7xxabDb/23v+WJZw/xj/7eN9Pr9RFWhhPeOrZV02yrCkqlIZaWFjh1epr/8Sdf5OPf/SHuuG33JZ/nM2de4MHOLMG6SYxOZvbLJRH81UaAjjSmF1Bqebj9ELfns3m+x9iix+Z5j4qKsFwHlERl0ziOQzCIejs3nVlrTRAEaK3RWsce+ME6/5W2z9YKYzQHDy3x5QdP8aPf7XP6dAuZcuhGBfJZl5ECNBrLPFNvUn+xxczMAv2+9wrHi19bFEXoSBP4Pgfpc8gKsIRECJ3sv18mieCvEqvlqJQi6vTxTk7zwENHmWwbJuw8pbFhZLqI3hzviUcARrNx/SS+7zM1NcX+/fuZnJxk27Zt7Nmzh16vx9zcHIcPHwbAtm3Gx8fJ5XKMjo6+fAwroa0XuB9e28VBCEE6lcJ0NnPmQI9jx/o89ugJ3vauIYhKTA6nWT8i+PpDn+c//eU66qez/OvvuZvxsaFXPXav16PX6bBwZpbnx3O86FqUkwo5a0Ii+KuIlpL880eYXPC4a1YzUpwgVZTYSIwliMzLv9QnT54klUpRrVZXS0p5nscTTzxBsVikUqkwNDSElHGtOMdx8DyPubk5+v0+lmXhui7FYnH1MRfjYheEi6GUzYe+OUs6k0PYhgeffIYzLZfy5nW0/Hmeenaer34+YM+dmne8v8z9993M8FDpVY/rOi6zy4v8weOf58TdG/DLWTLJzL4mJIK/WgxyPUW7T6bpsbXjYBVSCCnRF6k6ZIyh1+vFs2k6vWq2A6te+nQ6jWVZRFF0XlCO1vqCpa3ONf8vZ00vRJzJtmNHhSBah1CSZt/nqQM+mUKB+V4Tv6UoFlPcXCvwlluLjI0OkUpdOJPP9/3VsQeez1ynxZOqR1sZpFSYSCfr9zUgEfxVpqckvm2hUjbGwCuVGBNCYFkW/X6fM2fO4Hke69evp1qtsnfvXizLwhjDqVOnWF5eZnl5mVQqRblcZmRkZLUE1Qpaa6JBcovjOKslqS5nnV+r7WLTps0899xzlCqj/M3DPXa8rcz+M30KToa//MQkGzZsoFQqv+JxGo0GrVaLdrtNd7nJ87rDI3duws2nKCQ17deMRPBXCwMy0rR3b2Lq8CyPPf88N2/YRlq56AuY8ueysu8+NjZGuRwL56mnngLidfvo6CgTExNs2rRp1XFnWRbz8/M0m02azSZaa7LZLIVCgeHh4TXdsrNth1QqzU98T417bz3FJ/7qc/yDb7mZ99xzE1u3Vi8pP79UKpHP54miiK8/8ShTXpPuUAlLyEEDy4S1IBH8VWJ1Ds2maJczHBrPsrHfQ4UaK31pBStWIuaMMasBOCtrdNu2kVLS7/dXTXnP89Ban/fYlSSYi83qWmuMMasx+CtLhTCMiKIQf7Bs0FGcOqu1xmiD7/sQLjKcbzKRXaBizWB7FgcPzq+OR8lzgoYcF8exV5cVK4k5Sghe1F0OKR/LKSKixDO/liSCv0qsfGczUURnvMTD33Yv237rYQgkY9s2nJeTfiGEEHQ6HWzbplAocNNNN63OnFprlpaWmJmZ4fTp00gpSaVSrF+/npGREYrF4uoxVsdzTobcuaxs9TWbTTqdDp1ul8XFRVrNJq1Wm4XFBbrdLv1+n3ang9f3CMOAD3/oQ3zmM58hnU7x/pttju57iGcfaeP1e0gpUFKSSmVQlkXKdRgZn6RarZBKpYi0JpvN4FgOjpD8WWqWp7IRpUToa04i+KuBECDjphEhYDQ4luGLD2ymNtPlm6ZapPPZ2IH3CsLv9XoMDQ3hOA6Li4s0Gg1mZmawLIt8Pk+lUmFiYmLVIec4zkXj6IMgwPN8FhbmWVhYYH5+nkOHXmRpaZHmcoP+0gz+8gx+Y55wWaAsH2WH2FnA+CBCLFuyOlzv7fTrf00gFW2lCIMIpTVprRECTKTptD3SY5PYlWGidI8/+fQ+zkzNsa1qMVrQZG0QoSGrFVs3beTYL/4UEhH3sE9YExLBX0EMIKQg8kKsbo/s/BJyegmCEKMhWlim2Qw4PacZWb8eN53GvkCJqpWEGCHEqqnd6/XQWuO67mo0nVKKfD5/nsm+YpJ7nke/79Hr91heXqbTbNBpNTl28jRLS0ssLS+xeOYYQRgShhFecx5/eR6/sUD3TA/H0jiupjBkIe0QS2lIu0ihAAkmwvSWCc8pPymFwOiIXi8CoxgdG8YuZYgsqNcPoYzHeMWlmBV4zZP4fgtpXJwlQ07bRBpWsvMT1oZE8FcIw0ColsKfbZB68STrP/1Vhv7mEey5ZbTv07Qs/FKehzeu4+a73sbwyChDQ0ODBhLne/CFEKRSKVqtFr1eD9u2GRkZYffuOEx1JV32paZ6EAR0Oh2mp6c5MzXFyZMneeLJp1g6c4zFqZM8WT+BBlxbsWdYM7FhA2Pj6+g7GYL8KF6lwMHZ/ehQEmlF1hgkFkIpjMlipI2QEoRCWPlVbcbj10RBh/kZjWXn+K4f+y7a3S6Hj5/h3//O3/Ir/+zv8s57b2Zqfpmvffp/cebYEaz0ENlj03TmPEJtUBKSglZrxxURfK1WGwGeAN5L3Fvu97mBOscawFgKsdDAfv4IN//Op6gszpGvCswGl2h8CK8fktUGW0DXm+X4Nz7FvtBmqufwbd/+7XGrqGx21cRf2ZMfGxsjnU5TqVTwPI/Dhw+TSqVW72s0GiwsLDI9Pc0TTz3J/OmTLJ45wfKhY7h2n0zaR9OlOxPQW5b82Pd+E2NjVUaqRcZLGWzXwbadODZAx9Vme/+fLoEX4AcR7X6bXt+j0/c4dmKaA88eZvrkNB/0QrqNFqmsIow00zMRkUnzno++l3d/dASlLD712YcpFdKUizn+5g9+kfXjw2TSLn4Q4XUUzSXBUBqwbYRlYWyJ0Rdw2glx1gtqSDrSvgauVLvo/wr0Bnf9CjdY51ghBCy1cE5MMfTo01RPnyTTaaOdNKGQBNLQk5pQCPwwJPQDlpt9WoGg1Xc49sIBon6fjdu2nbcGP3f2tu04vzwMQ+bm5gjDgCAImDl8hObyIo3FeY6fOEBjYZ7m/Cy92TlSlkeYiahOjjI5WWbDhjK3793K6HCZSilHLpteOdHZ8tCDWIEgjPCDkFa7S6fv0e352KkchBZDpTJOKsXo+vUIS+OHEU7WxXJyjK4bp9nzaDfapFMWw5Ui68aq3FTbCEISRRGuY6E9QdAFYSLC4RLhWAUhBcLEmtZCIIzAaI3u+yhMLHqpwI6XMCIR/qtyJWb4/wB8Avi5we0bq3OsEGApzMFTFB57mjv++/+EDRP0S3mW2h468gh8n26nTyAddBQR9T1CI5C2xUQenvrC51jefROV0TGKg84yxpjVbbcgCJCDMlVhGHLgwAH279/HM089yfEvf4WM7lNJaapbFGknRSaVRuwo0mm06Hd6FLe+hdtv3sHte7fi2hbaGLQ2hOHFW8BIKUinHNIpBznYZrtl5yaiB+4kCCPmRZX7v+mDzC02CIKInVsnGa6WWGq0+KX//MfsP3SC3/iXP8qOLZNUSnn8IASjMQYsWxF6krAHRCHdPdvo7diGLYjLbwlBpBQmNOggJJhbxiWuv4frIKt5hKVQWsOr7Hbc6KxpM8larfb9wGS9Xv+lWq32ZeBHgS/W6/WJwd/fBfxgvV7/+Euf+2ZpJrkSPZc9OYPyPJQ06JUqNJHGTbtYSmFbCrES2WogjDR+ENHt++gwAgRS2ZSq1dXuMsCq0JvNJoHnEfZ6sQMNMMJgzskXj48f3/J7EW7GJZ3LkMumV+PqLxpj90rBd+a8/wAIcTFBh2gguE63j+cFGAzZTIqU4+A6g+aW4vxjaaOZm1qg3+vhutAtlAjSaaJCFuOHSN8nvdxC9HyIotjSQayOQUiBTrv0R6sIS60aJ0kzyZez1jP8DwKmVqu9B7gV+EPg3G55eWD5Yk9+IzeTNABKQquLOHya+//DJyidOYOeyDE938W2LSbGC2zeup5yMUu1mMEZmKLGCFodn5nFJgcOT3PoxZN02h5eX/Ou7/w+RicmKVcqLC038Pp97rvvXv7sD36dxulTLBw5xlhZ4KYVVtoCYQ+UHn+HQj8i8DQpd4g9d+zm1vtuZjQ3HqefBiFBGBLplc4wEVGk459BAI4eXKhWqsjZtkU65ZJybFzXwVJxZN+C2oJuPM/87CJPPH+Yufklen2f0aESb7/nJjZtmsCRdixWvfKOxRdCLwj5w9/4HV54+nk2r/N55Ad+iNndexE4OM++SPboKbY++STWoTPIVg+UxAiBFqARaCNobpzgxe/4AN4H7sEMl5HGJM0kL8CaCr5er7995fdzZvh/fymdY98MGCVxl5qMfvZhctkQZyJFICUnTrVYNznM299xJxkH0BGB7+FFEiElSlnkszbF/DC1TSN8Sgqmp2dZnJmifuA5un2PbC7P4SNHOHTwILUd2wlOPsqQazFUK2EQxD628736QkCv6dNZ8vmOX/gQW7asY2K0zMJSi27Po9fzaLY79P0AzwtotDp0ez79vke378XJLJGm148TWwyGarnA+vEhxoYrTIxVyWVSpAalrcMw4szsIv/iP/53/o+PPMD73n4b733b7YOEnZUUXBlfj4yJXQWAY1kYA74f0m/49IeHiLIZhv7ss6z7iy9TmJ1F7ChiRlzUeIZ82kbJ+PVpA/ONHpmlGbb93K9zaOdGupUSQiWpNhfiamzL/Qzw22/2zrFCQL/VI3P4NJv/4K+xtuY47WseOnian/0/v4tb92yltn0SMLHjaZAZ5vs+/W6H2anjhIGPwPCOO7dx4FCGT083Wdj3HLMHDnLsc59nw/YUEzok7Ui+djQi5xomijBazmBLkDo8z8zu9T2KG8ZZd8ckB09O8b8++zCPPPUC0UCAZtDyacUZGGlFtlAkVyhSyGewLQspJd1uF9uOZ/TlUHB8qYGULTQnmG908H2Pf/RjP8xvfeJPWG52+bc/9wNsmhxlfKQCQjC72GJhqcXpqWkazTZhGDE0VGGkUqRUyDExVo3X6krRzJUp/s1DpOzHKTz4NWxbEG4s0IsUI0Ml8tk06UwK23VZWGjzlS88w021IcbHcuisYfHpfcgwov+2W6/RN+H65ooJvl6vP3DOzTd151gjACVJn54ld2aWHD1830Iqh/Ub1lHbsYlNmybIZLKD9We81g7DECcMsB2XMPTodzt0Oy3yQjJUzbNpwyiPPnuSIOySTjsQlElLiZJQyNhkbIljKXp+RCPU9ANN3hW4lsRSghNNjYtPVnY4tXCE/YdOcOjY9GD9Phj7eT4ci7avafUCmq0UllJIKfB9H8uysG2L5UYHg0AbQxhpWj2fMAxpd/soZbF7+wYmx4Yo5uPCmocOH6fTbtPr9Yj6TTqNJSJtyG6YAAF+GNDp9UEalC3pGIk6fhrXgOP1KY2NkClmUY7DUDlPKu1gORa27eAoix21jVhWhyDyyRTSlJ4/TCRcem+//ap/D94IJIE3a4Ag9iKPPlVn+NBhMrtKnFlqkc1l+c4H7mfH5nFKhSy+78dbTYPnrSSypFJpSpUqzaVFTh57kW5rgdFqnnfcu5OvPj9FZIdkxzIgLRwlsKTgLetToCy0sDgx22CqGTHbhe1lSTlrk89YPDpl6J+Yw0SzRK02lgVOKk3KOf9jP1f0UdintdSlsaBXE2mUUqt59EEQnPfcXC6H4zg0213eckuN7/jmt/K1x/YRRppmp8vXvvYNRgqCUsaiWszRlm2MZXPzzs0sNeI9/fnFJkKFOGnJsq/RR45iCbCHS0xumWRivMKm8TKClcQeH8uyEZMVbr95O5/8s79keaFBdnyc8a88jWqFTP3977jSH/sbkkTwl4uAUGv6zR7Df/kVRl88gtmcw1toMFrK8q777yCXTeP7Aa1Oj5Nn5vCDEEtJtDZxmL2UbFo/Riqdobb3Fo6/WMdtN0k5DSZH87QabRrtPpPVDCvOOG1ARCECzUTRZbRgCLXAdRyOzXX4+qEp0m4WR2mCKIBcHLIr5CuvbVcuQhfbvbnQ/b7vA9Bsd5maXeTgsSly1lFyjuamzQWUiH0K2kA+m0ELi9PTCwxXClRKebq9PiaQLC0GPO31efcdm9i1eZg928YoFEpkMllKlSpuKoVlO7huCttxkFIhpOTQyQbHDx+hNXMcFXhI38OfW8KY8ZWQv8v7jN9EJIK/TIwQKM8nfWKGnNcmIzw0WVLFIoWhCiPVIn0vbvnU83zSbrw9pZRAD6qwCinodHoEQYjrOmTyJXw/oN2doZRz8HoW860ekTY4557bAGhsCbYQCATNRp9COsfNe4d55sBxoiCM26y/Sk+4S7nvQkSDbTIArQ2+H9BsLJAtKJyUTcpWq8FwxoDr2EQo5peaVEp5HFvR6wuWQ0NXKW7ePsGmySojQ0XcTB47nUcrh9MLHQp5SSolSEUWTihJuZJyMc3Q8DBLi4tMHzmAa0dYVoTp+6/tg7xBSAR/uUiJ1e5ReGw/haLGjVwiHVLeOsnQtvWUCllePHaGXt9DSsHGyVFcx0YbjVjdSzbUD5/G8xurs32j1ePE9DKj5SzNVp9DJ5aJoovMuiv/GMPUkSVuu38z7/jI2/j+n/kVPC9ck8o2LzvnObNm/KuI1/Y6ors0TXZ4HcOVPOFLik+mUw6hlkzNLrFhYhhjMkSR5nQU0cq5/Oi33IZjgZAWS30Lq5AjCAzPHjjKaLVENuOSdmxc16ZSzFPIpxkaKjM7lWdxqcl4RqCyEfQ9SEGSe3M+ieAvk36oKRyfYtsv/xGpTWm06xB4HXbfsYVNmzawuNRECkExn6VaziOlXO0Ae+43cfvmCWbmlniufowoiigWcnz7d3w7tace48nnjwCglCC6SLkno+OZdv09e9l59x5u27OND7zjDp7ef4T6kTPkcrkrUrLatu1B9RxDt9ej2/fYsWGYfCa1uhV3HkIQBD7HDz7LLTvGEbKC5wUIIZGWQ6QKjGyYpFopM1SpoJTEGLi5tpGjJ6YRAnZv30jf94kizez8Mrl0ilwqx/IsDFdih6jRmkTpLycR/OvEAEiBnGtgLyxQjBpYIoU24Ht9ysUcuVyaZruL69q4jo2l1AULVgoBM/MNuj2P4Wq8JZbPZsjn82zYsJ5mx+PU9Cx02kTRhSPHtNFEUcDEhlEqQyVcx+Ke22osNzvsP3RyYAC8tqq0l/Y+COQgctBSCt8PKBUyuI4iDosZvMBz7BmBJm15zMzOY6SL5/lsXj9KqZBh08YNDA9XyeWyZDOpgfViSKUc1MDvkU67SCkIo4ggGNTgF/GSQkdgjBgsYUSi+ZeQCP51IgAjJdaxM7hT0+Q3KnAgCCO6nR7FfPyFXVxusXXTBCnXuWBxixUpPP/CMXLZFLfftA3btuIa9lHE+ORmgsjQbc7x2CP78S9Sn11HEUHosXXTOoYqRSKted/b7+DU9AKf/cpT8XbgK4XSvgbO8+prg7LUapx9r+9TzKWQahA3fK7YBegodlSOVlwOHz/Jkek260bK3H3bDrKZFHfdcVOc86/1apgugBKCYBAJGJftkiglyaRcZueXibRGWWBC0JFA2K+/eeWbmUTwrxMjBIGU1H7nLxk5cBAxMYJRFlG/T3sJUk6KQj5LmI6QQlxQ7EpJZueXefbAUW7auZF8LoOlVGySDh4jpKQyNMreW+/my595Aq0v3CQyCAy9riRtWzh2nGyTz6X5lvfczYaJEf7pv/9DfC9YXc+vBbZt0+l0UCYgn80wVM6zsLTM0489xvimO8iV19FYmOb5R57i+NGTTAG7997Ezp27+LZv+1k+9Zf/m/mjp9m8fpT1EyMU8hk8P7joDoFtK9RKae1zOkrOLiyx3FqiMgrhFPg9GzVSgUUSD/1LSAT/OjGA0Yb0cpPUUgOzfpggMviBJuiBEpKUY4NjX3QrrO/5BGGIbas4wcR1Lvg413UpV4YwBqILzPAC0EYQhPHIBICJ/x+qFLl51ybecc9eDh6d4uTUApZtIxC8VuveGEO04m4fZO8BWJZaXWt7QcTkxAQGTa/XZ2h9jS1dh+L4drY4Dps2b2ZoaJijx6eoFjPkrQoLiy3WjVbJZ1MX3w7ErHonzx22EIITJ85w5swMuXwO5nyMVAgnKZtxIRLBv15MbJ7KKMIe9GHvBxF9zxD1BUpYuK6DY1sX/BILoNHsEIYR4yNVnEE76Jc+1hiD4ziUy3YcaBMGK3/gXMXqSBAEDEJmBznkOp7lc7k0P/zdH+BP/uqrHD52GqkspOSc6jSXqHwh4p0CHYHWSBGLPZ2JO8P2vLg81v133sG+Q2dY6i+x9y3fzs13vR2lJMVCYbUe3+/+1//C++7ZylCpzJcf2c+eHRtIuc5FU3SFEKshwatv4GBn4MALL3L0xWOsLxZZynSIbBustVm+vNlIBH+ZrOSGQzy7eX6IieCV8ksFcbDN0ZMzZFIue3duumgVWVhpSCEZ3ryF1uL8Bc1UIwNC2abR6dHt+4M+8dGqQG7ZtZlCLs1dt+7g5//dH9JqBwhhkc9fWolsz4vFNjGS471vvYXb926l6wX4frBaB+/p/YeZW1zm6KlR3nXvLdy3cYzm6S9y/OgBFhZO4/dPEVEmnRvjez/0nkFhjYDdOzaQy6YuWsBTrATuaL1q4Ugh6fT6HDs9h9OfoSqWSZs8T3z3e1nYuxM7aV5xQRLBv15E/KUzQmLk2cR2IUE6gBoYn6+whtQ6Tju1lCR4heITKwvWUrWCDnrn3HMWqRTScnj0mUO4qTS7tk2edwTLUowOl7lFCD763rt54cgZjp2cp9PvxdF1g5z781LVTXyWMILhcoZSzmZiJEcpAyJsU3QkbjGDslxsW7F76wTt8QqFYhEhJQuNNovzS1h2mtHhdSiVA/I4qRLlQoYHH93HcqPDA/fcRMp1LnrB09oQhD6ObWOs2IJBQGO5xUMPPoLf93GkQ2+6R2fTJP2tk3ExjISXkQj+MhCWQNtWbEIagxICqUCl41RZI8UrhnZaKnZCRa/y5Yy/4Iah4SpBtzHITT9f8lLaKDvL33zxcbLZDO97263n9Y6LIk0+m6aQy/APf+Rj/PUXH+NTn32YJ58/gnEclGW9zCaJlwUaz1dsGM1z05Yyw5UMUdDk5NFl1g3nGS5uozJUxHJs3vvWW1CWTRAZXjw2xXMHT+AFmt3btrFurMpYNY9lW2gNC4vLfPYrTzM1u8j3f/u7kVJc9NqotaHV7pJOuVgq3oKLIsPc7Dx//cm/YdeWEVyVZ/74LL3JdQSb12Elgr8gieBfJwKQGLrvvpPORJ7yif1kHEVkWyyGccWXXs8jlUtf5AgGx7YuueWTMIbR0SrdpRlWF+lny86hpCBtK3YORyxNneD//ZPP8z0fexeZtLtayGKlGs9wtcSH33M3t+7eyi//9p9x+MQsU7PLOE7sNFzZrzeD0le2MviRxCNNujSOa9s4jkUqk8NTGRp9QxXB6dkGC0stnn3hKEPZkEJKMJQr020scMzvc/yExACeH3Ds1AzTc0sA53S1ffmyRilJp9vn6f1HuHnXFqrlPJZSfObBb/Bi/UV2bymRNh0WRoZ54me/j2jrBG7KgYvEK9zoJIK/DIQxLEwOIxoLTL7YxXJyWLZA2NDu9Oh0+1TymYuYqmIgQjPYpX6lNadBG8H8UptWp7/y9POQUuDairTj0G01OHLwBT79pSwb1o2xft0IuWyc7iqEoNnqse/gSZ45cJQ9tS2sGxul2emSct1BzwyJ41jIQVsoJRUToyXGhwqMDpWw7LhllWM72LYVb5cpST6boe8FFAtZ0qpFxhVs3bwRy00jlY0REkwcq+DYim965+34XkT9yGnGhkpksi72SxpndLr9eG8/nyXtOhhtOD2zwIlDh5g/eYyU49Ca82hWMvTv3ovIZ5LGFa9AIvjXiTAGpTUz42NEC7PQb2Glcti2RKVgudmi0WizcazKxYzLlZTTV8MYiHTE6ekFFpc7XMghqKTAtQTKStFtNmgtznDk9Dy337qHd953G5Pjw7iujVKSY6dm+dxDT/GZrzzNv/jp76GYT+PainwuhSUllmVRyKdxnXiXYWV9vWIpYMzZ+H3i4cyhGBkqoiwRO/FaZ8jYmr037R08Vw9mcTFwwsHb7trD4nKbT3/5CW7ds4VxVcHJpVdNeyGg2eri+QEbJoZXA3sOHDzB6Rf20ZifpToywmLLYYEC+p69WFEIFwlOSkgEf3kYA5vH0bPztPYbMrcaLNeiWClw6MgJ7FSK23ZvXq0Pt/o04n1ly1JIJVcTTC60O6akZGG5xYnTM9x3xy6OpD20DjFaI5Q853ECJRRZV+GrNF7gYJseBx59lH0PfYPjQWpQTDP2eH/kfW/hf/2Xn2NirMpyo838UoOZ2QUCzyeKAtLpFLlclkI+x/bN69Fm5eIkLryjoAa7CSqueWdEhbQdWy5hGNJsNnnkkUcHKboKYafZsW0zw9US3/mht/LVxw9w7NQs3/TA7ecdu5jPYAxk0imWm23qz7/I7/7z/8rk9jy5dInZx+fY/+9+kuZde3AvVMM+4TwSwV8OxiBTDhSy9DZNknIkltTkc2lOHT1DPpXFC6ILb6MZw3C1iB+EnJqaY3y0gm2plz00CEPCQQpqOhWb0Bf9VgvIOGpQ703gBxGhMfhRyFKzhUbi2BbvuGcve3dsZHykxPT0DO1Wg067RdTv0Gx0aLQ69P2QTDpFIZel22owNFQhX8jjB5p0yo1ryevzL2KubZFybcIwIpfOks8OZuT6QQ4fOcGXH3k+7qDj2GzfOELgdZkYG+auO2+nkE2hhAAhkTIuqtnteUC8xtdG89STT3Fw3yGyBYHf9GmVyxz/zrvxd2+GoVISVXcJJIK/HAwo10KU87Rv3UZh6RTpwKOQy/DCkydwlUur2yebsuOabec+1cDEaJW5hQb76scZrhYvGKTT8/xBswYbc1503IW/3FnXwlYaSylaJkAoC+GmUK0OyggKaZfv/dgDbNkwhrIU++svYrwGVtQlNJKFuWVOTS9zcnqBtGuRTTucPHGcvXt3s3nzJjo9n7HhKikn/7IxOI5NOuXQ93yGyyUKxRxzCw2++vVH+fqjz/Dgs/MAlHIuH3vHFmanTjA7Mcadt9/GULlAPhsSaYkSGm0MrU6PTCqOE2h3enz1y1/lxJGjbN42zNTBFjPryhz8mY+TKmRwLZXUpL8EEsFfJirSdEarPP69H+Udv/HrOLMLiKER9uwokilqPvX5b/Dhd72FoVKOIDg/Dl5rQ6mQ5c6btxOGEd2eR8p1Vj3kYRjx7P6jlIs5du/YyOHjU8DFt68glqBjSVxH4jo2JxY9Tsz3eN+eCr1GF6/dZ6ScJ5VywRg2juRZXvKYmW3xi7/1BTo9P05cGSS5xH3dj2BZj5FOWdyxLctdb7mLm2+6iTtv3hGfcxDGu7jcYmZuifnFZcaGy0wvdvnBf/grdDrduPHEAM/z2L/vEO98621s2zSOZVu0un0Wlpr0g5AwCLCUZGy4jOs6TE/P8Ynf+VPs9jJDrsPBx+ep//v/i/Y9e8mUc/HVMxH7JZEI/jIRxsQ58BvG6CqHbiTIGo3rWvS7XZ78+tPctn09SoxTzKVftuceN5ZwCKNodXuq2/Po9T1a7S7D1SLFfBYlFVJZKHXxj0wIgQT6kaHnhfihwVWC9RWXjC2xMgpXxl5u23EZGy4xPDqGRtDshtxam2Cx2aPTD/FCsC0Lx7EoZNNkMmlyGYcNQzZeYDh8/Ay37dl63l6/rSSua5NKuRw8fIR+r8e779tLGMVBSJYlSTkWGUexrmyxbct6hoeHOXZymnanjxCSajFHFGmUFKRch30HDnP86HF04xTLlkN73UZOvWMP3p4tUC0mBS5eI4ngLxdjELZCjVdoZvI4MkUujLCUzfJil2eeP8bBe/biuDbF/PqXfT+FECglUOrsXnS702Wp0WZuscHdt+4klXKIdEQQRYQDx9lLPfViENVnkPT9iKVuhB9qKjmbzUNxc0g7JbBdi0NHTuE6DuVihlJ1hK5vyHcjvuWBPZyZazOz1GO5B9m0SzabYny4Mug/lwdgX/0YJ87M0ev7pAd56gZIOTa5TJpsJsXjjz1Hq7nMj37fd+FHsePctiT5bIq065BJpwgiaHd77HvhKFpIctkMGyaGYusmipNvHn/iWQ6/8AKpcIET2e3Mbd/F6Z/7AVwxKPeVhNC+Jq5U99ifA74FcIDfJO4t9/vw5uwgK4zBiTQv/PjfpfqNZxn657+OtWecaiXDA2/dyBf/51+w/+vred/HP8qtuzaTSbmrjrhz6Xs+jWYHbQwjQ2W2b16HbVn4fshys8NP/MJvYgctfume70DIs/vVgrjBg0bwYH2JSs5h41CKnA1CmNUqOUo5GKN59qG/4eGvZOiLPB98/9sZGSpSKZa49c77uU0IDIZOp0+z06PR6nDg4DFM2CfstXjPO+/jptomOr0+X/jaU9yyewtbNozH+fta43k+s/PLfNP7383kSBkT9Fg+dYzTp0/y5Ycf4bnjEbMtgeM4rEMw5MK68ZBNt93Hph01lFI0211OnJzij/7n/0YtH8aEAc+UbmL6H3yc3t5tpNGIN8235+pyJbrHPgDcB9wPZIB/yI3QQVZrzFgVf9sGztx1M2PBHG7UR1gp3JyF5zV57pGH6DaWGRkZZnLdKPlsamASx2FztmWRy6bjfpSWhbJspueWOHn0FM8/tZ/p6XmqGbHaE26lAKYXChq9gNlWwGjRpZBW8Z68PBtddxaJJRW67+H5Ec8/+RTCzaDtFI5jD1JrNX4QMlpyGCq67NoyQbGQpVTI4dg2UgqkhHTKRclBhVsR98eLtKaQy1Ap5ilXing9m7GJ9aSzOfoRVEcXmV3sstzqY7U6OFGARtJsdZiZW6R+5BT7nzjAmWMniBZP0RQ2jZEx5t/5LvwNY5BxEcl6/XVzJWb49wPPEQu6APwj4Id5k3eQNcagSjnCDWNMv/0uKo98DqfZJFQZymMlAq/Lcw8/yMm5Fpu2bsVxLJSo4Do2chBdJoUgk46j3cJQ0253OX5yiicfe5bP/tlnaHc11UzuvHLT2kA/NMy0Qg7NdPmmvVVStgAdXdTadZ0smdAjDHxeeOZZprqC6Z7AGE0URWgdoaTiHbeO89ZbJ3nr3XdQrlRIZ7IEQTBYhiiqpXy8e2DiZhxax971ajlPNpsm5brYlk2hVGHSaDZs3Mrc1DHmZ+eoH5/mzJFTtJptHAuarQ7h6RmezaT44ie/wPypk+zYk+J0aQuzm3ez+J3vxcGgkqCay2JNu8cC1Gq13wY2Ah8CNgN/CRTq9fr44O8X7CD7ZugeGwF2qCn2AkSrjwlDIhMhtQecDQqJO8lGREJgWTapdGa1Llscehr3jPc7fRxXYAREWtDshzhKsn7jRhpzZwgjgx9qhIgDbyx16TngZhAqF4RmtVGkZSscy8J2LNLpuNWUUurCEUHG4IcRlpRxYU7hQthdjRy0LHWeQ++8p2qN7wcszi/j9X1SaYUfxkscx5KYIEILgZfNEVSK6JTzumrxJd1jX86VmOEXgBfq9boP1Gu1Wh9Yf87fL9pB9o3aPVYDPSnYsX+GieUeu72IfZ5Pf26BzLP7GDryNLbXQNoGpCIINV7fpycV6WyOkdExbFuBMUQ6YrnZo73YpHFyhlJZEISSTtfl8XSeiZzNv/nFf8u//79/GikFKUvgWIKsLcmn1QVM+AuzEia73AlotnyCQPCx73iAibEhhqolSqNxYwxbuXHJrQsU5uj0+jiOjW1ZLFpbsNoHaHd7dNptxkeHKOZzLyvauZLX3um3+NqXH+ZQ/TBh7xizyz5eP6LQD5l/y020tm5k6ea9tDfuJBwqvq6ZPeke+3KuhOAfAn6yVqv9CjAOZIEvvFk7yBrimT2IDHv2TzHa8Qk2DbPv3k30prNsO1YnFWgyXoRlB0iVQVkO2UyGLIDRtGZPYkyA1hFhFOEHcSWX4ro0oRfR60KrrclsH0OJAG3g0EyX0WKKWzbkcaXGGM0Fy0JfBCHillWFtKLXsggii/vueQvVoQqpVHpg2l881l8IQT6bPm/Hwbbi6rWddouwUrzw+zXIxCtXKux9y17SlTTf+PR+LGET4dDo2Rx5yz0s33cz1u6NyCBKzPg1ZM0FX6/X/6pWq70deBSQwI8BR3mTdpCNlCS/3OG2p4+il5fYX87xpbdvIWtbML/As90e9b/7cVQlj3AsRmYWSbc65BYayIVFVM/D6XlEKYfItggdCyEkFHLo4Qoz1TLtXIZOOoX3M79Kut/BGMP7dpVRlkCJEGNeORjnYhitCTpz3HP/Pey54z5GRoaRUr6sf9xFn/+S2ynXIQh8Xti/n0qpwPDwEDq8WNHNkJ1bJ0i7kk/+1Qj5qQX05CiP/M2/w3YVjhII79LGkXDpXJFtuXq9/o8vcPc7rsS5rjUaULM9qn9e58Q7N7GwbQTLlqhWF31mgfC5Izjf8k7MpnG0EjSrFXq+T7PbQ/Z6iCBCBSHaUmgpMSruGY/rQDZNO5vBt20iJdmQkQwbg5QC246DbPR5aWuvgcEVQubHqI6OsWnT2AVr6r0W5CCGv9nu0u/3iS4i9rOPl5SLBd73rvv46l8/zAllo0s5iEKEvnAOQsLlkQTeXA6D5gdivkv+b47wjb9zO4vbx8hqg5yeR5+aRZyexyrlkJPDRFrTGY2dcFqIcwpYnA3HEed8x4UxSAZmsBcymRFUtEAJwJiLpt1eCsZojIHs8EYqI+OMD5cvWkDyUlnZLmx3PXo9j8D3sJxXqplnKOQzfPP77+eR54+z2PWQXgAifm0vDy9KuFwSwV8WArXcRodtlnZDOJJBpB3EQoP2z/46MpOm/Ff/kWi4hAmj1dLRcbWcSz4FCElkK5j1wfPXJJK0Pd/Hb4X80Pe9k4mJ4UvKy381hIDIwHQT5pcaLC/NMzw2+QqdaOOLRCGX4ed+5Ft5ptPnp77yJO2btyKGi+SD68/D/kYnEfxlIpxBLbiZFtXHD5J58Sjq0X2Yt+xCb57ADBUxSqyK/fWgtUb7ESqMkGsQSmp0QGGkSnpzhfHRIXLZ9Gty+L0StmVR27aRKOgzPXWa4bHJV32OMYZyKc+udIq/3+7z16dmOdpo09k8QcporMSyXzMueaJJuADGgGuDbRMGmuKhU5Qf3k/2L79C6q23or7pfqKUfeF97NdymkgT9TwsNOqyDPmYwAsojlbZdNseKuVc3DBjLTDg2BY7t23E6JCZmRn0JdSWMwYc12F9Ls0PFzLsnWtQPj5D6Plxnf3Erl8zkhn+MrGUonPHFh753D/B8gOEJdE//3GMpTBCXH65JSGg78PCMqnxCKdzeYczkeHUgQ67dlZ439tvj5tLrFGoqjYGpRS7tq3jiU6DmfkFTh8/zNDYOrK5AlF0cSeeGTTWcHNpfnFylCPLTX7z9/+KJ7/5fpY2jFN4FQdgwqWRCP5yMQajBLqQRvsOSDApJ3afX6aX2QAIgfRD3EYb5QhEEBtlPT9ESYFjXXpLJR15mMjn1nfewaZdm8lmLq0JxWtBCMjnMpRKZXp9n2PHj6OcFEpZ2M6FW2mdizGGjK1Yn8vwbVsmSR85wwsLTY7dugNXa1Tiub8sEpN+DRDEoa0mbWNcO57V1+iLaQAZBGSW2yhLIq34I+t60WpY7asfJL74aB1g8Ln97bezYcdG7Esskf1aEIN8gEq5SLFY4PTUDAsL83TazUsOj5VSUMmmeN/2Ddw3vcjegycRPQ+jdWLeXyaJ4NcSc/mz+kvRUpJbbrHxwBEcmUZb6TgkthvQ9aLX4AjURFaRILuF226usW60QniFardHUcSmyWFu2rkFzxnnyJFj7Hv6EXzfw5hLqNJLHN9ggI/dsZMf2zzBd//B35CfWaT1CgVAEl6dRPDXMSu789bCItmnnkKEGmS8K2ArgbpIV9oLHag516FarHLPvXfgOvbrSka5VIwBS0mymRR7a5uwMhVmW4IX9j3L8uICWkfnNJ94heMASimGchnev22Sew+fpvb0QTpKkWzYvT4SwV/nGEAsN8gcODgQvAQEtpLxMuJVni8GQTp+zzAyNMQdt+3BUuqKR7EJIXAdm+2bxskVh/DIcPLkCZYWF+l1O0RReGk1+YFcyuGerZPcPbPIriOniXoe0WUGHt2oJPbR9cwgx1z2DKkzPr1qhJ2Rg+4wl7bbZ6IQAex6z9vZcdtuNq4bJgiiK14GbjWoJp/mvjt30utv4cjxaV48+iIvHNjH1s0bGB5fT65QJpPNxo01X1K/f/VYxCb+t92+i93LTY79t09T/9D9tNcNUwgS7/1rIRH8dY3A9AKMH2AG+eLRoP+7Y0ks9eqK77Qius2Qd31sG5Pjw2sWYHOpGAOWlKRdh/UTw5RzFmHQJ5dJEwQBi3MzzJ7uYqfzOG6afD4fV94RkiAIV2v9GWOQSjDqunzHcJHfnV/muAEzXgH9+oOabjQSwV/v9Dy0F6CNxhJn+9HZtsRS8pUtc6MJfAgDh+2b1lGqFFf7q19VhMC2FEOVPJVyPm7/7PVpLC3Q7bZpLc3i5kOclE8YRmRzWWzLIooMlj0opDHY4y+5Fu8dLfO5uUUWPY9g3RBKJyv6SyUR/PXKIOjeLLXR3S6RA2lX4Yk4wCXrWK/YYhkMQX+JnXfcRO22+6hUS1hKvqwgxdXCAGZgXUgBbirFyPg6EAIhdjM/N8upU2f4/f/xpwxVylQrVbbXdoMQWJailE+zfmKEbCZNZsM6vvV//jFjjsUfvWUvBQF2sj1/SSSCv05Z6Qadb3dwu328yKxGo5lzH3Sx5xs4NGUY25ll2+Z18cXhOi7gnsvlmZxcxze9951IZcXltntdTpw8jtaGzVtrtDp98tk04yNVxsZGWW/bODPLyGIGbJnUp78EEsFft8RVb7KdHm7Pp6fjTLSVC0GkDUguuLUVO+YN7SiDcgqMj5TjiMDrURCDJUo6nSaVSpHNZmm0+zRbHU6cPMXiwjxBpBme2Eyv36fT7ZHJpMmWyhSkQs0tIbIOxnER1+ULvL5IBH+dEofVwvBig6jV4XQEZS/CduKd1PmmRyZlUcrYL6tOq6MAgea7v/v97N21FUvJy851v5JIKZBC0Ol7PPPCcQ4eOUm35zM5NsSdd91PLpemUiwglURHmkazw7GZFif9CJo+ZqSIyKUhWcu/Kongr1cGa3h58gyelHTedz+tmRfJ9uMy0XFejqYf6EG12rONJsNAE/oBG9YNUynlL6uKzZVipViGH4Scnlmg1e4SRppyMcddt+5CCoFrK6QwSGGw8NChRhrIuYLa1knKQUSq4/GpIGK67+PaKjHrX4VE8Nc5+tQsoRB4d99E488PInUQb0GJ2Kz3gghQKEncbhnw/YheJ2JkqEQhv3a57mtJGIRxOynPZ6nRZnG5hRQwUilQLeWxbUm306HX7eEHPp1ufzVYSFkW5XKJkhaUg4gv9n3O9DxwsklZrFchEfx1SjxnQ/OZowS1TaiPvJX673+SzWGElIIoMkRRvKLv+REZR5FLx3nti13DyRnN2FCFUj67Zumvr+91ENfoGyClwPcCDh07zcmpeYyB++7cQ9q1MFHI/MwZXtx/kEZjmdMz8/Q9gx9oup5mrFJFSphbnmPLuhLVYpGh6jrkyWlkx4NijmSKf2USwV+nSGMQWtC4azdsHEeWC3hK0Q8EWpt4D564pt5cs08551DI2ERRyNjEEONbh7HXqrDF60DruItNrx+X5ArDiPmFJSIdF68sFvJk0i5GR3Qbc0wtL9JstTh+apb21CJBp4eJIma1hZ3JsHfrRkZKRcIootuLaPcidNRAt/sEd41hKvlr9lrfSFyJ3nI28AfAJuKS7T8MhLyJm0leGQxSg7drM3KsipVx0a5Lv98m0mYQWhtv0S22fZxB2qzRIeVygeHNm7BeQ678mo/eGKIwYnG5RRRpwjBkfqlBpMFxbEaqBXKpFKHvcfLkMaZOnmJpaZnTs230fBflRxRSDpEUWBbk7BTlfB4/1FhqiTBq0/ZD+kGAl3UxxcScvxSuxAz/QcCq1+v31Wq19wL/CrB5szeTXGNEZCAIcPZsxhSyhJbC3ThG80CXXi9Aa0Mha+NYkhOLfYSUbB3V6Cggk3UZGx0e7NlfPRGslKleoR30efSpffQDQzqV4oF7byGbUqADpk8cYWZ2mjNzi3zp6WOo6R6ZCLZvrDI+UiGfsklZkjsELHV6fOkv/op3fvgDuIUCs41Fdk26dMpD/OXwFhqjo6h8Gq7jnYjrhSsh+IOAVavVJHEzyQC4hzd5M8m1xmDQUiLGKnGNemOglEdnMmhiU37QtBVjYufdcscnb2lsJUmlU4Oe8Ws7rhXvenwjHlakNTrSnJyep+d5YMC240jAu27bTRiG6CikuXCak41llhtN9h8+jVlqQz9gVyrLdDqk3w85udwmNIahwGVTOUfKVowWMrx1xwb01ClmzsBya4knW2MsVnPsu3MXYTaVdKe5RK6E4NvE5vwLwBBxU8m31+v1la9eC7hwH6KEswiBliDzWYwVx5I7mRTCjT+yMDJxTXwR72H3A81iOyBXNJddNPNCrGztBUEY1/nArPaJC8OIKK1ZbrbpdPtoHWFZFinHYmyogNeP6Pg+h44eo7m4QKPR5MTJZXK9iKKQbF1XxeQDllQfL9LMt3sEYUQ57WApl7St2Dpa5tT8MkHfw9YRs+0+U55merRCSRusxJy/JK5E99hfAbx6vf5ztVptPfBFoFyv14cGf/8I8N56vf7j5z7vzdA99soRC9g5PQu9PmOj48ycPoFlSWwlWeoEg55tUExb2K6L7aYpFbJI8eo585fEQOSeFxAN0liFEHFKKwY3U0L77dXMtjAMCIKQXq+L54cEQYQXQcG1SdsWrqWwpEBKgRqM0RiDH2kafZ8g1HERDcfCURLXUqw02dFG0/Z8erZNa3goLhUuJS81Z66Pz+7lvNm6xy4Rm/EAi8Tr96cupZnkG7V77JVGS4kRgr3/+bcRLxziJ378F/jlX/gJKnmX0VKaLz4/zVInoBdoPnRLlfzIOjJjm/jpH/gWMinndZeyEuLc0N1YyO2wTxjGjSallIRhQBRGaPdW1OIzGGMIvB79Xo9ut8PJUyc5duIMM7NLnDm1wDrLZjiVYuu6ETIpB9dW5BxF2lZIIegFIdONLotdj9lWn6lWD1tK7pissqWaI+vaaK1ZaLU55mk+3bN54Z98P93aRtIvqWx7PXx2F+LN1j32PwK/V6vVvgo4wM8Dj/MmbSZ5tTCAJQyOrVBSIJUgGqzds66i7YU0+oaur/GWO4honnCQQ/96CcKIKIxWZ3RjYsecY0ukiPvGGys269tCoCxJFEU4toVjZchlXFzXJZcvMDm+xKbKGUzTQ4WGyLFZ7ngoY4gKaQBSliJjW2wfLtD1Iw5ZDc40Y/EfXWyRcRRD2lBMO4wV8qj5Fjc/+Tyzp2cJRytEhSzqGsYcvBG4Et1j28B3XuBPb8pmklcDM/ghjEjbEsuSFNIOoTbMNPqUcy7dwDDfiZhuhjTnZlj2F5hbbGDbEse2X7PwhRBMzyxwemqW2cUG/V4f3/NhcNGxLYWtFJYCW0m237eF3uwZ0imXdDqD7aSxHYcNm7Zwu+sipaDbadNstlhcWuaxZw/yzJ9/hc6pOe65bwftfIZMyqGaib3zOdfi9skq24eLnGl2+fSB0xxdbDOSS/EtezeQsRWjIwW+/SN34n7tcZ6Znufz3/vNlPwA+zqMLLxeSAJv3igIg/E8CEMEgnzaouNFNLs+YaQppC22j2YRQpBWGuUGPPSVB7lp70727KphO+5glr40MRhjGKqWyOUyrO/28Pp9fN+j1+sRBj6h79NuLRH0PXpRSBD4HHjhYFygA4llWdi2Ip9xqVZK5HJZ0pk8QirymTT33XkLe9dN0l5uMre0wLFnnsU/2WTn5CSlbIqMa5NzLFxLMp5P88Hdk5xe7tDwAv5q/ynetnmE0VwKW0lu7zVx56c58OwRehtHCNMuViL6C5II/o2AiENt9aCNshCQshVBFLeO9vsaR0lyBRs/iJC2JGU0zx04RDabZuO6UbL5Ekqp88JcX41MOkU2k6aUzxD4Pn7g0e308Po9+v0+lvDp9wWB7wPg+z59L/5REpQStB1Jv7NMLpsjXxoilc7gptKUy2WGd2+k7/sE9aOoY4cJ+z1aQhL1AnpBhF1IY0lJ1rXZnrKxpeB0s8eJ5UWWej4Zx6KUdhjXAd1mgy37XuDQSJFuJoWVhNhekETwbwBWylVHkV5Nm3UticzYOJbi6OwcpYzDWClNux8iVbxX/rlHTtH3BUOZgHUbd1AZGqVUHY4Pegmz/dmqsgLbTeGkUuTypUG2nkApRRSGcRSdzPPAO95Gv9dhafY0YeARRSH9wDC/3GVqfhb/xTMYo7EtwUg5Q6WYp1AoUtuwhb0/+N10eh7fePoFDjzyLHq5ya2bJxjJuWQcCyRsrOSYLGXZPVrkqVMLLHb73L1hGCflsn5pgR/9g//K/3fPJhqVImvfU+fNQSL4NwIDXcrFeWSzyco2nSUFGUcyUU6TcS3SjiKMdFwow8CWkRRCa547skihuIDfazJ75hjloQnS2RzpTBZ7sL5/RXN/4Kk3g32x1S05c/Z3IRWFcpV8sUS5Okzge/i+R6vRwEnN0e12wMQpvNoY+p7P9GKHqYUuR6capFM2jm2xfihN7i1baS23ODLbYHkxoGQpNlSz2FIigLSt2DNWJtSaThChpMBOpRnasAVnqQUzi0SjlSv9qbwhSQT/hsAgDIhmD3pefNfAzLcUlLMO9qCKbcpR+KEmjKCUtQiDgFNTDZY3N3BtiZQgLZcwCtBRgJvKDJpCSMSgOYQQgxrYr2ABnHeBGDzHTaXjQCClCIKAwPdQ0gY0mZRN6PuIQfPKMDL0fQ/f9+n1Pfq2JJ1yyY4OU6zkEI7k5HKHlu+BH5FvC4opd+AslAxlXUJtaHpB3I5LKTLFMuVeSLHTo7v2QYZvChLBvwGIQ2QFqiEQ/sv/XszYCBH3t6vmHLpeRKsf4kfQWGwwP73IcyN5Nk8OsX60wNLcaRamj6O1Jp0rkcuXyBVKZPNF3FQK103FdeVMXCseOG/2N6v/XDioT0cRtmXj2DaO7ZApFOm2m5x4cd+qRTBUyjJczsYXC8D3Q7r9gOcPnhh4/wXb1pXo9fp0l9p8/blD3LZpguFinnw+QwQoCeVBSrDRYJTifm0ohIa/XdNP4M1DIvg3BAKNQWJQ5ux9K6QchdaGQXo8ri0Rwmau5ZFO2+QyDp/9xjFuWuxxz951rBspoKQk0poo8Gk3F+l1mizMxsEvUkpsN4XlpLBtF8t2UDJ2+J1nBQBG6zi8tjTJ3PwZjDZEUYjf7xD4HmHgoY15WZcZIQa58lojjCbsdgm7Him/Ry9fppkrsFgpsz+XZV4q/LcGfL3vs35uno9+/WuMjA6TyqQRth07NPttvKkjPPbBd1OvFMgmobYXJBH8GwCDwWiDMC/vSmsQWEoQoVfLQFtKIoXBVgJLxeG3i9MdTk4vUymkyaRcMmkrTqk1mtD3CEwv3lLTcRtH20nhpDLYTgrbcVFKIYVCqPMFv9IxRuVDOsuLcR58ENDvtQn8HlEYxEsGKVFSYbRBG0Pkh4RK4SvFkpumnbPx3YhuKkO7WKWbLTBbrfJiscBi2kWkHU7NL7OUS7P9xSqL5RJF16VI3HLLs2C2UuZEIcdCxiVtkuYUFyIR/BsArTVBEKJfoQ21kuc3l5QChvLxOjfShrs35Xhxrskf/e0Ci80Oe7eMsGPjMErFte21kUjOMd2Nweu26Xdbq7dXeGnKrUAwOnYPi7OnVm8jBFIqlKtWyvMhAc/36Hd7zJ2aZaY4wolSlT/fsB2xaQJTKeAVMkQyNvNdbcgAWWPi7MENY8zdvpNf/vC7UC+eYmx+iQ+cmcO1FFPFHP97x2bS1QIpW0EScXdBEsG/ATA6LiahdIQ0LxXbyi8vn89sKZAC9KAq7KaKSzGlOHVilsPHZjHK4v33bmO0nKVcyJBJ2cTlsYmTZQbnMpgLe8DEyvljSSulBqa6IAojQj+gudyi1e7TMorjG7dyfHIjS6UC3nsy9FyHvuXgZLPItAuWwtER6HgMkrjyz8qppYmwEeQBM16lXS3yt5smkAIiyyKVTaPkYJlwme/5m5VE8Nc7A2+50AZpuPTa64PKtsqAMPEWXjGtcCzB1FKPhabPUjfkwGiRxWqPoWKGoXIG17YG8foSIQfHECtzNGeDAjCDJYBZXaM3BtVten1NP5um7zg0s0WWZZqmUByrDnFidJyl4TJmrEqo4itG3pi4pJcx53sEX4qJL0cS0GmXIJPi9OBCZxtDbnCMROwXJxH8GwBpwI5MvBZ+Pc8fbFHZlsS1Fa4tGS6maXqav/7ai/Q8H61D9m4eYtNEmfWjJarlLCnbwnEssmkHKc6vZqO1odP18Dwf3wuo3OTxlS8+wfJCg/2Husx/6O10770ZPnAXfiWPzqZIidhMz674IlYCiV4HwhgcY0h2218bieDfAOgwwG93UHb0mgX/0s402sTOvEJaknYk924t4ocGL9R0g4iDJ5bYd3wZiVntLa+UPG9bbiVEV2sD68cx64bZlc3xpY//H4TZNL6bxgyXcYs5KOexLQVRiELEC4ZzVP56Z+NkFn99JIK/3hHEraK7faSrUZceCn9R5KBKjiUN40UbPxJ4IUw3eoS9kE4vpC8teuUCfjGH0Gd7XGljsCyFVCpulLF+HWL9KIHrMLenhijnsapFpAAV98RCvZqpnnDVSAR/vSME0g+xFlu4Qwars6YHx7XjmR6gmssRhiG+NsxXNnL6Y+9i7r33ku75sR9BCAIpEa4NjkVwjr9ensmQHl0XWwJG87L+VwnXBYngr2MMgBQ4S02y+17EtjIod60/MnG2hfTAuScl2LOnEb0OoWvhGb06ORsEBo0IA855WpyMkxSSvO5JBH8dIwCNwF5uUTxwGMsosK5cc4mVklYiMpjFJsbzMUIQnVsvbuW/ZAZ/Q7IGK8KEK4aA0ED6+DQb/vSLWP0I1JW/Rhsj6B5ZImwGKDNIolktu5PwRiYR/PWMEIRTC8huk1I1QqrYpL6SmEFPu4IxiJ5Pv9G5ImWvE64NieCvU4wQGCHInJgis7SMW7Cv2l6UwZDOggr76MYgtDYR/ZuCRPDXK0KgpWD9F77B6AtHcMeGQV2dXnFCQmGrxNVNOD5FYsu/eUgEfz0iBNoP8eeaDD30DKX9xzBXYe1+9vwSmR1i/OApdn7mq/HyXSYz/JuBy/4W1Wq1u4F/W6/XH6jVatu4QJfYWq32w8CPEHeR/aV6vf5Xl3veNzNGSeRik8wLx8h1W7iRjxHZqzsIyyU736DcPc7RrodIO6gkvu0Nz2XN8LVa7R8DvwOkBnf9CnGX2LcRrzg/UqvVxoB/ANwPvB/4N7VaLakxeDGkJHQsUsdOM/kHnyI/7uCuv8q9z4VAS0VmZoHygaOE04tEXQ+kSCT/BudyTfrDwMfOuX0H53eJfQ9wF/C1er3u1ev1BvAicPNlnvfNhxCYSBM124z+2mfZ8MdfZMvsPmwdYcS16fNuj+XJrc+x5Vf+X4qP7yOybLBUnI2T8IbksgRfr9f/F2f7yAGIC3SJLQCNcx6TdI99CXHGqUHNdMh/+STVpxcpn2yTN/042eQaeciFa2GlLUaOHyN16BjmwHH01AK646ENREKQxNa9sVhrT9C5n38eWAaag99fev/LWB8qfnWutMZDujyuzpgEBoPVSeOk09jfuRNh+Qjrh4GXz+6lkXV89Cf+zRUe0wADmIiu5eK1HYxOgeeCY2OkiPPYuZE/u9fOtRzXWgv+Ql1iHwX+Va1WSwEusIvYofcybqTusQYwtkXkBfhLHfQv/QbDhyW7l25lOKNxMkex8l8DchhzviH20Z/4N/zFf/65NR/ThQcaJ8M0USyGgq/PRmy0bSYqBdI/8q0c2L2Zk+uG+b2p/A3z2V0ub6busT/DS7rE1uv1qFar/RrwVeIlxD+t1+v9NT7vGwpNbA4ztUCqscjo9DFONOaJoioiXQTVHNSGB8z55vxq2akLVr4ZONXWcgUgBAhFNgyQQchYu89Qx6M8PcvoQ89gZhbJbRjHbLufwBi0lDhJ1ZnrlssWfL1ePwbcM/j9IBfoEluv138b+O3LPdebAiEIga4R2A/vZ/2xp/jAsb/i925/F9HcNniijDQdBOd7xM05td1W6s2t3F6pKyfEBS4C59SbeGkxjAthzhXrOQ+3bRvLtnnr9hTeTBe51GPrJ/6M2y2bzuQ45k/vpRlqyDhUw/AVm1gkXDuSbLmriJCSrhey85Fn+Z5/8wds3dWhvDek9H+N8OePV2i3ixiZQWpJq+cz21kmCjVSKBxLxV1jpCDQmsVOEBeZkAIp48uDFKwWkWRQi04IBuWpLm2M2kCkzaAn/Mp9hkjH/2sD5G2kq3hKG3a3YNN8gw0zp/nHX/kjntq+na9tvh+7kMFKWxBevNJuwtUnEfyVZFV8g4yzMEKenqN0eJpbnz/J1o2SVMpBj6exHAVCYVCcdczrgaDjNlLnitsaVKKVcpDSKkDyEmGL12fdr6bJDoYtAaRB6LifHEqgU4pmwWXB8yn3A9xuyF0zR0lNhDx/Zpz+dJnQzWE25LAshVgprJdwTUkEfyUYrL9Xe7RJCX4InT6pJ+oUDpxka5Qjn0th0tDVYewbM4NKsAIcKSinFGk7jRIKS8m4BPOg8UQ561wR/SgpUAjsC2z9G2PwAo0fRoTGEA5nONkP8XoBt/ct7u/McrM1y5eeCnnx1GYWxATmh2uki3lsy4GkQMY1JxH8WiEFyFglRhvC5RZ6qY0+OY3666+QOjFNZWqBuQiiPphcBmwwIiIyq7WfB+mvEse2KWdzCBSc46U3L/n/auNaMu5YI+KMvmg8Ty+bpm8iFh92GO1Z/D8/tI9f+sYwDz4r+cDfqfPMT29g+l1lUrlcLPrExL9mJIK/HAYucaM1uuPB3DJqqUX+9By0OoheD6u1iHX8KKnZZUrLLUI3TcbYYKVA6TjCzkhM3C8SY+JZXAx6vGHEFc+Bv1RWdg7E6m3QaZtACwKhaS/BxIxih9Vja2WZo8NLpGeqVB6bJZANmm+ZQBay4NpxYcyEq04i+MtBCBAS4wV4sw344mPknz7I6Ce/RCWKyOQFuS0WTqGKHHcRk6NYkWKkoRHHdPzun1fU4lzP+/Uh8lfCGDCOQmvw0TT6IbqRojinuG3oFO3dkrlNtzLx1w9TfnCWh/7Z7dg3bUONDYGJkpn+GpAI/vVgK7QfxSL/3b+gsO8wtxw9Q3HCwbUNqbeMDxxoBmnHbYwjBNJAFEVxxWcHhB2nnUb6bFcXIwb1oN8AggdwBEhbgpAsLcK00KTqafbU+vQnFvnZnQvc7YyxviF436//DmeKFRY3bWTmH/8glmsjlUz6wF1FEsFfKquTsCA6fBo1vUj1wDFShw5TmJ1hqLNMtp/FkjYic2GHmjFm9bstLYFQgIxryMFgXT4ItlmJr7/eiff+Y899X0CrG6JnFaVtIUPFPu1iD5NN43TzpFsLVH0f22h6f/lVvHv3Ek2OJLk4V5FE8JfIatBKqAm/9BTuN55l56ceZPTWYVLVNAyPXJpDbRDYIi0BlhkIXp59rhlsra2RCM6NyLuUwJtLPebKoYzW8VgtSSclaYQR+qRNwfMZSnWh0EdkhhDpEj2pGLENI41Zgn/8q5z+jz9Na6iEzLpJHfurRCL4S8FS9BeaqOcOM/x/f4LNZU3JMWTvnUQ6CvMahKSjCGME0pGxSa9AaxF3fIw7wSPiBcGazO9mEEhjqbWbRrWBKDIEYYTrKJRS+FKwaBvWeRHRtCTb7VEWAaK4RN8u09F5nOgdCPsodnaRXbcP4f23Pyf62hNEv/ZzmDBISl9fBZISV5dA5IWkH36e8leeYKK9RNXvkTcRVsZGKPma0lejMEIbjRw47JDnbLWJlY5OayDOgaUdRJp+EF3+8V56eGMIIk0Umdh5JwU9ZWiZEOOB8sGNIiqFJpEM6AQ2th5GYoMyuFmHyvI8lVOnCKbmMV6YFMq8CiSCfyUG0WF+o03lD/83G/7nX7NrZ4VcKYew3dflZNZaY7SOy8srM9iKW1mxG7RZI7ObOBTWCzStXvCqj38tCOLlgR9qIh0LXghBW2kWCBGBQHUVKU+yqbKAlj5LgYUbVbCEBSJEC8U66bMpaNJ/9hBRs4N4nd1xEy6dRPCvhBHg+Qx/5GfY0Z5l6+4qEZcX9KKJy09LK/5BgV7daxdEYmWOPxuM83oQAmaWOyx1enhhSKMbrNlMHwcPCmwlafcDFlo9lICWDSdkhNeCaNEh07R5X2WefrnDvnxIWuTROiKI4mTJ1HCVEorNP/cbZOsnQFlvADflG5tE8BdDSaKjZxB9j8nOAnkVYTnqImmprwWxGqeONGdNeiNii+FyHHaD3HUdhfiBRydSaJXCTWcJIo3WGjBE2pztJ/c60AZ0pIkiffb9MBBhCBB4S5qoKVEdyca0h5P38XIRSmWIjCIIBxc1ZWEZKJ+ZQy63CDq9N8pu5BuWRPAXQgiwFOHj+6DTY8emNOmUQq/F/riQ8WwuWV3Dr4bZDRx1q9tzl8TA2beSLms0YejT7/fxVAaRLpItVIgGghdAqE3c2/11orXBDzVeECIAW4IxepBVJ+jOGvx5gWpKJjM+2VIfUQ2w7SxhZOGF8YvTgDCGahRCo42/2EjW8VeYRPAvRQiiMKI7tcS2Tz9MptHByhbWrKebMoO+6XGsCgBRJOJ4eRMLPnbYvxaT3uB3WzTmTqNKE2QndzOy6y7+rx/9O+zctJ6HH95PpA0IiQaaXR8v1K/70tXzAzp+SGl0Hal0CoFGSxvfShMIQSMK6c8IxCnJhmyPbLkD5S4aGyMchHRW9yBUSlK5KYezMI04eAIhX5sTNOG1kWzLvQQjBLLTx/ra0xS6TZSMN8rWytS0RLzptnI8M6hnt2IZrxazGPz1FceqI3QU0vUjCoUS67dsYWRLjV5g6HgBWzeM82Q+y1LPp+OFZFMWAkHHC7GkjAuOvQStY+dhnEP/8hctiLf5/CCi320xUq2Qz2exLIvRrRvIF1v0npolaDmIJYuS6mC7XYzrESCQoozFCNCLjycFdi5N5ugpsk4W/a47WFnZJKw9yQz/UgSIpSapP/ksRdGL99nXMObbRmCvTO0ron+JZ/78MlUvPffZEldah0Rhn+WOR2lsPW/74Lfw1vvvZPfOLQxVCoyPVEnlM7SNodEL8YJ4Vm/1QvpBFKfirpTMGvxExhBEr/x6I23w/ZCl2SlGx8e57e57cB2LbXftZvNbb6UtOgRNjZg3lEQDx21j0j36EUgzgSM2YYj9CUiJTGcp7jtC8dHn0K+hWEfCayeZ4c9FCLylNumTM9z29Wcp7qquVINYs1O4CJyVNbxcqS4hVn/ORty9suhO7T/D0Mb17Ljnfn70gbeQyaTRCJ5/4Sijw2U+/O57kFIMHGswM9ckrSCTssmmFGGkmWt5DOfPn+aDKJ69Xfvic4HjOCgHvnpgmXeki2zfsp6mEFTHhilUNS3l4/sR9GzcrkClm+jCIk1PkqKKoo1wAoyxAAuDIDfboGDlWOyF8XuSiP6KkAj+XJTEOTVD6thpUhmNUGu/SWTFGe7ncKGIefHyvxiDMZp+LyAMInbcspfJbZvYvncHQ9UKYRTRbHcZGSpTKeZxXRtjDMOVArfs3EjU7yIdQbfv4yhJEGm8bkTWtXAtiaXi8N5Ia4LIcNHgHwHoCCUMWzeOUyxkUVJgKUUunyHVD5jCEBggEoi+zZgdsD7TpasFdmhjKwuIEMJabT3vmIhUGBA226hcCulYSTbdFSAR/AoCkILUC8dIH3gROe5g3HiWW6s1pQEcBPb51Sd5qdl+bmVaEf8CGIyO6LT7BIHmbR9+D1u2TrJutEq359Hu9uh0++zcNokUkjCMEBZsmhjivfffQv34FP3GAq32IvlMmp4X0uz55Fwb0ja2il9rFBm8MHrFFx1FAQrN2+7YzXA5TxhFWJZFsZAF02EZgWcEhBJ6LputgF3ZLgvGkI0kMrTQ50Q0GMC1wZUR/sIyKXcIXCspiXUFSAQ/QABWoAm+9AT+Q49jNhQQA8/8WlqXjgFHrJj0vKwU9WpSno5FLhH4QZduZwEqO7n9PfexftM6htb7KEvh+QFSCkqF7EBwoE2ckqe1YXiozO0372BoqMS+fXX2zy3gWCHGTqOsAjPzp+hlM/Tzear5OMtvRfS2kshzUtkMhk4vpN/roo2mUi3jOA5SSFKuTbZaYskLOCrg9gBUT0LTZtL12Zhv84VqQKlvMypcfDskDA1mEAuUHpZkKhHi1AxU8pBPkyh+7Vnr7rG3Av8ZiAAP+N56vT5z3XePFQITRkRLTXSzi/ADMq6Nkmvs0xRgG4Nidds9zoG/gF9OiHiPemm6RSqXYXzzLjbuvI0tmzdgWWpgFq9krp0N5jn3WNoY8rkMkxPDvHhiisnJcYYrRT7/4KNkC2mGq0UyVZflxRanZ9q4doFIG6QU9PwIHEhJdY5fAbwgRNppbMcmlUrhphxcxyYQAte2sCybOSHohYKoLzBdSTalKTgR3XyADgUiVPhRiDhnsMp1sJQFs0vgBSSL+CvDWneP/U/AT9Tr9QeAPwd+9o3SPdaEEdHUAoQhyrHJpyzUGup95atta4O1EvQizn+AOMeMNiaeoZdOtxC6wPbb38aHPvAO7rhlJ0LE1WNf6th76YXDGEM+l2ZyYphmu8vWLRv4jo99gOkOhFisG62w5/bbSRWGOD3TYant4Ydxpdy2F77cW2+g7wdY6Tz5ygTpdIpMOkUm7cSvzVLYjsW8UrR9QdgB3ZFkMeRTIUHBRzsSoxWeF6LPKWqpnBSWsOH0LML3E71fIS53hl/pHvtHg9vfVa/Xp845dp9zuscCXq1WW+ke+9hlnntNEY6N2TzBlm1DjDROXzFj0ooM1rlRdqsXlXi6j7fkDNPzIU+f8fi5f/L32FnbyIb1o0gpiaLoQu3mLo4BSyredd+tZDMpMmmXP/vEz/Ps/iPsP3iM9ePDjH3wrdx77838P//lTxnPSzZUUwhp0w8ilIS0o1Zj+/1+kw1btrBxW42J0SqlfBbHcVZfgRKGijGI5YieCsnMS8qTmvFcCOU+eiGFkS4oF4RCDJx2KBsnCNn41D6W330nfZE4668E4nL3mGu12ibg/1ev1+855777gN8F3k48q99Ur9d/dvC3PwT+sF6vf/7c4zzxxBOmLzQnrbVP5bwkDOgwIjMzh93roaxYVaWRdSzPnl6rU6B8QwpB1QJR0USuwLclhztZwq6D1XbJah+lAoTrUS4XsG2FkmeLZIS4WHiv6dxxWm5sFdiWhR+E+EGAZVmxlI1hqdEmDAOiMCQKNUrFJbGtgaljjKHdDygW8uSyGaSUOI6FpRQBLrbwiIKImRPT5ENDRoBVhSAHPWVxdKlErqtwwxDtzCGRCHHWjNIGPN8QTI4Q5TPnmfyvh/Whunbfp1fg3HFtD2zuuOOOq3ZdW3OnXa1W+zvAPwW+uV6vz9VqtUvuHnutmkkaKdB9j86hU7zt936b9fsPYI1PgBBr1rgxMobQGEZOwC4Ftw8J7O/q0dxscXw8z7947naOPTOJ/fmtvH3+GHfea/HNP1lh1CohhUSfY14vqC1UoyOv6fzKkpyZWWR6ZoGbd2/BSVmIFCwstbAsibIUjujwtw89yucffIKD+44yUnYYraaYrGSwLIkXRPzxN6b4yb/7rXz7B++n2+1RrJYo5DLMy80Mc4xmq8WDn/gD9r44zeZem4n3SxbeFXBiKMff/4uPsPfhMmMzTfS23yKfKuGoVNxUQwr8dsDJJ6Y5+vv/nOZ77kboy2tZlTSTfDlrKvharfZxYufcA/V6fXFw9yV3j71WGCFxej7rHttPuh8QZjJYa3zNFQYIoX9LnoWxLPv2VvClJjwN4Wn4l2YJs2cZa9d+Tk8dYWJdjdHqtwL6shJdVogizXC1yFC5gACCIEQIQT6XBhEb7MNDJb77o+/iox+4n+cOHOUzX/oG33j0WRonTjE8bFEdzfLj3/dh3nH3XiZGKwRhtGodAKBB2jbV22vId4/RK3mE6wrkjebW0PDVDy9Q/LYmJ860+c6fz3HbpGJdKX6qMbGTsgiISBNFIUmy7NqzZoKv1WoK+DXgBPDntVoN4MF6vf6L1333WAGy06fw0NOI5TaRtF6xxNRKaql8LaWttMELIuysTaaSojSRjyu2GjCRiaPujMbokI5ncDN64Jxbg9c3QAoBSly0zp0UAtexcWyLbVvW4Qe3s358mMapKZYac/jG557ba4yNlOO6lVKedyxDnCefL2Toi2Xm+n0ynTSjeZdyykLZsNju0PBaZNMSx5aowbafMYbIQMcYjBQoIVnds0tYM9a0eyxQuchjrvPusQLR6ZH+4uOIjTmiUryJcPbLfDa5BQN6EJUizzaBe1UiY+j7EY4S5F2LobRNqpSKPdsy3q/0fUO75aFEGmPs1f30tV7gXayY5bninRipsG60yjvvv41nDxzhq19/iuMnz3DHzTuwlCK6YGnpeIswn03TmPNo9xtktGJ0a5lMyqYvFCemQ46e7DNassi4cqWoUFwnD0NDx++uxaCl9ps42m4NywxeMtdV4I0lX4v7eQ3P64cYL+Cg73Ora5HLuITa0O6HRNqs1p7pBxEzDY9SxiblKCzr0vbtBBAZaIQR85+b4shfneCr4UM8feswG+9Yx3d+bA8PPXyQB5/M8jt/u5mNwU28+32j3HobmGtUsl0PAn8EcMuuLQxXiiw32kghXrYduIIxIKQkXy3j/M0i1lMH2HPTKM9NNvjjguaPwi1MHH4PxYVhJu0HyYiTQANQcU87GafvBotN/PkGaih/wfO8Wajmrv7ru64E76wkqlzNq7oQ0O1Cq4urrPhLZwzL3QAlz0aUd/2Inh+hTWy2qtdSTF0MZvhIkzU2Q47FplIauTXCFOd55OSz/EW7zCEzQjY3SXZ6jpS3Eml27ZNFpRSUi3EX2Kf3HWH9xBAjQ6UL+haEANuxCbRB9iPygWDLOog2CNLLGczJNEGQJuPGXv5zo+kksWdf9Probg9LFNY0U/G6QgjWq6sfjnJdpcc6RmBf7UKGAnSnh+j0yKYc5KA442LbX414M0DHi+h4sZPKVjKOPX8ta3igH2kKlmKilGFnrcq7b5NsnFzi0emn+WSU57nMOjatX8+YladgnOvmy661IZ1yyWXSPP7sIWbnG0hxka+OANu2MFKiEaSFza5tLnfdnWbD7gKZko0UClu5SCFXE4S0MRhtSKORfojp+2+kBjyvGVtKNkVXf769rgSf8zVvrY6jlLqqVU9ELoc1VmXo1o20pWR6qUurF6BUHLLa7kd4QWxbV3IO9mt14Q+i5gId15OLIkMYgpMWrJ/M89637SQ3noWshDAc1K+9PsS+gpQyDul1FKGO6Hn+hR8nJKV8htBWNA2YSGB6CtmTFOwuWoX0lEQGedASIeL3tdMPaXsBuQKkxivYI0PxAa+vt+HyEXGB0rdWx7n/6NX3XV9XJn1GWnxoX4vK5mGOyoCTUZ+FTvvKNiUxgBWb8eHpRdrGRwtNKevgKIkx0PMjpIhn9rSjXpN3/rxTGRN750KzOnsJKVBKvaTbzIopfz0RO+RGqiWMNiw1WoxWSy/N80MAjmsTKkUHEBpEKJAh5O2QGUfTtQ2WcRCcNeltJdFK0uxD2PfA88C48d8v5624TqwkKWAom2O9SlGal3x4X4ubc0N4S82rOo7rSvBpN8W3b9lNQczzNatNL5QsdVpX9qtvTFxbTkf4x2ZYztnIgsuGYQd74JTrBxpLgmNJXEu+7vEYAyKKRTC4Z1C5Rq9kwA7ujVnNnHud51tLjIm/tCOVIsYYlhttRqullxfTFuDYNr5U9ISI1zKhQEaGnIoIbU3PAhU5gxp78bMdS6GVotWDsONBv4cw+csW7Nr077l8JDCUznCLylOQPR7YvhfXdXniiSeu6jguO7R2rXjiiSdMJpNh165d13oo53HgwIFkTJdAMqZL59xxPfHEE1c1tPa6Evy1HkNCwrXghhR8QkLClee68tInJCRcWa65065Wq0ngN4FbiKvk/FC9Xn/xGo3FBn4P2ESc6PNLwCngfwOHBg/7L/V6/Y+v8rieIg5JAzgK/Cvg94n9Zc8DP1av169aTF6tVvt+4PsHN1PArcB9XKP36SVVl7ZxgffmalddusRKUL9GXBimNXjaR+r1euOCB1wjrrnggY8CqXq9fm+tVrsH+GXgI9doLB8HFur1+vfUarUq8BTwL4Ffqdfrv3wtBjTIMmRQRWjlvr8EfqFer3+5Vqt9gvj9+uTVGlO9Xv99YlFRq9V+g/gieTvX4H0aVF36HqAzuOtXeMl7U6vVHiauunQn8QXqoVqt9rlBUZarMaaVSlBP12q1HwF+Fvhp4vfs/fV6ff5KjONCXA8m/VuBTwPU6/VHiD+Ua8WfAv/snNshcAfwzbVa7Su1Wu13a7Xa1Q6AvgXI1Gq1z9ZqtS8OLop3AA8O/v63wHuu8pgAqNVqdwJ76vX6b3Ht3qeVqksrXOi9Wa26NJhBV6ouXa0xfVe9Xn968LsF9AeW7Xbgt2q12tdqtdoPXsHxrHI9CL7AWXMVIKrVatfE8qjX6+16vd4afFn/DPgF4nz+f1Sv198OHAF+8SoPqwv8B+LKQT8K/HdA1Ov1FW9rCyhe5TGt8PPAvxj8fk3ep3q9/r+A4Jy7LvTevPQ7dkXfs5eOaaXs26AS1I8D/xHIEpv5Hwc+APz9Wq12JS9CwPUh+JdWxJH1ej28VoOp1WrrgS8Bf1Sv1/8H8Ml6vb4SHfFJ4LarPKSDwH+r1+umXq8fBBaA0XP+ftEKQleSWq1WAnbW6/UvDe661u/TCuf6Mlbem0uuunSlGFSC+gSDSlDEF/L/VK/Xu/V6vQV8kdiau6JcD4L/GvBBgIG5+ty1GkitVhsFPgv8bL1e/73B3Z+p1Wp3DX5/N3B1Q6PgB4n9GtRqtQni2eqztVrtgcHfv4m4uMjV5u3AuXUJr/X7tMJTF3hvHgXeVqvVUrVarchVrro0qAT148SVoFZqk+0g9iWogbP4rcCTV3os14PT7pPAe2u12teJo0l/4BqO5eeBMvDParXaylr+p4FfrdVqPjAN/L2rPKbfBX6/Vqs9ROx5/kFgHvjtWq3mAAeIlx9Xmxqx6b7C/wn8+jV8n1b4GV7y3tTr9ehaVV16lUpQ/x14hNj8/8N6vb7vSo8nCbxJSLiBuB5M+oSEhKtEIviEhBuIRPAJCTcQieATEm4gEsEnJNxAJIJPSLiBSASfkHADkQg+IeEGIhF8QsINRCL4hIQbiETwCQk3EIngExJuIBLBJyTcQCSCT0i4gUgEn5BwA5EIPiHhBiIRfELCDUQi+ISEG4hE8AkJNxCJ4BMSbiD+/4BeNxTnSd+oAAAAAElFTkSuQmCC&quot; width=&quot;252px&quot; height=&quot;252px&quot; alt=&quot;&quot;&gt;&lt;/img&gt;\",\"width\":252},\"id\":\"1102\",\"type\":\"panel.models.markup.HTML\"},{\"attributes\":{\"children\":[{\"id\":\"1101\"}],\"margin\":[0,0,0,0],\"name\":\"Column01847\"},\"id\":\"1100\",\"type\":\"Column\"}],\"root_ids\":[\"1100\",\"1105\",\"1106\"]},\"title\":\"Bokeh Application\",\"version\":\"2.4.2\"}};\n",
       "    var render_items = [{\"docid\":\"dba7028d-c562-4d43-b05a-10b36fe0d6d7\",\"root_ids\":[\"1100\"],\"roots\":{\"1100\":\"d0a247b4-1b3b-4537-88c9-0e4954165df7\"}}];\n",
       "    root.Bokeh.embed.embed_items_notebook(docs_json, render_items);\n",
       "  }\n",
       "  if (root.Bokeh !== undefined && root.Bokeh.Panel !== undefined) {\n",
       "    embed_document(root);\n",
       "  } else {\n",
       "    var attempts = 0;\n",
       "    var timer = setInterval(function(root) {\n",
       "      if (root.Bokeh !== undefined && root.Bokeh.Panel !== undefined) {\n",
       "        clearInterval(timer);\n",
       "        embed_document(root);\n",
       "      } else if (document.readyState == \"complete\") {\n",
       "        attempts++;\n",
       "        if (attempts > 200) {\n",
       "          clearInterval(timer);\n",
       "          console.log(\"Bokeh: ERROR: Unable to run BokehJS code because BokehJS library is missing\");\n",
       "        }\n",
       "      }\n",
       "    }, 25, root)\n",
       "  }\n",
       "})(window);</script>"
      ],
      "text/plain": [
       "Column\n",
       "    [0] Row\n",
       "        [0] Matplotlib(Figure)\n",
       "        [1] Matplotlib(Figure)\n",
       "        [2] Matplotlib(Figure)"
      ]
     },
     "execution_count": 70,
     "metadata": {
      "application/vnd.holoviews_exec.v0+json": {
       "id": "1100"
      }
     },
     "output_type": "execute_result"
    }
   ],
   "source": [
    "#invoke the function with the collection name and display \n",
    "# random thumbnails of the NFTs in the collection\n",
    "panel = display_colleaction_assets(collection_slug,asset_limit,total_images_to_display)\n",
    "panel"
   ]
  },
  {
   "cell_type": "code",
   "execution_count": 85,
   "id": "e2892480",
   "metadata": {},
   "outputs": [],
   "source": [
    "# Load .env enviroment variables\n",
    "load_dotenv()\n",
    "bearer_token =  os.getenv('TWITTER_BEARER_TOKEN')\n",
    "api_key =  os.getenv('TWITTER_API_KEY')\n",
    "api_secret_key =  os.getenv('TWITTER_SECRET_KEY')\n",
    "access_token =  os.getenv('TWITTER_ACCESS_TOKEN')\n",
    "access_secret_token =  os.getenv('TWITTER_SECRET_TOKEN')\n",
    "\n",
    "#keys for essential acccess\n",
    "def get_api_keys():\n",
    "    api_key =  os.getenv('TWITTER_API_KEY')\n",
    "    api_secret_key =  os.getenv('TWITTER_SECRET_KEY')\n",
    "    bearer_token =  os.getenv('TWITTER_BEARER_TOKEN')\n",
    "    access_token =  os.getenv('TWITTER_ACCESS_TOKEN')\n",
    "    access_secret_token =  os.getenv('TWITTER_SECRET_TOKEN')\n",
    "    return api_key,api_secret_key,bearer_token,access_token,access_secret_token\n",
    "\n",
    "def get_api_keys1():\n",
    "    api_key =  os.getenv('access_token')\n",
    "    api_secret_key =  os.getenv('access_token_secret')\n",
    "    bearer_token =  os.getenv('bearer_token1')\n",
    "    access_token =  os.getenv('consumer_key')\n",
    "    access_secret_token =  os.getenv('consumer_secret')\n",
    "    return api_key,api_secret_key,bearer_token,access_token,access_secret_token\n",
    "\n",
    "#getApiKeys1 have the elevated access to  twitter API\n",
    "api_key,api_secret_key,bearer_token,access_token,access_secret_token = get_api_keys1()\n"
   ]
  },
  {
   "cell_type": "code",
   "execution_count": 72,
   "id": "0ca02a48",
   "metadata": {},
   "outputs": [
    {
     "name": "stdout",
     "output_type": "stream",
     "text": [
      "{\"data\":{\"author_id\":\"164425558\",\"created_at\":\"2022-06-11T13:02:08.000Z\",\"attachments\":{\"media_keys\":[\"3_1535608317837443073\"]},\"id\":\"1535608320211427329\",\"text\":\"On this day in 1980: Steve Ballmer became Microsoft employee #24.\\n\\nHis shares are now worth $81 billion. https://t.co/tHc8wtldIG\"},\"includes\":{\"users\":[{\"id\":\"164425558\",\"name\":\"Jon Erlichman\",\"username\":\"JonErlichman\"}]}}\n"
     ]
    }
   ],
   "source": [
    "url = \"https://api.twitter.com/2/tweets/1535608320211427329?tweet.fields=created_at,attachments&expansions=author_id\"\n",
    "\n",
    "payload={}\n",
    "headers = {\n",
    "  'id': '1228393702244134912',\n",
    "  'Authorization': 'Bearer '+ bearer_token,\n",
    "  'Cookie': 'guest_id=v1%3A165495549908649152'\n",
    "}\n",
    "\n",
    "response = requests.request(\"GET\", url, headers=headers, data=payload)\n",
    "json_response = response.text\n",
    "print(json_response)"
   ]
  },
  {
   "cell_type": "code",
   "execution_count": null,
   "id": "dc50b922",
   "metadata": {},
   "outputs": [],
   "source": []
  },
  {
   "cell_type": "code",
   "execution_count": 73,
   "id": "bc217d67",
   "metadata": {},
   "outputs": [
    {
     "name": "stdout",
     "output_type": "stream",
     "text": [
      "{'end': '2022-06-11T00:00:00.000Z', 'start': '2022-06-10T00:35:37.000Z', 'tweet_count': 41698}\n",
      "{'end': '2022-06-12T00:00:00.000Z', 'start': '2022-06-11T00:00:00.000Z', 'tweet_count': 23570}\n",
      "{'end': '2022-06-13T00:00:00.000Z', 'start': '2022-06-12T00:00:00.000Z', 'tweet_count': 39006}\n",
      "{'end': '2022-06-14T00:00:00.000Z', 'start': '2022-06-13T00:00:00.000Z', 'tweet_count': 26712}\n",
      "{'end': '2022-06-15T00:00:00.000Z', 'start': '2022-06-14T00:00:00.000Z', 'tweet_count': 16702}\n",
      "{'end': '2022-06-16T00:00:00.000Z', 'start': '2022-06-15T00:00:00.000Z', 'tweet_count': 20124}\n",
      "{'end': '2022-06-17T00:00:00.000Z', 'start': '2022-06-16T00:00:00.000Z', 'tweet_count': 33203}\n",
      "{'end': '2022-06-17T00:35:37.000Z', 'start': '2022-06-17T00:00:00.000Z', 'tweet_count': 996}\n"
     ]
    }
   ],
   "source": [
    "query = \"BAYC\"\n",
    "client = tweepy.Client(bearer_token=bearer_token)\n",
    "counts = client.get_recent_tweets_count(query=query,granularity=\"day\")\n",
    "for count in counts.data:\n",
    "    print(count)"
   ]
  },
  {
   "cell_type": "code",
   "execution_count": 74,
   "id": "8ac6481d",
   "metadata": {},
   "outputs": [],
   "source": [
    "def create_tweet(text):\n",
    "    client = tweepy.Client(consumer_key=api_key,\n",
    "        consumer_secret=api_secret_key,\n",
    "        access_token=access_token,\n",
    "        access_token_secret=access_secret_token)\n",
    "    response=client.create_tweet(text=text)\n",
    "\n",
    "#create_tweet(\"Hello World!\")"
   ]
  },
  {
   "cell_type": "code",
   "execution_count": 75,
   "id": "97d45708",
   "metadata": {},
   "outputs": [],
   "source": [
    "def determine_file_name(query,start_date):\n",
    "    file_name = \"Data/\"+query+\"_\"+start_date.strftime('%Y-%m-%d')+\".csv\"\n",
    "    return file_name"
   ]
  },
  {
   "cell_type": "code",
   "execution_count": 113,
   "id": "8e8d2f1d",
   "metadata": {},
   "outputs": [],
   "source": [
    "#this function writes the event data to a csv file to avoid calling the API multiple times\n",
    "def write_csv(data_list, file_name,start_date_str,end_date_str):\n",
    "    with open(file_name, mode='w', encoding='utf-8', newline='\\n') as f:\n",
    "        header = \"Tweets\"\n",
    "        f.write(\"%s\\n\" % header)\n",
    "        for data in data_list:\n",
    "            f.write(\"%s\\n\" % data)\n",
    "            \n",
    "def write_csv1(df, file_name,start_date_str,end_date_str):\n",
    "    df.to_csv(file_name)"
   ]
  },
  {
   "cell_type": "code",
   "execution_count": 77,
   "id": "5312f56a",
   "metadata": {},
   "outputs": [
    {
     "name": "stderr",
     "output_type": "stream",
     "text": [
      "[nltk_data] Downloading package words to\n",
      "[nltk_data]     /Users/sameerlakhe/nltk_data...\n",
      "[nltk_data]   Package words is already up-to-date!\n"
     ]
    }
   ],
   "source": [
    "def remove_emoji(string):\n",
    "    return emoji.get_emoji_regexp().sub(u'', string)\n",
    "\n",
    "nltk.download('words')\n",
    "words = set(nltk.corpus.words.words())\n",
    "\n",
    "\n",
    "def remove_non_english_words(text):\n",
    "    return \" \".join(w for w in nltk.wordpunct_tokenize(text) if w.lower() in words or not w.isalpha())\n",
    "\n",
    "def sanitize_tweet(tweet):\n",
    "    sanitzed_tweet = tweet.replace(\"\\n\", \" \")\n",
    "    sanitzed_tweet = re.sub(r'@[A-za-z0-9]+','',sanitzed_tweet)\n",
    "    sanitzed_tweet = re.sub(r'#','',sanitzed_tweet)\n",
    "    sanitzed_tweet = re.sub(r'RT[\\s]','',sanitzed_tweet)\n",
    "    sanitzed_tweet = re.sub(r'https?:\\/\\/\\S+','',sanitzed_tweet)\n",
    "    sanitzed_tweet = re.sub(r',+','',sanitzed_tweet)\n",
    "    #sanitzed_tweet = re.sub(r'✅+','',sanitzed_tweet)\n",
    "    #sanitzed_tweet = re.sub(r'🚨+','',sanitzed_tweet)\n",
    "    #sanitzed_tweet = remove_emoji(sanitzed_tweet)\n",
    "    #sanitzed_tweet = remove_non_english_words(sanitzed_tweet)\n",
    "    sanitzed_tweet =  re.sub('[^A-Za-z0-9]+', ' ', sanitzed_tweet)\n",
    "    return sanitzed_tweet\n",
    "\n",
    "def remove_duplicates(tweet_list):\n",
    "    unique_lines = set()\n",
    "    for tweet in tweet_list:\n",
    "        unique_lines.add(tweet)\n",
    "    return list(unique_lines)  "
   ]
  },
  {
   "cell_type": "code",
   "execution_count": 104,
   "id": "d0180dff",
   "metadata": {},
   "outputs": [
    {
     "data": {
      "text/plain": [
       "[{'date_start': datetime.datetime(2022, 6, 16, 0, 0, tzinfo=<UTC>),\n",
       "  'date_end': datetime.datetime(2022, 6, 16, 23, 59, 59, 999, tzinfo=<UTC>)},\n",
       " {'date_start': datetime.datetime(2022, 6, 15, 0, 0, tzinfo=<UTC>),\n",
       "  'date_end': datetime.datetime(2022, 6, 15, 23, 59, 59, 999, tzinfo=<UTC>)},\n",
       " {'date_start': datetime.datetime(2022, 6, 14, 0, 0, tzinfo=<UTC>),\n",
       "  'date_end': datetime.datetime(2022, 6, 14, 23, 59, 59, 999, tzinfo=<UTC>)},\n",
       " {'date_start': datetime.datetime(2022, 6, 13, 0, 0, tzinfo=<UTC>),\n",
       "  'date_end': datetime.datetime(2022, 6, 13, 23, 59, 59, 999, tzinfo=<UTC>)},\n",
       " {'date_start': datetime.datetime(2022, 6, 12, 0, 0, tzinfo=<UTC>),\n",
       "  'date_end': datetime.datetime(2022, 6, 12, 23, 59, 59, 999, tzinfo=<UTC>)},\n",
       " {'date_start': datetime.datetime(2022, 6, 11, 0, 0, tzinfo=<UTC>),\n",
       "  'date_end': datetime.datetime(2022, 6, 11, 23, 59, 59, 999, tzinfo=<UTC>)},\n",
       " {'date_start': datetime.datetime(2022, 6, 10, 0, 0, tzinfo=<UTC>),\n",
       "  'date_end': datetime.datetime(2022, 6, 10, 23, 59, 59, 999, tzinfo=<UTC>)}]"
      ]
     },
     "execution_count": 104,
     "metadata": {},
     "output_type": "execute_result"
    }
   ],
   "source": [
    "#this number can be changed based on the access level, essential access allows only for past 7 days\n",
    "past_number_days = 7\n",
    "\n",
    "def get_past_days(number_past_days):\n",
    "    past_days=[]\n",
    "    for i in range(1,number_past_days+1):\n",
    "        previous_date={}\n",
    "        dt_start = datetime.datetime.now(pytz.timezone(\"UTC\")) \\\n",
    "            .replace(hour=0, minute=0, second=0, microsecond=0) \\\n",
    "            .astimezone(pytz.utc)\n",
    "        previous_date_start = dt_start - datetime.timedelta(days=i)\n",
    "        dt_end = datetime.datetime.now(pytz.timezone(\"UTC\")) \\\n",
    "            .replace(hour=23, minute=59, second=59, microsecond=999) \\\n",
    "            .astimezone(pytz.utc)\n",
    "        previous_date_end = dt_end - datetime.timedelta(days=i)\n",
    "        #print (\"previous_date_start\",previous_date_start,\"previous_date_end\",previous_date_end)\n",
    "        previous_date[\"date_start\"]=previous_date_start\n",
    "        previous_date[\"date_end\"]=previous_date_end\n",
    "        past_days.append(previous_date)\n",
    "    return past_days\n",
    "\n",
    "#get_past_days(7)"
   ]
  },
  {
   "cell_type": "code",
   "execution_count": 116,
   "id": "192102b6",
   "metadata": {},
   "outputs": [
    {
     "name": "stdout",
     "output_type": "stream",
     "text": [
      "getting the tweets for day start:2022-06-16 00:00:00+00:00 to day end:2022-06-16 23:59:59.000999+00:00\n",
      "The file Data/BAYC_2022-06-16.csv exists\n",
      "getting the tweets for day start:2022-06-15 00:00:00+00:00 to day end:2022-06-15 23:59:59.000999+00:00\n",
      "The file Data/BAYC_2022-06-15.csv exists\n",
      "getting the tweets for day start:2022-06-14 00:00:00+00:00 to day end:2022-06-14 23:59:59.000999+00:00\n",
      "The file Data/BAYC_2022-06-14.csv exists\n",
      "getting the tweets for day start:2022-06-13 00:00:00+00:00 to day end:2022-06-13 23:59:59.000999+00:00\n",
      "The file Data/BAYC_2022-06-13.csv exists\n",
      "getting the tweets for day start:2022-06-12 00:00:00+00:00 to day end:2022-06-12 23:59:59.000999+00:00\n",
      "The file Data/BAYC_2022-06-12.csv exists\n",
      "getting the tweets for day start:2022-06-11 00:00:00+00:00 to day end:2022-06-11 23:59:59.000999+00:00\n",
      "The file Data/BAYC_2022-06-11.csv exists\n"
     ]
    },
    {
     "data": {
      "text/html": [
       "<div>\n",
       "<style scoped>\n",
       "    .dataframe tbody tr th:only-of-type {\n",
       "        vertical-align: middle;\n",
       "    }\n",
       "\n",
       "    .dataframe tbody tr th {\n",
       "        vertical-align: top;\n",
       "    }\n",
       "\n",
       "    .dataframe thead th {\n",
       "        text-align: right;\n",
       "    }\n",
       "</style>\n",
       "<table border=\"1\" class=\"dataframe\">\n",
       "  <thead>\n",
       "    <tr style=\"text-align: right;\">\n",
       "      <th></th>\n",
       "      <th>Unnamed: 0</th>\n",
       "      <th>Tweets</th>\n",
       "      <th>date</th>\n",
       "    </tr>\n",
       "  </thead>\n",
       "  <tbody>\n",
       "    <tr>\n",
       "      <th>0</th>\n",
       "      <td>0</td>\n",
       "      <td>Dubai Police BUGATTI Best 3DNFTcars BUY and WIN a TRIP TO DUBAI ONLY 1 availabe in this design in the whole world Dubai Police Bugatti NFTs NFTCollections UAE BAYC</td>\n",
       "      <td>2022-06-15</td>\n",
       "    </tr>\n",
       "    <tr>\n",
       "      <th>1</th>\n",
       "      <td>1</td>\n",
       "      <td>Otherdeed 98407 bought for 16 9 19898 06 otherside otherdeed BAYC MAYC APE Metaverse WhaleAnalytica</td>\n",
       "      <td>2022-06-15</td>\n",
       "    </tr>\n",
       "    <tr>\n",
       "      <th>2</th>\n",
       "      <td>2</td>\n",
       "      <td>Otherdeed BAYC amp amp WL Giveaway 1x OthersideMeta Exclusive NFT Worth 3 Eth 3x SupperClub NFT Exclusive WLTo Win</td>\n",
       "      <td>2022-06-15</td>\n",
       "    </tr>\n",
       "    <tr>\n",
       "      <th>3</th>\n",
       "      <td>3</td>\n",
       "      <td>It s honestly kind of satisfying to see so many smug assholes lose 90 of their NFT wealth Specifically the douchebags fla</td>\n",
       "      <td>2022-06-15</td>\n",
       "    </tr>\n",
       "    <tr>\n",
       "      <th>4</th>\n",
       "      <td>4</td>\n",
       "      <td>Congratulations welcome to the real ape club</td>\n",
       "      <td>2022-06-15</td>\n",
       "    </tr>\n",
       "    <tr>\n",
       "      <th>...</th>\n",
       "      <td>...</td>\n",
       "      <td>...</td>\n",
       "      <td>...</td>\n",
       "    </tr>\n",
       "    <tr>\n",
       "      <th>2532</th>\n",
       "      <td>2532</td>\n",
       "      <td>Otherdeed 86950 bought for 2 02 2244 56 otherside otherdeed BAYC MAYC APE Metaverse WhaleAnalytica</td>\n",
       "      <td>2022-06-15</td>\n",
       "    </tr>\n",
       "    <tr>\n",
       "      <th>2533</th>\n",
       "      <td>2533</td>\n",
       "      <td>350 vs 1200 from a couple weeks ago still solid</td>\n",
       "      <td>2022-06-15</td>\n",
       "    </tr>\n",
       "    <tr>\n",
       "      <th>2534</th>\n",
       "      <td>2534</td>\n",
       "      <td>I can hear the stupid song that plays when he sings this for some reason</td>\n",
       "      <td>2022-06-15</td>\n",
       "    </tr>\n",
       "    <tr>\n",
       "      <th>2535</th>\n",
       "      <td>2535</td>\n",
       "      <td>Otherdeed 21306 bought for 2 45 WETH 2716 46 otherside otherdeed BAYC MAYC APE Metaverse WhaleAnalytica</td>\n",
       "      <td>2022-06-15</td>\n",
       "    </tr>\n",
       "    <tr>\n",
       "      <th>2536</th>\n",
       "      <td>2536</td>\n",
       "      <td>Here s my BAYC 4314 infinitelove eth0665</td>\n",
       "      <td>2022-06-15</td>\n",
       "    </tr>\n",
       "  </tbody>\n",
       "</table>\n",
       "<p>2537 rows × 3 columns</p>\n",
       "</div>"
      ],
      "text/plain": [
       "      Unnamed: 0  \\\n",
       "0              0   \n",
       "1              1   \n",
       "2              2   \n",
       "3              3   \n",
       "4              4   \n",
       "...          ...   \n",
       "2532        2532   \n",
       "2533        2533   \n",
       "2534        2534   \n",
       "2535        2535   \n",
       "2536        2536   \n",
       "\n",
       "                                                                                                                                                                     Tweets  \\\n",
       "0      Dubai Police BUGATTI Best 3DNFTcars BUY and WIN a TRIP TO DUBAI ONLY 1 availabe in this design in the whole world Dubai Police Bugatti NFTs NFTCollections UAE BAYC    \n",
       "1                                                                      Otherdeed 98407 bought for 16 9 19898 06 otherside otherdeed BAYC MAYC APE Metaverse WhaleAnalytica    \n",
       "2                                                       Otherdeed BAYC amp amp WL Giveaway 1x OthersideMeta Exclusive NFT Worth 3 Eth 3x SupperClub NFT Exclusive WLTo Win    \n",
       "3                                                It s honestly kind of satisfying to see so many smug assholes lose 90 of their NFT wealth Specifically the douchebags fla    \n",
       "4                                                                                                                             Congratulations welcome to the real ape club    \n",
       "...                                                                                                                                                                     ...   \n",
       "2532                                                                    Otherdeed 86950 bought for 2 02 2244 56 otherside otherdeed BAYC MAYC APE Metaverse WhaleAnalytica    \n",
       "2533                                                                                                                        350 vs 1200 from a couple weeks ago still solid   \n",
       "2534                                                                                              I can hear the stupid song that plays when he sings this for some reason    \n",
       "2535                                                               Otherdeed 21306 bought for 2 45 WETH 2716 46 otherside otherdeed BAYC MAYC APE Metaverse WhaleAnalytica    \n",
       "2536                                                                                                                              Here s my BAYC 4314 infinitelove eth0665    \n",
       "\n",
       "            date  \n",
       "0     2022-06-15  \n",
       "1     2022-06-15  \n",
       "2     2022-06-15  \n",
       "3     2022-06-15  \n",
       "4     2022-06-15  \n",
       "...          ...  \n",
       "2532  2022-06-15  \n",
       "2533  2022-06-15  \n",
       "2534  2022-06-15  \n",
       "2535  2022-06-15  \n",
       "2536  2022-06-15  \n",
       "\n",
       "[2537 rows x 3 columns]"
      ]
     },
     "execution_count": 116,
     "metadata": {},
     "output_type": "execute_result"
    }
   ],
   "source": [
    "#get the max data\n",
    "limit = 5000\n",
    "max_results = 100\n",
    "tweet_list=[]\n",
    "progress_indicator_size=500\n",
    "startDate = \"2022-06-16\"\n",
    "start_date = datetime.datetime(2022, 6, 16, 0,0, 0)\n",
    "\n",
    "\n",
    "def search_tweets(query,start_date,end_date,reload=False):\n",
    "    client = tweepy.Client(bearer_token=bearer_token)\n",
    "    file_name = determine_file_name(query,start_date)\n",
    "    path = Path(file_name)\n",
    "    end_date_str = end_date.strftime('%Y-%m-%d')\n",
    "    i=1\n",
    "    if (reload == False and path.is_file()):\n",
    "        print(f'The file {file_name} exists')\n",
    "        nft_df = pd.read_csv(file_name)\n",
    "        return nft_df\n",
    "    else:\n",
    "        try:\n",
    "            for tweet in tweepy.Paginator(client.search_recent_tweets,query=query,\n",
    "                                          start_time=start_date,\n",
    "                                          end_time=end_date,\n",
    "                                          tweet_fields = [ 'created_at'],\n",
    "                                          max_results=max_results).flatten(limit=limit):\n",
    "                #print(str(i) +\")\" + tweet.text)\n",
    "                i=i+1\n",
    "                tweet_date = tweet.created_at\n",
    "                tweet_date_str = tweet_date.strftime('%Y-%m-%d')\n",
    "                #print(f\"tweet_date:{tweet_date_str}\")\n",
    "                sanitized_tweet = sanitize_tweet(tweet.text)\n",
    "                tweet_list.append(sanitized_tweet)\n",
    "                if(i%progress_indicator_size)==0:\n",
    "                    print(f\"Number of tweets fetched..:{i}\")\n",
    "        except Exception as e:\n",
    "            print(\"exception getting tweets\",e)\n",
    "            \n",
    "        #once the list is generated, write it to file\n",
    "        unique_tweet_list = remove_duplicates(tweet_list)\n",
    "        #return list as a dataframe\n",
    "        df = pd.DataFrame(unique_tweet_list,columns=[\"Tweets\"])\n",
    "        df[\"date\"] = end_date_str\n",
    "        write_csv1(df,file_name,start_date,end_date)\n",
    "        return df\n",
    "\n",
    "query = \"BAYC\"\n",
    "is_reload_needed = False\n",
    "\n",
    "pd.set_option('max_colwidth', 800)\n",
    "bayc_tweet_df\n",
    "\n",
    "past_days = get_past_days(6)\n",
    "past_days_tweets=[]\n",
    "\n",
    "for i in range(0, len(past_days)):\n",
    "    past_date = past_days[i]\n",
    "    past_date_start_time = past_date[\"date_start\"]\n",
    "    past_date_end_time = past_date[\"date_end\"]\n",
    "    print(f\"getting the tweets for day start:{past_date_start_time} to day end:{past_date_end_time}\")\n",
    "    bayc_tweet_df = search_tweets(query,past_date_start_time,past_date_end_time,is_reload_needed)\n",
    "    past_days_tweets.append(bayc_tweet_df)\n",
    "\n"
   ]
  },
  {
   "cell_type": "code",
   "execution_count": 179,
   "id": "5a640eca",
   "metadata": {},
   "outputs": [],
   "source": [
    "#query = \"NFT\"\n",
    "#is_reload_needed = False\n",
    "#tweet_df = search_tweets1(query,is_reload_needed)\n",
    "#tweet_df"
   ]
  },
  {
   "cell_type": "markdown",
   "id": "afce5046",
   "metadata": {},
   "source": [
    "To score a review comment as positive or negative, we will use the compound polarity score; The compound score ranges between -1 (most extreme negative) and +1 (most extreme positive). Following the recommendations from the research paper (link below), we will define a threshold of 0.1 to label a review as positive, if the compound score is greater than or equal to 0.1, the review comment will be positive , if the compound score is below 0.1, the review comment will be negative \n",
    "\n",
    "Research paper link - https://scholar.smu.edu/cgi/viewcontent.cgi?article=1051&context=datasciencereview"
   ]
  },
  {
   "cell_type": "code",
   "execution_count": 57,
   "id": "f7be3357",
   "metadata": {},
   "outputs": [
    {
     "data": {
      "text/html": [
       "<div>\n",
       "<style scoped>\n",
       "    .dataframe tbody tr th:only-of-type {\n",
       "        vertical-align: middle;\n",
       "    }\n",
       "\n",
       "    .dataframe tbody tr th {\n",
       "        vertical-align: top;\n",
       "    }\n",
       "\n",
       "    .dataframe thead th {\n",
       "        text-align: right;\n",
       "    }\n",
       "</style>\n",
       "<table border=\"1\" class=\"dataframe\">\n",
       "  <thead>\n",
       "    <tr style=\"text-align: right;\">\n",
       "      <th></th>\n",
       "      <th>Tweets</th>\n",
       "      <th>date</th>\n",
       "      <th>tweet_compound</th>\n",
       "      <th>tweet_pos</th>\n",
       "      <th>tweet_neu</th>\n",
       "      <th>tweet_neg</th>\n",
       "      <th>tweet_sent</th>\n",
       "      <th>sentiment_score</th>\n",
       "    </tr>\n",
       "  </thead>\n",
       "  <tbody>\n",
       "    <tr>\n",
       "      <th>0</th>\n",
       "      <td>Who wants a free backpack keychain pillow BAYC MAYC</td>\n",
       "      <td>2022-06-16</td>\n",
       "      <td>0.5106</td>\n",
       "      <td>0.320</td>\n",
       "      <td>0.680</td>\n",
       "      <td>0.000</td>\n",
       "      <td>0.5106</td>\n",
       "      <td>1</td>\n",
       "    </tr>\n",
       "    <tr>\n",
       "      <th>1</th>\n",
       "      <td>sweep bayc in a few months when eth is at 500 and they at a 10 eth floor</td>\n",
       "      <td>2022-06-16</td>\n",
       "      <td>0.0000</td>\n",
       "      <td>0.000</td>\n",
       "      <td>1.000</td>\n",
       "      <td>0.000</td>\n",
       "      <td>0.0000</td>\n",
       "      <td>0</td>\n",
       "    </tr>\n",
       "    <tr>\n",
       "      <th>2</th>\n",
       "      <td>BAYC went to NYC and started tagging their logo on top of work from legendary graffiti artists This is so corny</td>\n",
       "      <td>2022-06-16</td>\n",
       "      <td>0.2023</td>\n",
       "      <td>0.083</td>\n",
       "      <td>0.917</td>\n",
       "      <td>0.000</td>\n",
       "      <td>0.2023</td>\n",
       "      <td>1</td>\n",
       "    </tr>\n",
       "    <tr>\n",
       "      <th>3</th>\n",
       "      <td>Never let anyone get the total control over your life NFTs nft BAYC openseanft FreeMint art BoredApe NFTCommunity nftcollection NFTGiveaway PolygonNFT WomeninNFTs nftbot nftnews colorfulnft painting NFTNYC NFTProject NFTartists</td>\n",
       "      <td>2022-06-16</td>\n",
       "      <td>0.0000</td>\n",
       "      <td>0.000</td>\n",
       "      <td>1.000</td>\n",
       "      <td>0.000</td>\n",
       "      <td>0.0000</td>\n",
       "      <td>0</td>\n",
       "    </tr>\n",
       "    <tr>\n",
       "      <th>4</th>\n",
       "      <td>all the people who sell their primates for 200 dollars will be crying in 2 3 months if they can buy a house with the brand</td>\n",
       "      <td>2022-06-16</td>\n",
       "      <td>-0.4767</td>\n",
       "      <td>0.000</td>\n",
       "      <td>0.876</td>\n",
       "      <td>0.124</td>\n",
       "      <td>-0.4767</td>\n",
       "      <td>0</td>\n",
       "    </tr>\n",
       "  </tbody>\n",
       "</table>\n",
       "</div>"
      ],
      "text/plain": [
       "                                                                                                                                                                                                                                 Tweets  \\\n",
       "0                                                                                                                                                                                  Who wants a free backpack keychain pillow BAYC MAYC    \n",
       "1                                                                                                                                                              sweep bayc in a few months when eth is at 500 and they at a 10 eth floor   \n",
       "2                                                                                                                      BAYC went to NYC and started tagging their logo on top of work from legendary graffiti artists This is so corny    \n",
       "3  Never let anyone get the total control over your life NFTs nft BAYC openseanft FreeMint art BoredApe NFTCommunity nftcollection NFTGiveaway PolygonNFT WomeninNFTs nftbot nftnews colorfulnft painting NFTNYC NFTProject NFTartists    \n",
       "4                                                                                                           all the people who sell their primates for 200 dollars will be crying in 2 3 months if they can buy a house with the brand    \n",
       "\n",
       "         date  tweet_compound  tweet_pos  tweet_neu  tweet_neg  tweet_sent  \\\n",
       "0  2022-06-16          0.5106      0.320      0.680      0.000      0.5106   \n",
       "1  2022-06-16          0.0000      0.000      1.000      0.000      0.0000   \n",
       "2  2022-06-16          0.2023      0.083      0.917      0.000      0.2023   \n",
       "3  2022-06-16          0.0000      0.000      1.000      0.000      0.0000   \n",
       "4  2022-06-16         -0.4767      0.000      0.876      0.124     -0.4767   \n",
       "\n",
       "   sentiment_score  \n",
       "0                1  \n",
       "1                0  \n",
       "2                1  \n",
       "3                0  \n",
       "4                0  "
      ]
     },
     "execution_count": 57,
     "metadata": {},
     "output_type": "execute_result"
    }
   ],
   "source": [
    "#dictionary to store the sentiment scores of the article\n",
    "tweet_sentiment = {\n",
    "        \"tweet_compound\": [],\n",
    "        \"tweet_pos\": [],\n",
    "        \"tweet_neu\": [],\n",
    "        \"tweet_neg\": [],\n",
    "        \"tweet_sent\": [],\n",
    "        \"sentiment_score\": [],\n",
    "        }\n",
    "\n",
    "analyzer = SentimentIntensityAnalyzer()\n",
    "\n",
    "def convert_tweet_sentiment_score(tweet_sentiment_score):\n",
    "    binary_score = 0\n",
    "    \n",
    "    if(tweet_sentiment_score > 0.1):\n",
    "        binary_score =1 \n",
    "    \n",
    "    #print(f\"tweet_sentiment_score:{tweet_sentiment_score},binary_score:{binary_score}\")\n",
    "    return binary_score\n",
    "    \n",
    "# Get sentiment for the tweet\n",
    "def get_sentiment_score(tweet_df):\n",
    "    \n",
    "    for index, row in tweet_df.iterrows():\n",
    "        try:\n",
    "            # Sentiment scoring with VADER\n",
    "            text_sentiment = analyzer.polarity_scores(row[\"Tweets\"])\n",
    "            tweet_sentiment[\"tweet_compound\"].append(text_sentiment[\"compound\"])\n",
    "            tweet_sentiment[\"tweet_pos\"].append(text_sentiment[\"pos\"])\n",
    "            tweet_sentiment[\"tweet_neu\"].append(text_sentiment[\"neu\"])\n",
    "            tweet_sentiment[\"tweet_neg\"].append(text_sentiment[\"neg\"])\n",
    "            tweet_sentiment_score = text_sentiment[\"compound\"]\n",
    "            tweet_sentiment[\"tweet_sent\"].append(tweet_sentiment_score)\n",
    "            classification_score = convert_tweet_sentiment_score(float(tweet_sentiment_score))\n",
    "            #print(f\"classification_score:{classification_score}\")\n",
    "            tweet_sentiment[\"sentiment_score\"].append(classification_score)\n",
    "        except AttributeError:\n",
    "            pass\n",
    "        \n",
    "    return tweet_sentiment\n",
    "\n",
    "    \n",
    "# Attaching sentiment columns to the News DataFrame\n",
    "tweet_sentiment = get_sentiment_score(bayc_tweet_df)\n",
    "tweet_sentiment_df = pd.DataFrame(tweet_sentiment)\n",
    "bayc_tweet_sentiment_df = bayc_tweet_df.join(tweet_sentiment_df)\n",
    "bayc_tweet_sentiment_df.head()"
   ]
  },
  {
   "cell_type": "code",
   "execution_count": 188,
   "id": "46a2e45a",
   "metadata": {},
   "outputs": [
    {
     "name": "stderr",
     "output_type": "stream",
     "text": [
      "[nltk_data] Downloading package omw-1.4 to\n",
      "[nltk_data]     /Users/sameerlakhe/nltk_data...\n",
      "[nltk_data]   Package omw-1.4 is already up-to-date!\n"
     ]
    },
    {
     "name": "stdout",
     "output_type": "stream",
     "text": [
      "[('bayc', 11), ('ape', 6), ('nft', 5), ('mayc', 4), ('premint', 4), ('project', 3), ('nfts', 3), ('floor', 3), ('like', 2), ('eth', 2)]\n"
     ]
    },
    {
     "data": {
      "text/plain": [
       "<matplotlib.image.AxesImage at 0x7fa3253fb050>"
      ]
     },
     "execution_count": 188,
     "metadata": {},
     "output_type": "execute_result"
    },
    {
     "data": {
      "image/png": "[encoded data removed]",
      "text/plain": [
       "<Figure size 432x288 with 1 Axes>"
      ]
     },
     "metadata": {
      "needs_background": "light"
     },
     "output_type": "display_data"
    }
   ],
   "source": [
    "nltk.download('omw-1.4')\n",
    "# Instantiate the lemmatizer\n",
    "lemmatizer = WordNetLemmatizer()\n",
    "\n",
    "# Create a list of stopwords\n",
    "sw = set(stopwords.words('english'))\n",
    "\n",
    "# Complete the tokenizer function\n",
    "def tokenizer(text):\n",
    "    \"\"\"Tokenizes text.\"\"\"\n",
    "    # Remove the punctuation from text\n",
    "    regex = re.compile(\"[^a-zA-Z ]\")\n",
    "    re_clean = regex.sub('', text)\n",
    "    # Create a tokenized list of the words\n",
    "    words = word_tokenize(re_clean)\n",
    "    # Lemmatize words into root words\n",
    "    lem = [lemmatizer.lemmatize(word) for word in words]\n",
    "    # Convert the words to lowercase\n",
    "    # Remove the stop words\n",
    "    tokens = [word.lower() for word in lem if word.lower() not in sw]\n",
    "    return tokens\n",
    "\n",
    "# Create a new tokens column for Bitcoin\n",
    "def generate_tokens(df):\n",
    "    list_tokens=[]\n",
    "    for row in df[\"Tweets\"]:\n",
    "        tokens = tokenizer(row)\n",
    "        list_tokens.append(tokens)\n",
    "    return list_tokens\n",
    "\n",
    "bayc_tokens = generate_tokens(bayc_tweet_df)\n",
    "bayc_tweet_df['tokens'] = bayc_tokens\n",
    "bayc_tweet_df.head()\n",
    "\n",
    "#concat data from all the rows for tokens column\n",
    "def get_big_token_string(df):\n",
    "    big_str=''\n",
    "    for row in df[\"tokens\"]:\n",
    "        list_string = ' '.join(row)\n",
    "        big_str = big_str + list_string\n",
    "    return big_str\n",
    "\n",
    "# Generate the Bitcoin N-grams where N=2\n",
    "big_string_bayc_tokens = get_big_token_string(bayc_tweet_df)\n",
    "bayc_tokens = big_string_bayc_tokens.split()\n",
    "bayc_bigram_counts = Counter(ngrams(bayc_tokens, n=2))\n",
    "\n",
    "# Function token_count generates the top 10 words for a given coin\n",
    "def token_count(tokens, N=3):\n",
    "    \"\"\"Returns the top N tokens from the frequency count\"\"\"\n",
    "    return Counter(tokens).most_common(N)\n",
    "\n",
    "# Use token_count to get the top 10 words for Bitcoin\n",
    "bayc_top_words = token_count(bayc_tokens,10)\n",
    "print(bayc_top_words)\n",
    "\n",
    "# Generate the Bitcoin word cloud\n",
    "wc_bayc = WordCloud(width=1800, height=1000, max_words=50).generate(big_string_bayc_tokens)\n",
    "plt.imshow(wc_bayc)"
   ]
  },
  {
   "cell_type": "code",
   "execution_count": 216,
   "id": "3cf1dc36",
   "metadata": {},
   "outputs": [
    {
     "data": {
      "text/html": [
       "<div>\n",
       "<style scoped>\n",
       "    .dataframe tbody tr th:only-of-type {\n",
       "        vertical-align: middle;\n",
       "    }\n",
       "\n",
       "    .dataframe tbody tr th {\n",
       "        vertical-align: top;\n",
       "    }\n",
       "\n",
       "    .dataframe thead th {\n",
       "        text-align: right;\n",
       "    }\n",
       "</style>\n",
       "<table border=\"1\" class=\"dataframe\">\n",
       "  <thead>\n",
       "    <tr style=\"text-align: right;\">\n",
       "      <th></th>\n",
       "      <th>Tweets</th>\n",
       "      <th>sentiment_score</th>\n",
       "    </tr>\n",
       "  </thead>\n",
       "  <tbody>\n",
       "    <tr>\n",
       "      <th>0</th>\n",
       "      <td>GACC IS LIVE for WAGMI Wednesday All MACC details have been revealed what are you thoughts on the price and schedule</td>\n",
       "      <td>0</td>\n",
       "    </tr>\n",
       "    <tr>\n",
       "      <th>1</th>\n",
       "      <td>bayc better than goblins</td>\n",
       "      <td>1</td>\n",
       "    </tr>\n",
       "    <tr>\n",
       "      <th>2</th>\n",
       "      <td>Original music by dope artists is a cooler use case than BAYC MAYC Don t me</td>\n",
       "      <td>1</td>\n",
       "    </tr>\n",
       "    <tr>\n",
       "      <th>3</th>\n",
       "      <td>bayc rules</td>\n",
       "      <td>0</td>\n",
       "    </tr>\n",
       "    <tr>\n",
       "      <th>4</th>\n",
       "      <td>Just recorded a video yesterday which will release tomorrow where I mentioned BAYC could reach 100 ETH floor price in t</td>\n",
       "      <td>0</td>\n",
       "    </tr>\n",
       "    <tr>\n",
       "      <th>5</th>\n",
       "      <td>bayc gt goblins</td>\n",
       "      <td>1</td>\n",
       "    </tr>\n",
       "    <tr>\n",
       "      <th>6</th>\n",
       "      <td>The Biggest BAYC Giveaway Claim Your BAYC Now</td>\n",
       "      <td>0</td>\n",
       "    </tr>\n",
       "    <tr>\n",
       "      <th>7</th>\n",
       "      <td>GM the best thing about even if you plebs have to sell you monkey PFP cos they are worthless I will still</td>\n",
       "      <td>1</td>\n",
       "    </tr>\n",
       "    <tr>\n",
       "      <th>8</th>\n",
       "      <td>ppl held their apes at 1k eth they ll hold their apes at 500 eth others joined the club BAYC MAYC gonna thrive thru the bear market</td>\n",
       "      <td>0</td>\n",
       "    </tr>\n",
       "    <tr>\n",
       "      <th>9</th>\n",
       "      <td>ad MAYC 19 ETH 34000 GIVEAWAY mints in 24 hours and is giving away a BAYC NFT worth over 34000 To</td>\n",
       "      <td>1</td>\n",
       "    </tr>\n",
       "    <tr>\n",
       "      <th>10</th>\n",
       "      <td>When BAYC mfs finally meet their 1 irl</td>\n",
       "      <td>0</td>\n",
       "    </tr>\n",
       "    <tr>\n",
       "      <th>11</th>\n",
       "      <td>For 0 25 E Pay us eth Check out my item listing on OpenSea ensdomains Ethereum NFT NFTCommmu</td>\n",
       "      <td>0</td>\n",
       "    </tr>\n",
       "    <tr>\n",
       "      <th>12</th>\n",
       "      <td>I will give away another rare GOBLIN to some random person floor price 7ETH Last round Follow Retweet</td>\n",
       "      <td>0</td>\n",
       "    </tr>\n",
       "    <tr>\n",
       "      <th>13</th>\n",
       "      <td>BAYC</td>\n",
       "      <td>0</td>\n",
       "    </tr>\n",
       "    <tr>\n",
       "      <th>14</th>\n",
       "      <td>bayc for the win</td>\n",
       "      <td>1</td>\n",
       "    </tr>\n",
       "  </tbody>\n",
       "</table>\n",
       "</div>"
      ],
      "text/plain": [
       "                                                                                                                                  Tweets  sentiment_score\n",
       "0                  GACC IS LIVE for WAGMI Wednesday All MACC details have been revealed what are you thoughts on the price and schedule                 0\n",
       "1                                                                                                              bayc better than goblins                 1\n",
       "2                                                            Original music by dope artists is a cooler use case than BAYC MAYC Don t me                1\n",
       "3                                                                                                                            bayc rules                 0\n",
       "4               Just recorded a video yesterday which will release tomorrow where I mentioned BAYC could reach 100 ETH floor price in t                 0\n",
       "5                                                                                                                       bayc gt goblins                 1\n",
       "6                                                                                         The Biggest BAYC Giveaway Claim Your BAYC Now                 0\n",
       "7                             GM the best thing about even if you plebs have to sell you monkey PFP cos they are worthless I will still                 1\n",
       "8   ppl held their apes at 1k eth they ll hold their apes at 500 eth others joined the club BAYC MAYC gonna thrive thru the bear market                 0\n",
       "9                                     ad MAYC 19 ETH 34000 GIVEAWAY mints in 24 hours and is giving away a BAYC NFT worth over 34000 To                 1\n",
       "10                                                                                               When BAYC mfs finally meet their 1 irl                 0\n",
       "11                                         For 0 25 E Pay us eth Check out my item listing on OpenSea ensdomains Ethereum NFT NFTCommmu                 0\n",
       "12                                I will give away another rare GOBLIN to some random person floor price 7ETH Last round Follow Retweet                 0\n",
       "13                                                                                                                                 BAYC                 0\n",
       "14                                                                                                                     bayc for the win                 1"
      ]
     },
     "execution_count": 216,
     "metadata": {},
     "output_type": "execute_result"
    }
   ],
   "source": [
    "bayc_learing_df = bayc_tweet_sentiment_df.copy()\n",
    "bayc_learing_df = bayc_learing_df[[\"Tweets\",\"sentiment_score\"]]\n",
    "bayc_learing_df"
   ]
  },
  {
   "cell_type": "code",
   "execution_count": 220,
   "id": "8d8d6ac3",
   "metadata": {},
   "outputs": [],
   "source": [
    "# Create the features set (X) and the target vector (y)\n",
    "X = bayc_learing_df[\"Tweets\"].values\n",
    "y = bayc_learing_df[\"sentiment_score\"].values"
   ]
  },
  {
   "cell_type": "code",
   "execution_count": 221,
   "id": "255950f2",
   "metadata": {},
   "outputs": [],
   "source": [
    "# Create the train, test, and validation sets\n",
    "X_train, X_test, y_train, y_test = train_test_split(X, y)\n",
    "\n",
    "X_train, X_val, y_train, y_val = train_test_split(X_train, y_train)"
   ]
  },
  {
   "cell_type": "markdown",
   "id": "76e1f44f",
   "metadata": {},
   "source": [
    "***Scoring Sentiment Using RNN LSTM***\n",
    "\n",
    "Build an RNN LSTM model to score the sentiment of the review comments. You will fit the model using the training and validations sets, and finally, you will get some predictions using the testing set "
   ]
  },
  {
   "cell_type": "code",
   "execution_count": 223,
   "id": "7d749b1c",
   "metadata": {},
   "outputs": [],
   "source": [
    "# Create an instance of the Tokenizer and fit it with the X text data\n",
    "tokenizer = Tokenizer(lower=True)\n",
    "tokenizer.fit_on_texts(X)"
   ]
  },
  {
   "cell_type": "code",
   "execution_count": 224,
   "id": "0e6fd59e",
   "metadata": {},
   "outputs": [
    {
     "name": "stdout",
     "output_type": "stream",
     "text": [
      "word: 'bayc', token: 1\n",
      "word: 'the', token: 2\n",
      "word: 'eth', token: 3\n",
      "word: 'is', token: 4\n",
      "word: 'for', token: 5\n"
     ]
    }
   ],
   "source": [
    "# Print the first five elements of the encoded vocabulary\n",
    "for token in list(tokenizer.word_index)[:5]:\n",
    "    print(f\"word: '{token}', token: {tokenizer.word_index[token]}\")"
   ]
  },
  {
   "cell_type": "code",
   "execution_count": 226,
   "id": "5278293b",
   "metadata": {},
   "outputs": [
    {
     "name": "stdout",
     "output_type": "stream",
     "text": [
      "**Text comment**\n",
      "{' GACC IS LIVE for WAGMI Wednesday All MACC details have been revealed what are you thoughts on the price and schedule '}\n",
      "**Numerical sequence representation**\n",
      "[30, 4, 31, 5, 32, 33, 34, 35, 36, 14, 37, 38, 39, 15, 6, 40, 16, 2, 7, 17, 41]\n"
     ]
    }
   ],
   "source": [
    "#To fit the RNN LSTM model for sentiment scoring, the text data in X should be encoded \n",
    "#as sequences. Use the text_to_sequence() method of the tokenizer to transform\n",
    "#the text data to numerical sequences and save the sequences in a variable called X_seq\n",
    "# Transform the text data to numerical sequences\n",
    "X_seq = tokenizer.texts_to_sequences(X)\n",
    "#For testing proposes, compare the text representation of a movie review with its \n",
    "#numerical representation, by printing the first text review in X and the first encoded element in X_seq\n",
    "\n",
    "# Contrast a sample numerical sequence with its text version\n",
    "print(\"**Text comment**\")\n",
    "print({X[0]})\n",
    "print(\"**Numerical sequence representation**\")\n",
    "print(X_seq[0])"
   ]
  },
  {
   "cell_type": "code",
   "execution_count": 229,
   "id": "b03c3277",
   "metadata": {},
   "outputs": [],
   "source": [
    "#RNN LSTM models need equal size inputs, so that, pad the sequences \n",
    "#stored in X_pad up to 140 integers using the pad_sequences method from Keras. \n",
    "#Store the pad size in a variable called max_words.Note: You may use a bigger padding size;\n",
    "#however, using a bigger value will increase the time that takes fitting the RNN LSTM model\n",
    "# Set the pad size\n",
    "max_words = 140\n",
    "\n",
    "# Pad the sequences using the pad_sequences() method\n",
    "X_pad = pad_sequences(X_seq, maxlen=max_words, padding=\"post\")\n"
   ]
  },
  {
   "cell_type": "code",
   "execution_count": 230,
   "id": "bf37355a",
   "metadata": {},
   "outputs": [],
   "source": [
    "#Create the Training, Validation, and Testing Sets\n",
    "#Create suitable training, validation, and testing sets for fitting and testing \n",
    "#the RNN LSTM model using the encoded review comments.\n",
    "#Use the train_test_split method from sklearn to create these sets\n",
    "# Creating training, validation, and testing sets using the encoded data\n",
    "X_train_rnn, X_test_rnn, y_train_rnn, y_test_rnn = train_test_split(X_pad, y)\n",
    "\n",
    "X_train_rnn, X_val_rnn, y_train_rnn, y_val_rnn = train_test_split(X_train_rnn, y_train_rnn)"
   ]
  },
  {
   "cell_type": "code",
   "execution_count": 232,
   "id": "ee748595",
   "metadata": {},
   "outputs": [],
   "source": [
    "#Build and Train the RNN LSTM Model\n",
    "#We use Embedding layers to analyze text data in RNN LSTM models,\n",
    "#so this section starts by setting-up some initial variables needed for the RNN LSTM to \n",
    "#score sentiment.As it's defined in the Embedding layer documentation of the Keras API, \n",
    "#set the input_dim parameter to the size of your vocabulary, \n",
    "#so we set the vocabulary_size variable to the length of the number of words in the\n",
    "#tokenizer plus 1.Also, we define a variable called embedding_size to specify how\n",
    "#many dimensions will be used to represent each word.\n",
    "# Model set-up\n",
    "vocabulary_size = len(tokenizer.word_counts.keys()) + 1\n",
    "embedding_size = 64\n"
   ]
  },
  {
   "cell_type": "markdown",
   "id": "21c89a41",
   "metadata": {},
   "source": [
    "***Define an RNN LSTM model as follows:***\n",
    "- Layer 1: Add an Embedding layer using the vocabulary_size and embedding_size variables as the first two parameters, and setting input_length=max_words (the same size as the padding).\n",
    "- Layer 2: Add an LSTM layer with 280 units.Output Layer: Add a Dense layer with 1 unit and sigmoid as activation function."
   ]
  },
  {
   "cell_type": "code",
   "execution_count": 233,
   "id": "9ce478c9",
   "metadata": {},
   "outputs": [
    {
     "name": "stderr",
     "output_type": "stream",
     "text": [
      "2022-06-16 00:39:01.907929: I tensorflow/core/platform/cpu_feature_guard.cc:193] This TensorFlow binary is optimized with oneAPI Deep Neural Network Library (oneDNN) to use the following CPU instructions in performance-critical operations:  AVX2 FMA\n",
      "To enable them in other operations, rebuild TensorFlow with the appropriate compiler flags.\n"
     ]
    }
   ],
   "source": [
    "# Define the LSTM RNN model\n",
    "model = Sequential()\n",
    "\n",
    "# Layer 1\n",
    "model.add(Embedding(vocabulary_size, embedding_size, input_length=max_words))\n",
    "\n",
    "# Layer 2\n",
    "model.add(LSTM(units=280))\n",
    "\n",
    "# Output layer\n",
    "model.add(Dense(units=1, activation=\"sigmoid\"))"
   ]
  },
  {
   "cell_type": "code",
   "execution_count": 238,
   "id": "e3aa58d7",
   "metadata": {},
   "outputs": [],
   "source": [
    "#Compile the model using the binary_crossentropy loss function, the adam optimizer, \n",
    "#and fetch the following metrics: Accuracy, True positives, True negatives,\n",
    "#False positives, False negatives, Precision, Recall,and AUC.\n",
    "\n",
    "# Compile the model\n",
    "model.compile(\n",
    "    loss=\"binary_crossentropy\",\n",
    "    optimizer=\"adam\",\n",
    "    metrics=[\n",
    "        \"accuracy\",\n",
    "        tf.keras.metrics.TruePositives(name=\"tp\"),\n",
    "        tf.keras.metrics.TrueNegatives(name=\"tn\"),\n",
    "        tf.keras.metrics.FalsePositives(name=\"fp\"),\n",
    "        tf.keras.metrics.FalseNegatives(name=\"fn\"),\n",
    "        tf.keras.metrics.Precision(name=\"precision\"),\n",
    "        tf.keras.metrics.Recall(name=\"recall\"),\n",
    "        tf.keras.metrics.AUC(name=\"auc\"),\n",
    "    ],\n",
    ")"
   ]
  },
  {
   "cell_type": "code",
   "execution_count": 239,
   "id": "22415fec",
   "metadata": {},
   "outputs": [
    {
     "name": "stdout",
     "output_type": "stream",
     "text": [
      "Model: \"sequential\"\n",
      "_________________________________________________________________\n",
      " Layer (type)                Output Shape              Param #   \n",
      "=================================================================\n",
      " embedding (Embedding)       (None, 140, 64)           8896      \n",
      "                                                                 \n",
      " lstm (LSTM)                 (None, 280)               386400    \n",
      "                                                                 \n",
      " dense (Dense)               (None, 1)                 281       \n",
      "                                                                 \n",
      "=================================================================\n",
      "Total params: 395,577\n",
      "Trainable params: 395,577\n",
      "Non-trainable params: 0\n",
      "_________________________________________________________________\n"
     ]
    }
   ],
   "source": [
    "#Display the summary of the model using the summary method of the model.\n",
    "# Show model summary\n",
    "model.summary()"
   ]
  },
  {
   "cell_type": "code",
   "execution_count": 240,
   "id": "106e589c",
   "metadata": {},
   "outputs": [
    {
     "name": "stdout",
     "output_type": "stream",
     "text": [
      "Epoch 1/10\n",
      "1/1 [==============================] - 4s 4s/step - loss: 0.6939 - accuracy: 0.3750 - tp: 3.0000 - tn: 0.0000e+00 - fp: 5.0000 - fn: 0.0000e+00 - precision: 0.3750 - recall: 1.0000 - auc: 0.5000 - val_loss: 0.7099 - val_accuracy: 0.3333 - val_tp: 0.0000e+00 - val_tn: 1.0000 - val_fp: 0.0000e+00 - val_fn: 2.0000 - val_precision: 0.0000e+00 - val_recall: 0.0000e+00 - val_auc: 0.5000\n",
      "Epoch 2/10\n",
      "1/1 [==============================] - 0s 143ms/step - loss: 0.6825 - accuracy: 0.6250 - tp: 0.0000e+00 - tn: 5.0000 - fp: 0.0000e+00 - fn: 3.0000 - precision: 0.0000e+00 - recall: 0.0000e+00 - auc: 0.5000 - val_loss: 0.7350 - val_accuracy: 0.3333 - val_tp: 0.0000e+00 - val_tn: 1.0000 - val_fp: 0.0000e+00 - val_fn: 2.0000 - val_precision: 0.0000e+00 - val_recall: 0.0000e+00 - val_auc: 0.5000\n",
      "Epoch 3/10\n",
      "1/1 [==============================] - 0s 142ms/step - loss: 0.6720 - accuracy: 0.6250 - tp: 0.0000e+00 - tn: 5.0000 - fp: 0.0000e+00 - fn: 3.0000 - precision: 0.0000e+00 - recall: 0.0000e+00 - auc: 0.5000 - val_loss: 0.7864 - val_accuracy: 0.3333 - val_tp: 0.0000e+00 - val_tn: 1.0000 - val_fp: 0.0000e+00 - val_fn: 2.0000 - val_precision: 0.0000e+00 - val_recall: 0.0000e+00 - val_auc: 0.5000\n",
      "Epoch 4/10\n",
      "1/1 [==============================] - 0s 161ms/step - loss: 0.6624 - accuracy: 0.6250 - tp: 0.0000e+00 - tn: 5.0000 - fp: 0.0000e+00 - fn: 3.0000 - precision: 0.0000e+00 - recall: 0.0000e+00 - auc: 0.5000 - val_loss: 0.9670 - val_accuracy: 0.3333 - val_tp: 0.0000e+00 - val_tn: 1.0000 - val_fp: 0.0000e+00 - val_fn: 2.0000 - val_precision: 0.0000e+00 - val_recall: 0.0000e+00 - val_auc: 0.5000\n",
      "Epoch 5/10\n",
      "1/1 [==============================] - 0s 160ms/step - loss: 0.6849 - accuracy: 0.6250 - tp: 0.0000e+00 - tn: 5.0000 - fp: 0.0000e+00 - fn: 3.0000 - precision: 0.0000e+00 - recall: 0.0000e+00 - auc: 0.5000 - val_loss: 0.8374 - val_accuracy: 0.3333 - val_tp: 0.0000e+00 - val_tn: 1.0000 - val_fp: 0.0000e+00 - val_fn: 2.0000 - val_precision: 0.0000e+00 - val_recall: 0.0000e+00 - val_auc: 0.5000\n",
      "Epoch 6/10\n",
      "1/1 [==============================] - 0s 148ms/step - loss: 0.6625 - accuracy: 0.6250 - tp: 0.0000e+00 - tn: 5.0000 - fp: 0.0000e+00 - fn: 3.0000 - precision: 0.0000e+00 - recall: 0.0000e+00 - auc: 0.5000 - val_loss: 0.7902 - val_accuracy: 0.3333 - val_tp: 0.0000e+00 - val_tn: 1.0000 - val_fp: 0.0000e+00 - val_fn: 2.0000 - val_precision: 0.0000e+00 - val_recall: 0.0000e+00 - val_auc: 0.5000\n",
      "Epoch 7/10\n",
      "1/1 [==============================] - 0s 169ms/step - loss: 0.6622 - accuracy: 0.6250 - tp: 0.0000e+00 - tn: 5.0000 - fp: 0.0000e+00 - fn: 3.0000 - precision: 0.0000e+00 - recall: 0.0000e+00 - auc: 0.5000 - val_loss: 0.7696 - val_accuracy: 0.3333 - val_tp: 0.0000e+00 - val_tn: 1.0000 - val_fp: 0.0000e+00 - val_fn: 2.0000 - val_precision: 0.0000e+00 - val_recall: 0.0000e+00 - val_auc: 0.5000\n",
      "Epoch 8/10\n",
      "1/1 [==============================] - 0s 183ms/step - loss: 0.6642 - accuracy: 0.6250 - tp: 0.0000e+00 - tn: 5.0000 - fp: 0.0000e+00 - fn: 3.0000 - precision: 0.0000e+00 - recall: 0.0000e+00 - auc: 0.5000 - val_loss: 0.7599 - val_accuracy: 0.3333 - val_tp: 0.0000e+00 - val_tn: 1.0000 - val_fp: 0.0000e+00 - val_fn: 2.0000 - val_precision: 0.0000e+00 - val_recall: 0.0000e+00 - val_auc: 0.5000\n",
      "Epoch 9/10\n",
      "1/1 [==============================] - 0s 166ms/step - loss: 0.6658 - accuracy: 0.6250 - tp: 0.0000e+00 - tn: 5.0000 - fp: 0.0000e+00 - fn: 3.0000 - precision: 0.0000e+00 - recall: 0.0000e+00 - auc: 0.5000 - val_loss: 0.7558 - val_accuracy: 0.3333 - val_tp: 0.0000e+00 - val_tn: 1.0000 - val_fp: 0.0000e+00 - val_fn: 2.0000 - val_precision: 0.0000e+00 - val_recall: 0.0000e+00 - val_auc: 0.5000\n",
      "Epoch 10/10\n",
      "1/1 [==============================] - 0s 174ms/step - loss: 0.6666 - accuracy: 0.6250 - tp: 0.0000e+00 - tn: 5.0000 - fp: 0.0000e+00 - fn: 3.0000 - precision: 0.0000e+00 - recall: 0.0000e+00 - auc: 0.5000 - val_loss: 0.7550 - val_accuracy: 0.3333 - val_tp: 0.0000e+00 - val_tn: 1.0000 - val_fp: 0.0000e+00 - val_fn: 2.0000 - val_precision: 0.0000e+00 - val_recall: 0.0000e+00 - val_auc: 0.5000\n"
     ]
    },
    {
     "data": {
      "text/plain": [
       "<keras.callbacks.History at 0x7fa3264c5dd0>"
      ]
     },
     "execution_count": 240,
     "metadata": {},
     "output_type": "execute_result"
    }
   ],
   "source": [
    "#Train the RNN LSTM model using a batch size equals to 1000 and ten epochs. \n",
    "#Remember to set the validation_data parameter to use your validation sets.\n",
    "# Training the model\n",
    "batch_size = 1000\n",
    "epochs = 10\n",
    "model.fit(\n",
    "    X_train_rnn,\n",
    "    y_train_rnn,\n",
    "    validation_data=(X_val_rnn, y_val_rnn),\n",
    "    epochs=epochs,\n",
    "    batch_size=batch_size,\n",
    "    verbose=1,\n",
    ")"
   ]
  },
  {
   "cell_type": "code",
   "execution_count": 241,
   "id": "de1ea2ae",
   "metadata": {},
   "outputs": [
    {
     "name": "stdout",
     "output_type": "stream",
     "text": [
      "1/1 [==============================] - 0s 426ms/step\n"
     ]
    }
   ],
   "source": [
    "# Predict classes using the testing data\n",
    "y_rnn_pred = model.predict(X_test_rnn) > 0.5"
   ]
  },
  {
   "cell_type": "code",
   "execution_count": 243,
   "id": "287337d2",
   "metadata": {},
   "outputs": [
    {
     "name": "stdout",
     "output_type": "stream",
     "text": [
      "RNN LSTM Accuracy 0.75\n"
     ]
    }
   ],
   "source": [
    "print(\"RNN LSTM Accuracy %.2f\" % (accuracy_score(y_test_rnn, y_rnn_pred)))"
   ]
  },
  {
   "cell_type": "code",
   "execution_count": 245,
   "id": "72ba63f7",
   "metadata": {},
   "outputs": [
    {
     "name": "stdout",
     "output_type": "stream",
     "text": [
      "Confusion Matrix from the RNN LSTM Model\n"
     ]
    },
    {
     "data": {
      "text/html": [
       "<div>\n",
       "<style scoped>\n",
       "    .dataframe tbody tr th:only-of-type {\n",
       "        vertical-align: middle;\n",
       "    }\n",
       "\n",
       "    .dataframe tbody tr th {\n",
       "        vertical-align: top;\n",
       "    }\n",
       "\n",
       "    .dataframe thead th {\n",
       "        text-align: right;\n",
       "    }\n",
       "</style>\n",
       "<table border=\"1\" class=\"dataframe\">\n",
       "  <thead>\n",
       "    <tr style=\"text-align: right;\">\n",
       "      <th>Predicted</th>\n",
       "      <th>Positive(1)</th>\n",
       "      <th>Negative(0)</th>\n",
       "    </tr>\n",
       "    <tr>\n",
       "      <th>Actual</th>\n",
       "      <th></th>\n",
       "      <th></th>\n",
       "    </tr>\n",
       "  </thead>\n",
       "  <tbody>\n",
       "    <tr>\n",
       "      <th>Positive(1)</th>\n",
       "      <td>TP=0</td>\n",
       "      <td>FN=1</td>\n",
       "    </tr>\n",
       "    <tr>\n",
       "      <th>Negative(0)</th>\n",
       "      <td>FP=0</td>\n",
       "      <td>TN=3</td>\n",
       "    </tr>\n",
       "  </tbody>\n",
       "</table>\n",
       "</div>"
      ],
      "text/plain": [
       "Predicted   Positive(1) Negative(0)\n",
       "Actual                             \n",
       "Positive(1)        TP=0        FN=1\n",
       "Negative(0)        FP=0        TN=3"
      ]
     },
     "metadata": {},
     "output_type": "display_data"
    }
   ],
   "source": [
    "#Confusion Matrix\n",
    "#Scoring the sentiment of the movie reviews as positive or negative is a binary classification\n",
    "#problem, so use the confusion_matrix method from sklearn to calculate the confusion matrix\n",
    "#for the RNN LSTM model.\n",
    "\n",
    "# Confusion matrtix metrics from the RNN LSTM model\n",
    "tn_rnn, fp_rnn, fn_rnn, tp_rnn = confusion_matrix(y_test_rnn, y_rnn_pred).ravel()\n",
    "\n",
    "# Dataframe to display confusion matrix from the RNN LSTM model\n",
    "cm_rnn_df = pd.DataFrame(\n",
    "    {\n",
    "        \"Positive(1)\": [f\"TP={tp_rnn}\", f\"FP={fp_rnn}\"],\n",
    "        \"Negative(0)\": [f\"FN={fn_rnn}\", f\"TN={tn_rnn}\"],\n",
    "    },\n",
    "    index=[\"Positive(1)\", \"Negative(0)\"],\n",
    ")\n",
    "cm_rnn_df.index.name = \"Actual\"\n",
    "cm_rnn_df.columns.name = \"Predicted\"\n",
    "print(\"Confusion Matrix from the RNN LSTM Model\")\n",
    "display(cm_rnn_df)"
   ]
  },
  {
   "cell_type": "code",
   "execution_count": 247,
   "id": "7838af2f",
   "metadata": {},
   "outputs": [
    {
     "name": "stdout",
     "output_type": "stream",
     "text": [
      "Classification Report for the RNN LSTM Model\n",
      "              precision    recall  f1-score   support\n",
      "\n",
      "           0       1.00      0.75      0.86         4\n",
      "           1       0.00      0.00      0.00         0\n",
      "\n",
      "    accuracy                           0.75         4\n",
      "   macro avg       0.50      0.38      0.43         4\n",
      "weighted avg       1.00      0.75      0.86         4\n",
      "\n"
     ]
    }
   ],
   "source": [
    "# Display classification report for the RNN LSTM Model\n",
    "print(\"Classification Report for the RNN LSTM Model\")\n",
    "print(classification_report(y_rnn_pred, y_test_rnn))"
   ]
  },
  {
   "cell_type": "code",
   "execution_count": 250,
   "id": "8e92dce9",
   "metadata": {},
   "outputs": [
    {
     "name": "stdout",
     "output_type": "stream",
     "text": [
      "1/1 [==============================] - 0s 37ms/step\n"
     ]
    }
   ],
   "source": [
    "# ROC Curve RNN LSTM\n",
    "#Use the predict() method from the RNN LSTM model to predict the sentiment of \n",
    "#the testing data X_test_rnn. Set batch_size=1000 to speed up the predictions and store \n",
    "#the results in a variable called test_predictions_rnn.\n",
    "\n",
    "# Making predictions to feed the roc_curve module\n",
    "test_predictions_rnn = model.predict(X_test_rnn, batch_size=1000)\n",
    "\n",
    "# Use the roc_curve method from sklearn to calculate the false positives (fpr)\n",
    "#and true positives (tpr) rates passing as parameters the testing target sentiments\n",
    "#(y_test_rnn) and the predictions you compute using the testing data (test_predictions_rnn)\n",
    "# Data for ROC Curve - RNN LSTM Model\n",
    "fpr_test_rnn, tpr_test_rnn, thresholds_test_rnn = roc_curve(y_test_rnn, test_predictions_rnn)"
   ]
  },
  {
   "cell_type": "code",
   "execution_count": 251,
   "id": "476c0a97",
   "metadata": {},
   "outputs": [],
   "source": [
    "#After calculating the fpr and tpr for the RNN LSTM Model, use the auc method of sklearn \n",
    "#to calculate the AUC for this model.Round the final result up to 4 decimals.\n",
    "# AUC for the RNN LSTM Model\n",
    "auc_test_rnn = auc(fpr_test_rnn, tpr_test_rnn)\n",
    "auc_test_rnn = round(auc_test_rnn, 4)"
   ]
  },
  {
   "cell_type": "code",
   "execution_count": 252,
   "id": "eaa37ec2",
   "metadata": {},
   "outputs": [],
   "source": [
    "# Once you gather all the data needed to plot the ROC curve, \n",
    "#create a DataFrame with the fpr and tpr data from the RNN LSTM model\n",
    "#Dataframe to plot ROC Curve for the RNN LSTM model\n",
    "roc_df_test_rnn = pd.DataFrame({\"FPR Test\": fpr_test_rnn, \"TPR Test\": tpr_test_rnn,})"
   ]
  },
  {
   "cell_type": "code",
   "execution_count": 253,
   "id": "5cd23951",
   "metadata": {},
   "outputs": [
    {
     "data": {
      "text/plain": [
       "<AxesSubplot:title={'center':'Test ROC Curve (AUC=0.0)'}, xlabel='FPR Test'>"
      ]
     },
     "execution_count": 253,
     "metadata": {},
     "output_type": "execute_result"
    },
    {
     "data": {
      "image/png": "[encoded data removed]",
      "text/plain": [
       "<Figure size 432x288 with 1 Axes>"
      ]
     },
     "metadata": {
      "needs_background": "light"
     },
     "output_type": "display_data"
    }
   ],
   "source": [
    "roc_df_test_rnn.plot(\n",
    "    x=\"FPR Test\",\n",
    "    y=\"TPR Test\",\n",
    "    color=\"blue\",\n",
    "    style=\"--\",\n",
    "    xlim=([-0.05, 1.05]),\n",
    "    title=f\"Test ROC Curve (AUC={auc_test_rnn})\",\n",
    ")"
   ]
  },
  {
   "cell_type": "code",
   "execution_count": null,
   "id": "86063aa6",
   "metadata": {},
   "outputs": [],
   "source": []
  }
 ],
 "metadata": {
  "kernelspec": {
   "display_name": "Python [conda env:pyvizenv] *",
   "language": "python",
   "name": "conda-env-pyvizenv-py"
  },
  "language_info": {
   "codemirror_mode": {
    "name": "ipython",
    "version": 3
   },
   "file_extension": ".py",
   "mimetype": "text/x-python",
   "name": "python",
   "nbconvert_exporter": "python",
   "pygments_lexer": "ipython3",
   "version": "3.7.7"
  }
 },
 "nbformat": 4,
 "nbformat_minor": 5
}
