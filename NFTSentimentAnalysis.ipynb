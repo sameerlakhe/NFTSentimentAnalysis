{
 "cells": [
  {
   "cell_type": "code",
   "execution_count": 93,
   "id": "ebba36be",
   "metadata": {},
   "outputs": [],
   "source": [
    "# Initial imports\n",
    "import os\n",
    "import requests\n",
    "import pandas as pd\n",
    "from dotenv import load_dotenv\n",
    "import alpaca_trade_api as tradeapi\n",
    "import json\n",
    "from datetime import datetime \n",
    "from alpaca_trade_api.rest import REST, TimeFrame\n",
    "import tweepy\n",
    "%matplotlib inline\n",
    "from pathlib import Path\n",
    "import csv\n",
    "import re"
   ]
  },
  {
   "cell_type": "code",
   "execution_count": 131,
   "id": "9b40cf38",
   "metadata": {},
   "outputs": [],
   "source": [
    "# Load .env enviroment variables\n",
    "load_dotenv()\n",
    "bearer_token =  os.getenv('TWITTER_BEARER_TOKEN')\n",
    "api_key =  os.getenv('TWITTER_API_KEY')\n",
    "api_secret_key =  os.getenv('TWITTER_SECRET_KEY')\n",
    "access_token =  os.getenv('TWITTER_ACCESS_TOKEN')\n",
    "access_secret_token =  os.getenv('TWITTER_SECRET_TOKEN')\n",
    "\n",
    "\n",
    "def get_api_keys():\n",
    "    api_key =  os.getenv('TWITTER_API_KEY')\n",
    "    api_secret_key =  os.getenv('TWITTER_SECRET_KEY')\n",
    "    bearer_token =  os.getenv('TWITTER_BEARER_TOKEN')\n",
    "    access_token =  os.getenv('TWITTER_ACCESS_TOKEN')\n",
    "    access_secret_token =  os.getenv('TWITTER_SECRET_TOKEN')\n",
    "    return api_key,api_secret_key,bearer_token,access_token,access_secret_token\n",
    "\n",
    "def get_api_keys1():\n",
    "    api_key =  os.getenv('access_token')\n",
    "    api_secret_key =  os.getenv('access_token_secret')\n",
    "    bearer_token =  os.getenv('TWITTER_BEARER_TOKEN')\n",
    "    access_token =  os.getenv('consumer_key')\n",
    "    access_secret_token =  os.getenv('consumer_secret')\n",
    "    return api_key,api_secret_key,bearer_token,access_token,access_secret_token\n",
    "\n",
    "api_key,api_secret_key,bearer_token,access_token,access_secret_token = get_api_keys()\n"
   ]
  },
  {
   "cell_type": "code",
   "execution_count": 130,
   "id": "f8fe1fcf",
   "metadata": {},
   "outputs": [
    {
     "name": "stdout",
     "output_type": "stream",
     "text": [
      "{\"data\":{\"text\":\"On this day in 1980: Steve Ballmer became Microsoft employee #24.\\n\\nHis shares are now worth $81 billion. https://t.co/tHc8wtldIG\",\"author_id\":\"164425558\",\"attachments\":{\"media_keys\":[\"3_1535608317837443073\"]},\"created_at\":\"2022-06-11T13:02:08.000Z\",\"id\":\"1535608320211427329\"},\"includes\":{\"users\":[{\"id\":\"164425558\",\"name\":\"Jon Erlichman\",\"username\":\"JonErlichman\"}]}}\n"
     ]
    }
   ],
   "source": [
    "url = \"https://api.twitter.com/2/tweets/1535608320211427329?tweet.fields=created_at,attachments&expansions=author_id\"\n",
    "\n",
    "payload={}\n",
    "headers = {\n",
    "  'id': '1228393702244134912',\n",
    "  'Authorization': 'Bearer '+ bearer_token,\n",
    "  'Cookie': 'guest_id=v1%3A165495549908649152'\n",
    "}\n",
    "\n",
    "response = requests.request(\"GET\", url, headers=headers, data=payload)\n",
    "json_response = response.text\n",
    "print(json_response)"
   ]
  },
  {
   "cell_type": "code",
   "execution_count": null,
   "id": "cb415a75",
   "metadata": {},
   "outputs": [],
   "source": []
  },
  {
   "cell_type": "code",
   "execution_count": 28,
   "id": "f82bbde7",
   "metadata": {},
   "outputs": [
    {
     "name": "stdout",
     "output_type": "stream",
     "text": [
      "{'end': '2022-06-07T00:00:00.000Z', 'start': '2022-06-06T17:21:19.000Z', 'tweet_count': 474374}\n",
      "{'end': '2022-06-08T00:00:00.000Z', 'start': '2022-06-07T00:00:00.000Z', 'tweet_count': 2040590}\n",
      "{'end': '2022-06-09T00:00:00.000Z', 'start': '2022-06-08T00:00:00.000Z', 'tweet_count': 2003730}\n",
      "{'end': '2022-06-10T00:00:00.000Z', 'start': '2022-06-09T00:00:00.000Z', 'tweet_count': 2219720}\n",
      "{'end': '2022-06-11T00:00:00.000Z', 'start': '2022-06-10T00:00:00.000Z', 'tweet_count': 2334905}\n",
      "{'end': '2022-06-12T00:00:00.000Z', 'start': '2022-06-11T00:00:00.000Z', 'tweet_count': 1968336}\n",
      "{'end': '2022-06-13T00:00:00.000Z', 'start': '2022-06-12T00:00:00.000Z', 'tweet_count': 1827583}\n",
      "{'end': '2022-06-13T17:21:19.000Z', 'start': '2022-06-13T00:00:00.000Z', 'tweet_count': 1279660}\n"
     ]
    }
   ],
   "source": [
    "query = \"NFT\"\n",
    "client = tweepy.Client(bearer_token=bearer_token)\n",
    "counts = client.get_recent_tweets_count(query=query,granularity=\"day\")\n",
    "for count in counts.data:\n",
    "    print(count)"
   ]
  },
  {
   "cell_type": "code",
   "execution_count": 31,
   "id": "e4bc4679",
   "metadata": {},
   "outputs": [],
   "source": [
    "def create_tweet(text):\n",
    "    client = tweepy.Client(consumer_key=api_key,\n",
    "        consumer_secret=api_secret_key,\n",
    "        access_token=access_token,\n",
    "        access_token_secret=access_secret_token)\n",
    "    response=client.create_tweet(text=text)\n",
    "\n",
    "#create_tweet(\"Hello World!\")"
   ]
  },
  {
   "cell_type": "code",
   "execution_count": 39,
   "id": "a94ab30c",
   "metadata": {},
   "outputs": [],
   "source": [
    "def determine_file_name(query):\n",
    "    file_name = \"Data/\"+query+\".csv\"\n",
    "    return file_name"
   ]
  },
  {
   "cell_type": "code",
   "execution_count": 40,
   "id": "766b46f8",
   "metadata": {},
   "outputs": [],
   "source": [
    "def search_tweets(query):\n",
    "    client = tweepy.Client(bearer_token=bearer_token)\n",
    "    response = client.search_recent_tweets(query=query)\n",
    "    return response\n",
    "\n",
    "query = \"NFT\"\n",
    "\n",
    "response = search_tweets(query)\n",
    "#for tweet in response.data:\n",
    "   # print(tweet.text)"
   ]
  },
  {
   "cell_type": "code",
   "execution_count": 114,
   "id": "2c67f875",
   "metadata": {},
   "outputs": [],
   "source": [
    "#this function writes the event data to a csv file to avoid calling the API multiple times\n",
    "def write_csv(data_list, file_name):\n",
    "    with open(file_name, mode='w', encoding='utf-8', newline='\\n') as f:\n",
    "        header = \"Tweets\"\n",
    "        f.write(\"%s\\n\" % header)\n",
    "        for data in data_list:\n",
    "            f.write(\"%s\\n\" % data)"
   ]
  },
  {
   "cell_type": "code",
   "execution_count": 117,
   "id": "aa363949",
   "metadata": {},
   "outputs": [],
   "source": [
    "def sanitize_tweet(tweet):\n",
    "    sanitzed_tweet = tweet.replace(\"\\n\", \" \")\n",
    "    sanitzed_tweet = re.sub(r'@[A-za-z0-9]+','',sanitzed_tweet)\n",
    "    sanitzed_tweet = re.sub(r'#','',sanitzed_tweet)\n",
    "    sanitzed_tweet = re.sub(r'RT[\\s]','',sanitzed_tweet)\n",
    "    sanitzed_tweet = re.sub(r'https?:\\/\\/\\S+','',sanitzed_tweet)\n",
    "    sanitzed_tweet = re.sub(r',+','',sanitzed_tweet)\n",
    "    return sanitzed_tweet"
   ]
  },
  {
   "cell_type": "code",
   "execution_count": 129,
   "id": "05a1710d",
   "metadata": {},
   "outputs": [
    {
     "data": {
      "text/html": [
       "<div>\n",
       "<style scoped>\n",
       "    .dataframe tbody tr th:only-of-type {\n",
       "        vertical-align: middle;\n",
       "    }\n",
       "\n",
       "    .dataframe tbody tr th {\n",
       "        vertical-align: top;\n",
       "    }\n",
       "\n",
       "    .dataframe thead th {\n",
       "        text-align: right;\n",
       "    }\n",
       "</style>\n",
       "<table border=\"1\" class=\"dataframe\">\n",
       "  <thead>\n",
       "    <tr style=\"text-align: right;\">\n",
       "      <th></th>\n",
       "      <th>0</th>\n",
       "    </tr>\n",
       "  </thead>\n",
       "  <tbody>\n",
       "    <tr>\n",
       "      <th>0</th>\n",
       "      <td>: SHIBURAI and VIRALCRYPTO are prime examples ...</td>\n",
       "    </tr>\n",
       "    <tr>\n",
       "      <th>1</th>\n",
       "      <td>: 0.4 ETH ($1000)  NFT Giveaway 🥽🥽  To enter  ...</td>\n",
       "    </tr>\n",
       "    <tr>\n",
       "      <th>2</th>\n",
       "      <td>Free NFT</td>\n",
       "    </tr>\n",
       "    <tr>\n",
       "      <th>3</th>\n",
       "      <td>: Will we see the bulls regain control for a g...</td>\n",
       "    </tr>\n",
       "    <tr>\n",
       "      <th>4</th>\n",
       "      <td>: 🔥 BIG WL GIVEAWAY 🔥  2x WL for each Collecti...</td>\n",
       "    </tr>\n",
       "    <tr>\n",
       "      <th>...</th>\n",
       "      <td>...</td>\n",
       "    </tr>\n",
       "    <tr>\n",
       "      <th>495</th>\n",
       "      <td>: Meme contest in our discord tomorow. 🎁 Join ...</td>\n",
       "    </tr>\n",
       "    <tr>\n",
       "      <th>496</th>\n",
       "      <td>: Yoooooo. Some people are doom and gloom righ...</td>\n",
       "    </tr>\n",
       "    <tr>\n",
       "      <th>497</th>\n",
       "      <td>Ron blames Santa Claus for him becoming a g...</td>\n",
       "    </tr>\n",
       "    <tr>\n",
       "      <th>498</th>\n",
       "      <td>: $200 • 24 hrs • rt • follow me   ➡️ follow  ...</td>\n",
       "    </tr>\n",
       "    <tr>\n",
       "      <th>499</th>\n",
       "      <td>: I still think this is the best NFT on the ma...</td>\n",
       "    </tr>\n",
       "  </tbody>\n",
       "</table>\n",
       "<p>500 rows × 1 columns</p>\n",
       "</div>"
      ],
      "text/plain": [
       "                                                     0\n",
       "0    : SHIBURAI and VIRALCRYPTO are prime examples ...\n",
       "1    : 0.4 ETH ($1000)  NFT Giveaway 🥽🥽  To enter  ...\n",
       "2                              Free NFT               \n",
       "3    : Will we see the bulls regain control for a g...\n",
       "4    : 🔥 BIG WL GIVEAWAY 🔥  2x WL for each Collecti...\n",
       "..                                                 ...\n",
       "495  : Meme contest in our discord tomorow. 🎁 Join ...\n",
       "496  : Yoooooo. Some people are doom and gloom righ...\n",
       "497     Ron blames Santa Claus for him becoming a g...\n",
       "498  : $200 • 24 hrs • rt • follow me   ➡️ follow  ...\n",
       "499  : I still think this is the best NFT on the ma...\n",
       "\n",
       "[500 rows x 1 columns]"
      ]
     },
     "execution_count": 129,
     "metadata": {},
     "output_type": "execute_result"
    }
   ],
   "source": [
    "#get the max data\n",
    "limit = 500\n",
    "\n",
    "max_results = 100\n",
    "tweet_list=[]\n",
    "def search_tweets1(query,reload=False):\n",
    "    client = tweepy.Client(bearer_token=bearer_token)\n",
    "    file_name = determine_file_name(query)\n",
    "    path = Path(file_name)\n",
    "    \n",
    "    i=1\n",
    "    if (reload == False and path.is_file()):\n",
    "        print(f'The file {file_name} exists')\n",
    "        nft_df = pd.read_csv(file_name)\n",
    "        return nft_df\n",
    "    else:\n",
    "        for tweet in tweepy.Paginator(client.search_recent_tweets,query=query,max_results=max_results).flatten(limit=limit):\n",
    "            #print(str(i) +\")\" + tweet.text)\n",
    "            i=i+1\n",
    "            sanitized_tweet = sanitize_tweet(tweet.text)\n",
    "            tweet_list.append(sanitized_tweet)\n",
    "        #once the list is generated, write it to file\n",
    "        write_csv(tweet_list,file_name)\n",
    "    #return list as a dataframe\n",
    "    return pd.DataFrame(tweet_list)\n",
    "\n",
    "query = \"NFT\"\n",
    "is_reload_needed = False\n",
    "tweet_df = search_tweets1(query,is_reload_needed)\n",
    "tweet_df\n"
   ]
  },
  {
   "cell_type": "code",
   "execution_count": null,
   "id": "6a7cb63c",
   "metadata": {},
   "outputs": [],
   "source": []
  },
  {
   "cell_type": "code",
   "execution_count": null,
   "id": "99655ed2",
   "metadata": {},
   "outputs": [],
   "source": []
  }
 ],
 "metadata": {
  "kernelspec": {
   "display_name": "Python [conda env:pyvizenv] *",
   "language": "python",
   "name": "conda-env-pyvizenv-py"
  },
  "language_info": {
   "codemirror_mode": {
    "name": "ipython",
    "version": 3
   },
   "file_extension": ".py",
   "mimetype": "text/x-python",
   "name": "python",
   "nbconvert_exporter": "python",
   "pygments_lexer": "ipython3",
   "version": "3.7.7"
  }
 },
 "nbformat": 4,
 "nbformat_minor": 5
}
