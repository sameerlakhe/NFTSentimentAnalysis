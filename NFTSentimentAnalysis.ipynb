{
 "cells": [
  {
   "cell_type": "code",
   "execution_count": 8,
   "id": "46b6a1af",
   "metadata": {},
   "outputs": [
    {
     "name": "stderr",
     "output_type": "stream",
     "text": [
      "WARNING:param.panel_extension: A HoloViz extension was loaded previously. This means the extension is already initialized and the following Panel extensions could not be properly loaded: ['plotly']. If you are loading custom extensions with pn.extension(...) ensure that this is called before any other HoloViz extension such as hvPlot or HoloViews.\n",
      "[nltk_data] Downloading package vader_lexicon to\n",
      "[nltk_data]     /Users/sameerlakhe/nltk_data...\n",
      "[nltk_data]   Package vader_lexicon is already up-to-date!\n"
     ]
    }
   ],
   "source": [
    "# Initial imports\n",
    "import os\n",
    "import requests\n",
    "import pandas as pd\n",
    "from dotenv import load_dotenv\n",
    "import alpaca_trade_api as tradeapi\n",
    "import json\n",
    "from datetime import datetime \n",
    "import datetime\n",
    "from alpaca_trade_api.rest import REST, TimeFrame\n",
    "import tweepy\n",
    "%matplotlib inline\n",
    "from pathlib import Path\n",
    "import csv\n",
    "import re\n",
    "import emoji\n",
    "import nltk\n",
    "import pandas as pd\n",
    "from dotenv import load_dotenv\n",
    "import nltk as nltk\n",
    "from nltk.sentiment.vader import SentimentIntensityAnalyzer\n",
    "from nltk.tokenize import word_tokenize, sent_tokenize\n",
    "from nltk.corpus import stopwords\n",
    "from nltk.stem import WordNetLemmatizer, PorterStemmer\n",
    "from string import punctuation\n",
    "from collections import Counter\n",
    "from nltk import ngrams\n",
    "from wordcloud import WordCloud\n",
    "import matplotlib.pyplot as plt\n",
    "import matplotlib as mpl\n",
    "import spacy\n",
    "from spacy import displacy\n",
    "import warnings\n",
    "import numpy as np\n",
    "import pandas as pd\n",
    "import hvplot.pandas\n",
    "from sklearn.preprocessing import MinMaxScaler\n",
    "from tensorflow.keras.models import Sequential\n",
    "from tensorflow.keras.layers import LSTM, Dense, Dropout\n",
    "from numpy.random import seed\n",
    "#seed(1)\n",
    "from tensorflow import random\n",
    "from sklearn.model_selection import train_test_split\n",
    "from tensorflow.keras.preprocessing.text import Tokenizer\n",
    "from tensorflow.keras.preprocessing.sequence import pad_sequences\n",
    "from tensorflow.keras.models import Sequential\n",
    "from tensorflow.keras.layers import Embedding, LSTM, Dense\n",
    "import tensorflow as tf\n",
    "from sklearn.metrics import accuracy_score\n",
    "from sklearn.metrics import confusion_matrix\n",
    "from sklearn.metrics import classification_report\n",
    "from IPython.display import Image\n",
    "from IPython.core.display import HTML \n",
    "import panel as pn\n",
    "pn.extension('plotly')\n",
    "from PIL import Image\n",
    "from sklearn.metrics import roc_curve, auc\n",
    "#random.set_seed(2)\n",
    "warnings.filterwarnings('ignore')\n",
    "nltk.download('vader_lexicon')\n",
    "plt.style.use('seaborn-whitegrid')\n",
    "mpl.rcParams['figure.figsize'] = [20.0, 10.0]\n",
    "%matplotlib inline"
   ]
  },
  {
   "cell_type": "code",
   "execution_count": 6,
   "id": "b1da34a5",
   "metadata": {},
   "outputs": [
    {
     "name": "stdout",
     "output_type": "stream",
     "text": [
      "9796bf59fe674cae9688a1a9bb422338\n"
     ]
    }
   ],
   "source": [
    "# Load .env enviroment variables\n",
    "load_dotenv()\n",
    "asset_base_url = \"https://api.opensea.io/api/v1/assets\"\n",
    "collection_slug=\"boredapeyachtclub\"\n",
    "opensea_api_key = os.getenv(\"opensea_api_key\")\n",
    "# define headers as global variable it is used in multiple get API calls\n",
    "headers = {\n",
    "        \"Accept\": \"application/json\",\n",
    "        \"X-API-KEY\": opensea_api_key\n",
    "    }\n",
    "#this function will invoke opensea API to get different assets in the NFT collection\n",
    "# it takes the collection name and the limit of assets to be fetched\n",
    "def get_asset(collection_slug,limit):\n",
    "    query = { \n",
    "        \"include_orders\":False,\n",
    "        \"collection_slug\":collection_slug,\n",
    "        \"limit\":limit\n",
    "    }\n",
    "    response = requests.request(\"GET\", asset_base_url, headers=headers,params=query)\n",
    "    return response.json()\n",
    "\n",
    "\n",
    "print(opensea_api_key)"
   ]
  },
  {
   "cell_type": "code",
   "execution_count": 34,
   "id": "77e5829f",
   "metadata": {},
   "outputs": [],
   "source": [
    "asset_limit=200\n",
    "bayc_assets_data=get_asset(collection_slug,asset_limit)\n",
    "#print(json.dumps(doodle_assets,indent=4))\n",
    "bayc_assets = bayc_assets_data[\"assets\"]\n",
    "#print(json.dumps(doodle_assets,indent=4))\n",
    "\n",
    "#this function will iterater over the asset json data and get the thumbnail image URL\n",
    "# it will return a list of thumbnail URLs\n",
    "def get_asset_image_urls(assets):\n",
    "    asset_image_urls=[]\n",
    "    for asset in assets:\n",
    "        asset_image_thumbnail_url = asset[\"image_thumbnail_url\"]\n",
    "        if asset_image_thumbnail_url is not None:\n",
    "            asset_image_urls.append(asset_image_thumbnail_url)\n",
    "    return asset_image_urls\n",
    "\n",
    "asset_image_urls = get_asset_image_urls(bayc_assets)\n",
    "\n",
    "\n",
    "#this method will pick random thumbnail URLs from the list and fetch images using the URL\n",
    "# it will create a panel row with the images and add the row to the panel column\n",
    "# and will return the column\n",
    "def create_panel(asset_image_urls,total_images_to_display):\n",
    "    image_rows = pn.Row()\n",
    "    image_urls = get_unique_image_urls(asset_image_urls,total_images_to_display)\n",
    "    for i in range(0,len(image_urls)):\n",
    "        random_url = np.random.choice(asset_image_urls)\n",
    "        im = Image.open(requests.get(random_url, stream=True).raw)\n",
    "        fig = get_image_figure(im)\n",
    "        image_rows.append(fig)\n",
    "    panel_column = pn.Column(image_rows)\n",
    "    return panel_column\n",
    "\n",
    "def get_unique_image_urls(asset_image_urls,total_images_to_display):\n",
    "    image_urls = set()\n",
    "    while (len(image_urls)<total_images_to_display):\n",
    "        image_urls.add(np.random.choice(asset_image_urls))\n",
    "    return image_urls\n",
    "\n",
    "#this function takes the image object and wraps it in a figure and returns\n",
    "# the figure \n",
    "def get_image_figure(image):\n",
    "    fig=plt.figure(figsize=(3.5,3.5))\n",
    "    plt.imshow(image)\n",
    "    plt.close(fig)\n",
    "    return fig\n",
    "\n",
    "create_panel(asset_image_urls,total_images_to_display)\n",
    "\n",
    "asset_limit=100\n",
    "total_images_to_display=3\n",
    "\n",
    "# this is a function that consolidates all above functions \n",
    "# i.e 1) fetch asset data 2) get image URL from response JSON 3) create image and add it to panel\n",
    "def display_colleaction_assets(collection_slug,asset_limit,total_images_to_display):\n",
    "    collection_slug_assets_data=get_asset(collection_slug,asset_limit)\n",
    "    collection_slug_assets = collection_slug_assets_data[\"assets\"]\n",
    "    asset_image_urls = get_asset_image_urls(collection_slug_assets)\n",
    "    panel = create_panel(asset_image_urls,total_images_to_display)\n",
    "    return panel"
   ]
  },
  {
   "cell_type": "code",
   "execution_count": 35,
   "id": "182b08ed",
   "metadata": {},
   "outputs": [
    {
     "data": {},
     "metadata": {},
     "output_type": "display_data"
    },
    {
     "data": {
      "application/vnd.holoviews_exec.v0+json": "",
      "text/html": [
       "<div id='1093'>\n",
       "\n",
       "\n",
       "\n",
       "\n",
       "\n",
       "  <div class=\"bk-root\" id=\"9b7ec74c-83f4-4ba0-a544-0e1b07c63c5c\" data-root-id=\"1093\"></div>\n",
       "</div>\n",
       "<script type=\"application/javascript\">(function(root) {\n",
       "  function embed_document(root) {\n",
       "    var docs_json = {\"3d6e4472-d4fb-4542-ad64-fcae7eaea309\":{\"defs\":[{\"extends\":null,\"module\":null,\"name\":\"ReactiveHTML1\",\"overrides\":[],\"properties\":[]},{\"extends\":null,\"module\":null,\"name\":\"FlexBox1\",\"overrides\":[],\"properties\":[{\"default\":\"flex-start\",\"kind\":null,\"name\":\"align_content\"},{\"default\":\"flex-start\",\"kind\":null,\"name\":\"align_items\"},{\"default\":\"row\",\"kind\":null,\"name\":\"flex_direction\"},{\"default\":\"wrap\",\"kind\":null,\"name\":\"flex_wrap\"},{\"default\":\"flex-start\",\"kind\":null,\"name\":\"justify_content\"}]},{\"extends\":null,\"module\":null,\"name\":\"GridStack1\",\"overrides\":[],\"properties\":[{\"default\":\"warn\",\"kind\":null,\"name\":\"mode\"},{\"default\":null,\"kind\":null,\"name\":\"ncols\"},{\"default\":null,\"kind\":null,\"name\":\"nrows\"},{\"default\":true,\"kind\":null,\"name\":\"allow_resize\"},{\"default\":true,\"kind\":null,\"name\":\"allow_drag\"},{\"default\":[],\"kind\":null,\"name\":\"state\"}]},{\"extends\":null,\"module\":null,\"name\":\"click1\",\"overrides\":[],\"properties\":[{\"default\":\"\",\"kind\":null,\"name\":\"terminal_output\"},{\"default\":\"\",\"kind\":null,\"name\":\"debug_name\"},{\"default\":0,\"kind\":null,\"name\":\"clears\"}]},{\"extends\":null,\"module\":null,\"name\":\"TemplateActions1\",\"overrides\":[],\"properties\":[{\"default\":0,\"kind\":null,\"name\":\"open_modal\"},{\"default\":0,\"kind\":null,\"name\":\"close_modal\"}]},{\"extends\":null,\"module\":null,\"name\":\"MaterialTemplateActions1\",\"overrides\":[],\"properties\":[{\"default\":0,\"kind\":null,\"name\":\"open_modal\"},{\"default\":0,\"kind\":null,\"name\":\"close_modal\"}]}],\"roots\":{\"references\":[{\"attributes\":{\"height\":252,\"margin\":[5,5,5,5],\"name\":\"Matplotlib01820\",\"text\":\"&lt;img src=&quot;data:image/png;base64,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&quot; width=&quot;252px&quot; height=&quot;252px&quot; alt=&quot;&quot;&gt;&lt;/img&gt;\",\"width\":252},\"id\":\"1096\",\"type\":\"panel.models.markup.HTML\"},{\"attributes\":{\"children\":[{\"id\":\"1095\"},{\"id\":\"1096\"},{\"id\":\"1097\"}],\"margin\":[0,0,0,0],\"name\":\"Row01817\"},\"id\":\"1094\",\"type\":\"Row\"},{\"attributes\":{\"reload\":false},\"id\":\"1099\",\"type\":\"panel.models.location.Location\"},{\"attributes\":{\"height\":252,\"margin\":[5,5,5,5],\"name\":\"Matplotlib01822\",\"text\":\"&lt;img src=&quot;data:image/png;base64,iVBORw0KGgoAAAANSUhEUgAAAPwAAAD8CAYAAABTq8lnAAAAOXRFWHRTb2Z0d2FyZQBNYXRwbG90bGliIHZlcnNpb24zLjUuMSwgaHR0cHM6Ly9tYXRwbG90bGliLm9yZy/YYfK9AAAACXBIWXMAAAsTAAALEwEAmpwYAABg80lEQVR4nO39d5Rl2VnfjX/2PvHmeyvHrs63e3p6ck7KEhICySCMXxNeRDDR6bUxJth+YYENJryAMWALAT8RhIRkgQKSRmKkkTSjCZocum/nUDndHE7cvz/OrerqNNMz01XdM3U+a/VafdM5+56637P3fvazv49QShETE7M5kFe6ATExMRtHLPiYmE1ELPiYmE1ELPiYmE1ELPiYmE1ELPiYmE1ELPiYmE1ELPiYmE1ELPiYmE1ELPiYmE1ELPiYmE1ELPiYmE1ELPiYmE1ELPiYmE1ELPiYmE1ELPiYmE1ELPiYmE1ELPiYmE1ELPiYmE1ELPiYmE1ELPiYmE1ELPiYmE1ELPiYmE1ELPiYmE1ELPiYmE1ELPiYmE2EvhEnKRaLEvhD4HrAAX60VCod2Yhzx8TEnGGjevj3A3apVLoT+I/Ab2/QeWNiYtawUYK/B/gCQKlUegS4ZYPOGxMTs4YNGdIDWaC65nFQLBb1UqnkrzzxxBNPxGVsYzYlN998s9ioc21UD18DMmvPu1bsa7ETNkJs2PePibki2AkbKTc+Zr5RPfxDwHcAHy8Wi3cAz13oTaZpEgQKhYCrRfQqBHGVLWbEbbo0rsY2AaiQIFCMbRnn1ImTG3rqjRL8p4B3FIvFhwEBfPBCb1JK4QfBBjUpJubK4fs+QRBu+Hk3RPClUikEfuLl3hcqhVLxVD7mjY9SCqfjbPh5r6rxTuBfcFofE/OGZGlpecPPeVUJPu7bYzYTYbjx09erSvAxMTHrSyz4mJhNxFUl+KtkIS4mZkO4EivPV5XgY2Ji1pdY8DExm4hY8DExm4hY8DExm4hY8DExm4hY8DExm4hY8DExm4hY8DExm4hY8DExm4hY8DExm4hY8DExm4hY8DExm4hY8DExm4hY8DExm4hY8DExm4hY8DExm4hY8DExm4jLblNdLBYN4E+BrYAF/CrwIvDnRD6VzwM/3bWujomJ2UDWo4f/fmCpVCrdC7wb+APgd4Bf6j4ngPetw3ljYmJehvUQ/N8C/2nNYx+4GXiw+/jzwNvX4bwxMTEvw2Uf0pdKpQZAsVjMAJ8Afgn4rVKptGI7Xwdyl/u8MTExL8+6lJoqFovjRPXk/rBUKv11sVj872tezgCVi35YXYVT+7hNl0bcpkvnCrVrPYJ2g8D9wM+USqV/7D79VLFYfHOpVPoq0bz+Kxc9wNVW7fNqrEAat+nSuBrbBGvapWCDaymuRw//C0AB+E/FYnFlLv+vgd8vFosmcIBoqB8TE7PBiKulWusTTzwRNeRquyNfjb1E3KZL42psE5zXw998880bVpLiKrwaMTEx60Us+JiYTUQs+JiYTUQs+JiYTUQs+JiYTUQs+JiNRYgrUyc5BlinTLuYmAshhERqEgEEQcDVsiS8mYgFH7OuSCmRUuIHAXOzszz33DO02m3e/vZ3YNs2mqahlIrFv0HEgo+5rIg1w/UwDGm1WjRr83RadZYrDu12izBUBEFAp9NBSolhGAghzvpszPoQCz7mklgrxgsJMwxCNE1DCIGUkiAIcV2PkydO8PiXP8zUiecY3PUu3v5t72fbriL1ep252Vk8z2N4ZATbstA0bSO/0qYkFnzMKiu9bPQvSv1UQLvVwvcDgsAnCBWe5+K6Lr7vRx5GwNDgAMcPHabdrDN1rESnchi/PY9uZFkodyC3j7GJ7Tz4uY/yd3MzLM902HnT9fSOjjA/P8uuXUX6+vriXn6diQUfsyoyz/PwPA/f83DaDXy3SeC3cJ02QShQIYShwvNdPM+j47ioMEQpRW/hHhZOl2i3mixOHaG+VMJrL5DJ9CPoJZlIooVtaktTzJ0+TG3eJz+UQJoOiVzvSkuu3EXYJMSC38SsDL+llCgFS0tl5udnWZib4VTpScpTT1NfPEg6rWGYGQwjjaZpGLqBEJJGy6HdaROEAcXiHqae+Tt03SSvm5DK0dJThFIwlBbYZp3y0a9TyEBu/26kEMxOH6AyNctb3vsD5AsFdF0jCIIrfVne0MSC32QIIdA0Dd/3cVyXyVMnmTr2FHMnn8HERQgdhIbld+gv5OjJXIemSRCyO8zvDvkR5M2QrApRCqTU0c0UQghCJLZlYBg6uqaha4JQAULH0EB1jzE8sgPf9/k/f/LzvOef/iu27b7pSl+eNzyx4DcJQgjCMMT3fZYXF+i0lmg3l1icr7A4dYTFqaPYRohlJjCMBJpuoJsGyjQBLrhsJrUzg/BotHDm56RrGpqm0OSa3C4hEAKkgDAEhI4XeFTnjzM3M0m6MEZ/fz9heJW61LwBiAW/CRBCoOs67XabWq3OI1/7CounvkFt5jGGh/YhNIuBvj7anQCkIFBRDy5ZmxQnLij6i62eSym40JxcSoFS4Ace84tVXM9lfGQLhw4eYKkW8r5/8t34vh+Lfp2IBf8GRtd1fM+j1W7z6NceoLH4Ak6thKb1k5QK2buHQ6eXGR4eZ3x8KxPZBJquIZRgbqnK6ckZ5hYWsGSLQi5LNp1G11cSZV55e6QU1BtNglDQNzzB22+4GdsyOHD4NEtzz1P1TnD8+M309fWSSCRi0a8DseDfgAgR9cbLy0u0avPUlqdZnDlEp3ISvzFNMmUgDZtEZoBxPcvIyBjj46PkMwmkroECK5FCSkkiaSO8WpQVpxssLi5imTqmrqPr8pKFr1RIrdHC0G3SqTRbt4yzfWIEy9Qp111qCwfo1BY4duBR7OvvwLSG45j9OhAL/g2G7M6ZQ6V48fnnmD70FeZK/8DAyA2kLQusvSyXqySNPIWeEX7o3XeRStjoWiRepVS0TCcAricMFYtLVU5OL3D81Axfe+RZhvqyDPRmyOoJhLj4sH4FTUo6jsux44e54863sm/ffu6+eS9hGOK6Pjdfu5O5yaMsHinx4Mf/Kz353yCV7SVhW3HK7WUmFvwGsJrMIuVq3ngQBGjdJbGVgNprySlfOc7i4hInDn6DQ099HtvIgtehd/BaNM2i0WzT6jjs3nMdu7ZPsGPrGAnLRCmFHwRn9dYrc3elIJdNsTdpsX3LIDfu28pyuc78UpmHHn2GlAlJ6+Ir6FLAsRNTuH7Ad37H93LNnp0MDfTien73RJBKJhBSIHSTncUbePSBj3P4wON81w/+x5e9mcS8MmLBrzNCCFzXxXE6VCvLuPUFgsADGeDWJUI3MbNp+geGsewEiYT9iueuQkiazQb1aoXF6cMsTB6kvjSDlg2QmoFhpvH8AKmbZDIJtk1sYXR4gL5CBt8PUJzvlrzyWACGrmEaOulkgt58lvlshUQiwcx8GQIHFXTwgwDX8zANs3uzUHheyOxCA9NOMZDPsnvXDgb6ekglLPxg5TtGAUWlou+RTGWZP3UYIRVh3LtfdmLBryMr0fHlpSUmT5/kiUe+xsKL/0jgLKLbDief09GzA/TuK/LO7/getkxsJZMZx/f9S+7thZAIKZmZnuaZJ75J/dinMTWL3p4JFGfm841Wm/7BUcYndnD7jXvQpMTzXzrJJVpvZ3WIr1CgoL83x0Bfnuuv2c6xU3McPn6KjutQqVYZ7O9DCkkYKpodly89fJSf+pHv5F1vvpktI/0EQbhG7NGxDUNHSLEaDDS1DpbeIVQKGafaXlbWq/LMAPAE8A6i2nJ/ziarHKtpGtVqlYMHDzL17N/gtMrktF6sLWO43gAd12H7zSFeKHA7szz4qd9G6jbC7uP7f+zf09s/hN7dOnqx43ueR6NZ58uf+AO8VhVDC0glB6KpQ/d9YRgShiHpnhF27drFbTfsWR3CXwgpo+mH47gsl6ssV+sslyvRTQjIZfOMDPbR15PFMHRGBnso5FNUjUFuvPkujp+Y4fFvPMGWXVsYnxjhj/77O9gyNkBvPkMQhFHiz8oNRK2s7yt8z8X3XRAQBga+p6Nrene0c/Y1ODffPp7nXzrrVS76fwHt7lMrlWO/WiwW/5iocuynLvd5ryaEENRqNRbmJlk49Sz15RkCt0OQsAmQhMLADUKwFMrz8dsdGpUF/AB8scgLTz3M9l3XsHXnvoueo1arUStPszh9mOrCKTTlYyRNhDRWE1wE0PEVfiDZOzHO6FA/mVTiJXp2RblSo1ZvUXd1XC/A9Ux8LUcoFEGgODZdZ2a+Qjapc9P1e7Etk2w6SQeT0eEhWi2PsS0jDA8PMjI8yLV7tmJbBlIK2m2HjuPg+T5+EJJMJLBMA8M0USogDANQIbrdg5Xs767ZnyPuMKTdcbrTBoGmSXRdXx3JxLw069HD/xbwx8DPdx+fWzn2nbyBBb+Sunrs2DHmTj7H/IHPYCUHUWaeuaUWSoDnB7TaLoGKtpEGgcIlhxIBKnD4u7/6HW69+11s23UtcHYPJmU0XD558gSnXvgyRx77S4a33IqUKdQ5oTMhBE6g0XR13nb3jSQT9gXFHrlOCTzP59CREzz94hEWwgkmJiYYHx1naMsgumHgOA7f+MQnefHJr9GuTPF7v/4fGewrkE4lkEKwdXyAnnyKW2/ag5QCyzRIJW2EAM/3KFerTE7PsVypU2+12T6xhcH+HkYGe0GpaCNOGJDuL5IZ2g5CrCbwSCkJwhDX81gul0Gp6ByWSSHfg6brhGEQr92/DJe18kyxWPwhYKxUKv1qsVj8KvATwAOlUmmk+/pbgR8ulUrff+5nVyvPvM5RRL1QdXmGwHMQQouGrkQ7zQxdQ9MEhq7R7aRQimj/uBfQdjyCwEU3bBKpHPl8Him16MhC4LkOUkhq5RlU98ctLlJdpdXukEomyWYzmIZxwVC6APwgwPcDqg0XO5EgkYhSazWpRdHzNUNoz/OoVpbptJoMDxRWw/k+FlrYIVRhFCDsrkxIAS3Hxw8Upp1EW7Mqsbi4SBB4TIwMsFRexnFcTENDM9Popk0qnenu3nNpNeqooI0KA8JuLEER7eATQmCYNplCP3p3T/7riY2sPHO5e/gfBlSxWHw7cAPwEWBgzesvXTkWrr7SQK+gXJGUkmazyelTJ3n6S/+DZmUeKznI7MIShq4x0NfLUG+abNKikLUwjZWhqKDWdJivNDh8aonDx44hzRS9g9v47u//KQaHRkgmk0yeOsrs6eNs33UNX/zLX0EIiWGmz2tH5Cjjs1TrcPstN/DOt96DHl7YXKJWr1FvBCw3Q44taFyzbx87dozR01NAN4yzTCmUUriuywP3f56Dzz/J9jtHsSwTTdNZ0raT94/iOC6HT0xjmxqmaWJm+lla9ugEBuM79pFKZ7DMaLTwNx/7OPPTJ/jln3oPn/70pzh2/BiDPQm23fIB8sO7SNhl5icPsjR/mmMHXsCpHifw62i6RCEJQoHXUbgOpAuj7Lnt27nzTW+m0NsbjYpeJ6WmNpLLKvhSqXTfyv/X9PC/ecmVY1/nSE2jXq/y6MNfI6mnyRc0vFAwOzdDbyHLjcXrSdgCwgDPdXECHyElmqaTTZnkM30UJ/r5dBAwMzfLdOlrHHzhTlzPZ3dxD1//0mdwqpNs374dw0xftGdf2av+nm97JxNjQ1imQRCcPdSVUhCGisNHj9MxRpH5HfzkT70H0zQu+v2EENi2zb4bbqV3YJDTh+9naLCPfD4HgGFoBKFOpdbAkAGGnSLTexe3vbXI8NDAecf7wf/7h1iaO00QTCJE9MNvNJsU+npJJFPc//nPUj3+BYLOEqncTqxUH4Y+RC5tRyMkEY1OZhdrzM1W+dB/+29s3bGTbKGAJi89C3AzsRHLcv8O+NAbvXKsEIJmo0lt8SSVIx9H793OXNnji988ws/95Ae4bu82dm0dA6IEmzAI8H0f13XptJrMz5zE91xEoLjvpu0cPJHigccC/uJP/pzBgR727R0nY3RIm0G3d7jwKFAAobQJrQzX7JognU6cJ3ZNSpbLZZbLNXI73kZxdCvDo2MYxqX9HIaGBrAN+OQXjmHbBj09+dWze57LCy88zS1vej+799/Jlu17sG3rgscZGxvD1kNe/MbXcD2FZadouh4PPvAAoTCYPvoY+VSKZDaPh0nKkFgrufxCo1xv8+hTB7nhmgmKOwcZG0px7OjzOIHPLbfehh/Ge+vPZd0EXyqV3rzm4ZvW6zxXC1JK5udmWFqcw9IEHccDJGMjg+zYuoUtYyMkU6nox4pChQrf9zF9D8O08H2HTqtJq1knIyT9hQxbhvspHS0RBm0GeyA7kkN2h9gXmqeu9HiJZIrebA+JhIWuaecJ3nE6dAINR8szMrKV3r4BUrbJ9JFnEc4cml/BsvOI3FZkZpR0KnnW+QzDwLItOp7CP+vQKppXmwUyhRH6BsdXPxuGAW6rSad8Eq9dxxFp9FQB0zSp1RvdYJuk1Qlpzk0TKpDKJ53oIZ1OYOgGCUtgSImQCtOwMHTJ1vFBDE0DIejpybBw8hC6kIjbbr/8f+Q3AHHizWVgJTJ/6MDzLM4co3+gyPRinVQqyT//zuvZvX2EfDaJ67pREKz7OU3T0DQN206Q7+mlVl7m9IkjtOpL9OeT3H3DVh54/BiuCgkDP4rCv0xAynE8tgxluXb/ntWI/tkoKrUqLTEIvePs2rULQUinXuGJL34Ubf4BEs2n6B25Du2a78fY9T52bd+6+j0BpBBIoaFkEsSZn5AKQ4TQyY3fwuDYTgYHu8N4pQh9n+r8JLNP/C3lqYMs6zvYe/d3oifTtNudrlVWSLXpoBrTmLpGb6GP/t4sA4Uk4wM5hOimJfsumm4gpMF1e7bz4CPPUWu2Ge7LMv30o9BsIP7p/30Z/rJvPGLBXwaCIMBxHBaPfYny3EmGB7ehApdC2uTuW/eRTtq4rk+92eb09AKu56NrkRiFiEYHW8eHsBNJitdez8kjJaxGDdusMtKXwnE9qvUOKoSX8n1TSvHCoaP0Dwyya+sI8ry1aYXvhzx+uMPe6we589Zb0HWdF555imeeeIgXHvwoteVFlOfzXW97kYf/129wePqj/K/PfRI71wdmYvVIUkryhR4sy44CTwLqjSZNJ+S2226nv3/NnF2FeO0aJ574Kr//51/h8KFn+In7TJ6oTKMyWwmEidB1Wq7Pw8+e5l137Oaabf0UJ3pJpzMkEknyPb1Yto1umFiWjWGa3f0DktOLHaamZ2l1quQHddJ9guXlJVLJZHctP57MrxAL/jWykis/MzMNvoelCRR0l9XS9PcW6Dgevu/TdlwSlollGmiaIAwj+QopaDbbeJ6PZZkkM3lc16PRmqOQsSjXQparkZ/7S8gdgEKhj2wui22Z+GvW3IUQVGt1lit1+ke309M/TDKZJAxDNF0jYSfJ53o5NdPi1GyLO5c71CodOhWPudMn6JMm6d7EWedTgYtSARCNWtqdDq1OyODWQezEmfe2Wg2WFpd44dhpjkwtMblQx3EhWHwG1S4TWqO4fogmJfu2DzA+kKEnn0Q3k+h2ilCzmFpqks1IbFtgBzqmH9loFXIJego9VOsNJpfn0A0dwzToOA6p5Nr2xkAs+NeMlJJOu8WLzz2LZecw8tFOODtVIJPtpZBLc+TENO2Og5SCibFBLNMgVCErg3uFonR0Csetrvb21XqbU7MVhnpSOK7P0akywUsklSgV7Uy7dv8NjI1OnHdj0DTJ7PwiLx4+yff8ix8gV4icYgPfp9DTx569+0kv38eTJ77Ok5OLHJ4EacLYmM/BF55lbzJPunewe64oScZplQm9vtVBR6PZotbyKfb3k7Dt1XMvLy5y/MQJvvr8KRaqTZDQ0SHdfhY9nEZZ30Oj5WLoGj/0HTdh6QqhGZQdDV1k8DzFsweOM9ibJ5W0SJgGlmXQk8uQzSTp7c2zXKnwTKVOT8ZEEwaO04l32l2AWPCvkSAMqS1N8sIDf8T4+FYsy8b3PXZu38bI8DDL5RpSCHKZFL2FzGrZpYgzP8ld20aYWyjzXOkEQRCQy6b5wPd8gOJTj/Pk80fx/YMIwUV3kCkV4ocwMThINpc5b0mqVquirAGyE+NkclGwTKmQ+YU5/uRPPswnPvpn/OZ319GdNkpBpwOVKjTbsOBqbA3PLAG22x0azSbDfRmSCXP1+U7HodbodBOCzjRganqa5595lsc+81m297cY3gVUINh6H7JnB9mkyfLcErVKlRv3X8PAljF6ewv09fSgdffpX1ec4PipWYSAa3ZN0HFdgiBkfrGCZRkkbIu2ExAkRXcVRL38Rv1NSCz414CUkqXlZWrVCpbZXdtWCtfzyGUzpFMJao0WlmVgmQa6pl1QsELA3GKVVtuhvzdHNpMkk0qSyWTYsmWcatPh9MwCwFk7zdYShCFBEKIbUSBQrfm1h2HIM8+XkNmtDI3sQtf1bkAvxLYTJGwLy9CZn6sxlA65d2/0w2i2oNLSGB4dJ53JrB5vaWmJuelJ8pk0pmlEc2QBoRI0Ww5fffBBbrv1VrZt2wpAoaeXkbFxhkaHyJjTpJKKwT13UdHHaKocg7bJ8NAghVyWrRMT9Pf3kEmnSCXt6FsohW2baN24RyJhIaXADwI8L8rqQ0RLnWEYCV5q4qXCHZuWWPCvASkl05OTLC4sMDKyBU038fyQdtshl0mRTNgsV+rs2DqCbZkXzPOOMsUFzx88QTplc9P+ndF2UaJg4PDYNrxA0a4tcGSqhrdiHHEOQRDSdjyECqMa4GvuK34Q8PkHHuLGO9O88/ax1Y0mUkr6+vq57tp9zN59N8dPzLJ7yOGOaxQHjwiajqDcsbnuhhvIF3pXg1+nT53k8MHnuG4gh22Z0akEIHVqjTZ/9cd/TDqVYsuWcaSUbN+5m3Qmw13veDMzL34VoQXseOe/5bGnnqVaWWCrbXHtDfuwDIPbb9mP7/sEQXDWFEYTAs8PCIJo95+mSTRNkrQt5pYqUWWc0CMIJEqF6PrFE4g2M7HgXyUr5Zief+ivWZw6wsjgMAhJEPo0mm0Stkkum8Lv5pVfSOyaJplfrPDsgePs3zNBJp2MtsSGZ/pnISU9fYNce+MdPHfsMxeNOPt+SLvtrm5vXW0nYGg6b3vTvXztm9/izz78CX7td3+Pa665homJLQC86S1v54Ybb+br/3gvs0ee4sDMEXpv3sdP/MDNbNu9n56+ATRNIwxDyuUyh7/5CZ576NNMfO+PkMzIKH9dRSnCugi5dbjMw//wZ5SefYTv+5GfIZfNMjA4zL/7pV/Fc1rMLyzykY9/mpsmTIYSFh/55Jf5wHvuYX9xAsdxL/odDUM7Y3utWO3By5UGjVabQjZNpzOF5zfo7+2L7LfiCP1ZxIJ/DSil8JwqXqeCEKO4foDr+XiBj6ZFu8Vs00DIC48tO46L5/sYhkYqaWNb5gXfZ1kWhZ5ewlBFW0jPIZrbgx+qqBdU4aoYVPf1bVtGmJlZZnFhkZPP/QNe+QAzR7cysPU6Mpkc6WyOXftvpaenl8biPgpDE2zZvoPh0S1omk6j2WR5aYm/+7u/Y/HoMXQrSYhgudykVu8g+kZZXK7TcX22bhmmFWiErTmeefAvsTIjGHYBw0py6vQ0C4uLpLUWuVQCERg02w6WZZBOJy8q0BXzDc7ZEyiEYHJqlrnZBdKpJOU5Dacj0E2D0Pcu/Y+5SYgF/ypZ8aUzZICuBSAE7Y5Pu+MRhgFSymjubhgX/BELoFpr4vsBwwO9mN2Syee+VymFYZoUCgahEgTBxYJ20X71TsfFd88Z9gvBzq2jpBIWu7b38+gD/4vSI0kwx7j9O/8NW7fvZHx8nGv27kXuuybaT49YFZnnuizMzfHCiy/wi7/w87z19t3ce/M+EBpT80vU6i12pfdwcnqBjuNz/f69OJ6iXq/w1Y/9PG19L4E5RrowxBe/9DUa9Sq//HM/SG/aoNlWJGyLpG1jm8ZF9+oLIQjC8EwiUXeroVKC0uFjTE7PsH00x/zJBE5Lj0YkseDPIxb8ayQyp4z6nLbj0XG8lTyUi8aMBNH8//jpOZK2xbV7tq5xfzkfKaKhfS7fS6fd7D67ZkwLXZcbwTefeBHT0Ln+mq1npdS6nk9PIUcuew2F3L/nxMlJTp6a5OA//gZPf6ZDq+FSnZLohRxmX57e4Z20a/O063MY7QXyPRmSmSQ//J03MDwyQk9vgZnZRfww6O6nh1zGRoqQ//PAC9ywbwfbt2zjn3/wV2i22rQ7Do1mi1v3vA8rkeKm/Tv50jeeZmp6ie94660M9uUuuuy4sl8/7AYmo2siabZdTk5Pk0tJwl4Ly4Br3/J+BrbsRp2XYRgDseBfPV2hB4Ek8LWzn+/O75V66SyvMAxRKHRN4vkvb9yQyWRART1gZPq45rREopifnmNhfplao415zmYYKaNAV3//EAiDdDpNq2pTq9apVVsktQArm8TOp8jkJJ6VxMv2orsW9XaDpXKVdKIf/A7NepnQa2OYkV+9UgrbkMh0kpHhPjTdoFJrMj3TIJ0wSdgGuXyBZCqLadssV5q8UDrFzEKZO2/eE0XkL3KtVirWmoaB0rtFMAQ0mg2eevo5fM/D0ATlpTn27BtjeGwiNsK4CLHgXyWCrq+cq+O5OqDQpOjmmUuQkbnkS1kv6VoUhAou4Nu2lpUfeL5QgNC/8BShOwxfmJ5ldnqe2fllxkf7kUKuvn/FJDKbSZDPbaG4cytt53rqzTb1Rpt2u03SFCTNyJVDahpCaigh+frDjzP13AsU9IBGrYzbqqLlbaxcP5aRjZbOTEk2k2Tb1hGWyjVOzczzhX/8Jtdes5td28a5bXiMbD4NSvHioRM89swhytUW27YMddOAL/z9w1BRb7RI2Ba6JkFAECiWlys8+PWH2bV1CCkU01OneOvICGPj4xeMdcTEgn/NDO25Bz0zBP4MqYRBGAZUqwGtlku742Km7Yt8UmEaOrp+aX8CoRT9vQUCt3X+kVTUe9uWwfZdw5ycn+N3/uST/PK//QFy2fTq3ve171/ZtWfoOsmEjRAaoRK4vk+z7jOzUCEIo2WwdselEyTYtvt6+ntyGIaOaer05jMkEwlsy0SmEuzasY1KrcmTLxwjKdrkdMUH33cHmXwPiWSKdrtJrV7D93wc1+Om/btwXZ+F5Rq9+TS2aZyXZ6Bpkmarw9MvHuO6vdvpLWTQNI0vfe1xTp2epLhtMIqhGH0U3/wz5Pu3YNt2XHb6IsSCfw2oMCTfO4zfadCePoWu6Zi6BkLSaHVotTvkM4mL9PBRko5Sqpti+1JzTkWoBAvlOrVG+4Lv0KTANCWaruF5Ae1mgy9/4yl2TIywfWKYXCZ11nJdpd6kWmutDvMjDzodZWhYlslId9NJqBQd10OECoQinbS7u/wkyYQd3bQ0jbaUpFMJ/CDE0HVCN0DJkG0TY9jJNLppgdTxuwaW6XSKW68Hz/Vptx0WQoVt6vTkM2ddr2arQ7vjksukoqIZoWJ6bom5uRlqlSUsU2dpeYlEIcv1+28kkUjFS3EvQSz4V4lSijAMyfcN4nUqNE47mKaJa+hIqVGtNajXW8jBHi42m1yxkH75c0EQBkxOL9Bu1C74Hl2TJG2DJQSmplAq5BOf+xq337g3Sj21THRdI6rvDotLNY6dnsc0tGiIn0mSz6TRDQ1Dk2wZ6elWxhEEK6OD7rJY5NG3tqCkoiMESdsiCBSFXIr6YoUgVAyPjmFZNrK7jr9yY9M0jeK2ERzX49DRSZbKdUxTp68nSxiq1RhFrd7CcT22jPSTsE3aHZeDR06xND9Np1HDymVYrDYYysGNN95IEMRGli9FLPjXgFKK8bFxpLvA0/Ml+gevQdcsMpkUR09OInWdfbvHEeHZ1mWRE7tC1zWkJleHsRfa6q5JyVKlzqmpOe66+Rpmpk+vFqlY22NHmWeCbNKk7QZ0XJ/BvMHBA8/z1BOPcaosGRksMDbcQxjq3HPrXt5613WkkjazC8vMzC5z8MAhfM8hDHx0XSeZTJBJp7luXxHTttC6FWKi6cAFVhVE1I58LkPYstFCj2Qqhes4LMzP87l/+CJeECKkRi6XY8vWrQwODnBNcYLnDp6g1XFxvRApYCW/JpdJohQkEzaVWoNjJ07ymb//BCODA2hInnzwGd7307/I1r3Xr5brirk4seBfA0opLMvCtDNgj4Ew0aQkl06yMDdFJqHjehfubZRS9PfmcD2fyZkFhgd7MHTtvMBV5OEeoJQiYZsYhv4Sg39BKmkiNR8pwXF9BIIQgWWEhF6Ldl2ybdtO+nuypBIWS0tLNKsVQqeK8tssL1dZWK5xer6KoZukkwmWlsuMjAzR29uLbhgkE1GSkKad7aknhUSTAsKQdCaLIULKlRoPf+tFXjx0gmefPRKNFoQgkUhwR8sj8By2jA6SSlhoUlJrtMimEkgpabU70XG7gc3nDxzmxKlTpJMJyosVTDPD9W/+dka37iKb74nFfgnEgn+NmKaBaecwc/sQWhVDBuQzSY6ffB7bhGbLIWHrXX/1MygFI4O9LCxVeaF0kv7eHKahn/ejbTsuQRB0t9R202Zf4oedSVmYhoauSXw/xE5YmJZJb09knmlKlztv2s32iSF0XePEiUmU20AEHWToslSuceDYDF9+/CgEIQlDMnX6CDfs38eundtJZrKMDvXR35snlTw7ILnqb+/7ZHM5bEPjxKkZ/urvH+Qr33zurPfqmiBjQdYKae7fRzqVwDQNlit1EraBlDr1Zptk1w+v0Wzz+JPPMD0zw47xPl588gj5gT7e/n0/TiadRtf1eCh/CcSCf42EYUiup5+73/ndHP3mX9GqzmHZOYo7dmAk0nzuq4/zbW++md5c6ryNL2GoyGdT3HLdLnw/oNV2sC1zdSnP9wOeffE4hVyaa3ZPcOTEzMuH9xQYuk4+o5PL2N2965HvZbRUJbBtC03TkFKwY+sI05OnOH58hj/6m68yV3GotoLVBJemF/LA07N8/flFNP0hhBC8/a7ruPfWa3j/u+9ZLU8NUK42WCxXWVyuYg8WqDea/Mtf+TC1+tkrC7mUxXvu2s5t1+1k1/Yt5DJJDhydpFJtYJkmBw83MQyNof4ClmUyv7DEn330s6RNj0JG55Enn+J7PvhLbN9zE/l8HnWJsZCYWPCvGaUUhmEwPDLGC4FGoxNgWiGmaeA6HQ68+Az7d40gGSaXTpyXTRal4Jr4QbBa8rnVdmh3HOqNFv29OXKZFJrU0A39vGH0hViZ2suu5z3yzGNQlI6cQgDpVIJsLovjDNBxfe68eR9LdZd628fxQ3SpoesSyzS7BSkkCctgsDeH4wVUas2oZ+4m+BiGTsKyMHSdqZl5Go0G990wgeP6BCHohkUqnSSfTXHj7iEG+wqYyTSHj09TqTQJFQz2FQiCECkFtmVy8PAJJqdmEGGLelvHTAxw99tvZXRbkWy+8LI3wJiziQX/GlkR/EB/P56yaLmCggqRUtJuVSiVShy9bh+GYZLLjJ33A40MMKMaaaIryEazRbnaYGG5yu037MG2TYIwwPdDLiEhb03bzn4cHV/w/MEjaJqkt5BlbLifXE8/wrD5J+9OUW10qLddak0P09QxDYNU0sI0TEzTpK+Q4fjpWZbKNRaWK+iaht31sk9YJkE6GpqfOH6cZr3KB7/zNhotB8cLMRIZ+vt7SWfSmFYCx/VptDo8e+A4tm1TyGXYMtLXLXYZ0up0ePq5A5w6PUU2IZiqmSSyE7z3n/3MamXbuGd/ZaxX9difB74TMIE/JKot9+e8QSvIRkt0Afd9+w8yc/wZnv3HPyRbmCCfz3P3rbfyxBOPcuLEMcp33sMNe7eRtK3VQNxaOo5LtdYkVIqBvgK7to1i6Dqu61GpNfmX//mPSJkh/+/1737V5ZSEgKwV8PWvPsTHP/Z5xnZtY+vYEFvH+unJZ9CtFAU7RSLpr64OfOUfv8htN1/PbTddz8g1W9kyOkC74/DFB5/AMk168lH1G9eLBDy3WOaO229idLCAKUIqy4tUymVKR47zuc9/kZMzS5ysJbhtbx/jA0mSlkXP4BYSVlTpplpvMjk9x99+5svYooOlK44sJfnAP/9htu8sRjfNMIx79lfBelSPfTNwF3A3kAT+PZuggmwYhvT09tNpjKFld4MEQYjUdGzTxPdcjh4+iN9p09OTZ2Soj0wyETmzdDF0jXTKjmql6QaGYTC3WGZmdo7DR44xO7/EcG8SXoOZi1IKy5DYloZtSzrtOrMzAc16mXpHoFSIFIrhvCKZTJGxbN711rvZsX0rE1tG0aVE1yW2ZTIyGK3VN1odRDIKrJUrdUxD71p65Qh8H6lJEqk06BapbI7dlQZzVYEhXSQuntuhXm+gW2VKxyY5euwYc/NziKBFw5eYqR7uuPcOBoZGMC0bpd4wfcWGsx49/LuA54gEnQV+Fvgx3uAVZJVSZDMZWj0jJAZuhNoLKL8JUpLLZPB8jxPHDjM9V2V4OIqQ6wMC0zRWA19SiCjNlWh/e6sTWVsdOHCYh7/5CM1WE9WTQLxquQMITF2jUEgjdA3H86hVFpmb83j2WJ224yBCj7v3Glxb3M34rl3c9e5vJ5lOYZoWnucTBiEC2L5lmFCFNJptZDLKiqvUmhiGjm2ZJGyLIDRXC3D0Dw5z7f5rCcMAx/F59NmjnJ6eob5wknK1QcuFZy2LJx5/mFp1iR0To8z5CdKZUd72rveujqRiXj2XtXosQLFY/BAwAbwX2AZ8GsiWSqXh7usXrCD7hqoeqxTL81MEvtsNaJ27JKeigo9Kocmo6OKK6BWqW0Lax/dcjG6yix+GVGodLFNjbHyCennutbczVLSdDrpuYhhmtNtNRiWaTTOK5AspabWdqI772mXDNfn4AKFMoIUdvCBguVwjk06S6K7Vr7r3AI7rEYYKyzQQAoJQ0Wy1WSzX8TyfnqxNGPooJQilTS6fxzSt111F2FfC67l6LMAScLBUKrlAqVgsdoDxNa+/dAXZq63a5yusQCqIBHPq2AEWZk5RWZzGqRxBEmAncggRGTF2HJeOB5ZlU8jnMAwzctDxPeqNNq1Wk2a9QjZt0Wo5LC03ObCgsWUwy8//51/lK5/43Vf1dYSIlgNbbZe245Hv7WF0ZJTR4RESOQPT1LBMg0y2AIFGEEJ9YRlHSkJDZ6A3F60mEBlnrphy1qzdFIKjtNoOpUOHON1qYuqSO267sWvgGQUllxp1XNcjk0tjWQZBGNJaXuTJB5/g6PEp2gszFK/fT9/YFtJ9u9iTupZEMvPqeva4eux5rIfgvwH862Kx+DvAMJAC/nGzVJBdyTW/+e53Mz11iq999Us4i8+jqQ6JZB7ZzU9PGybpbi/ptmu47SgO4PnRcFcoRSaTxg9cOo5Lo9FgdHQv/YULF2Z8KdYm60Q56gI/BD+Eu26/g4mxQYYHCvheVM1WdB1tm83IuGJ4oIfJmUXmFsv0FjJd0w8ZbaJZcx5Nk2TSCe67fT9/95n7ef7kJMXiTnrzWXTdJFRqdXOM43qRy64m2b1tBF3TOHDgOP/zDw5z4zuuZfv+W9ixY3vXiTYexl8uLrvgS6XSZ4vF4n3AY0QrwD8NHGcTVJA9Q5TrPjw8xge+9wdpN99Po9FgaWmZyvIinVaDZq1CvVbGdzsEvoNh2mBqCKmTkBqJVIpcoZdEOk+hp4/BoWG++dCDtJdPsNozXMIwVwjRtXRWNNo+bRfuvfNWtowOMjrUg52wEIjVpCAVhtBd6komLGzbpFJtMDxQYGJ0AMO4cJ15ONNZaZrGfffcwd69FR5+7BnuuOVato4PEwRnct1X1u6ViqL74yN99PdkGBrqwc/uRk+mUKG6QG28mNfCuizLlUql/3CBp9/wFWTPRUiBoRmQyqEZCXQzQS7fg+85eE4Hx2kT+j4q9JCa0d0xItGkRDdM7EQSw7JJptLkcjnatQWcZrV78IufNwgCfD+g3XFYrrss1jwGerP05HOMjRWQuo4XBLQ6blTK+ZxjrT4UAk1Ewtd1LXKnFRc/+co8WwjIZtPd8tOKfDZ91uuwkgR0JidBiMj0c2J8gBMLCzjlFn5fL+eaVsa8NuLEm3VkZVebpkmSyQSpNWWXxYoRHJydjLPmPyufX5kz1xcn8drLXEhwK8dQSrGyCdXxPObKLY5Mt9DtLGPjBXZum8AwtO7afoNsJtkV8orNrVr1mV/pjRO22d0lt/Lcub1utFc+WDP0NgwN00xTyGUIVdgdQYizP0O3wHTXrUcKQV8hx8nJF3A6klb7WmzTuKTswphLIxb8BrEi3lf7WQQ0lw7CqhPr+aJXSjFXC9m1fYJbb7yGbCrZzZbTSSZt9G7xBiFE5H2vwu4wO1gtZOF6kUFFGJ6Rta5F5bE8P6DddqJtqGFI4IdErnyK3p1jnCodASAkiNYVAbrnWpmGBEFIEIb4QUCr3UIpQX9vL2PDveSzaYxMhoG+frzFJl/+0pe4687bGRwcjDPqLhOx4F8HhGGIH/gYehCJ6QJ0PB/HDbjrlhsZGx1ieKCXIPAJg4B2u81ypUaIxA8Ex44fptA7TN/AKI4XEnYt38NQUqk6VCsVaqcOkhAtbOlhJwWNIENHZUhn8900Xx+v42Cl0hh2gtw2wWQl8qXLF/pIJG2klJQrVYQKESrEdxw0XUczTOxcmkIqcuGplCtUwgLttsFMtYkIQhIGDCWaGDKI5/GXkVjwrwPCMMTtdDAtSXDOMtPKSDwIFI6vuPOW/WQzKcJQsbBcpdXqROvc1QaBMnADja9840m27rqeohzBD7XuEpFE0yVzlRZzMy4zT5fIqTJZrYGZ8qkyTkcfZeuOaAOQ73u47RaZMEVS2iihU/czBCqkkBrDyGSQQtCsnMQ2dTQBvl9HTyQxUynyA8OMjo0ipcZTTz1FU6Zoe4p6uclAQmDqMJJzMaRPEEamGG/ktfiNIhb8VY4QAsdxWSpXSNgDBPLsraZKgee5DA8PMzaxk2wmxYnJBZ544SRNfYhcLk9vzzh9O7P0FHrIZDKUvSQTE1vZu/catu/YsVpcMjqewvd9jh//AerVKrVqldKhg1zT28/AwCC7i3tIp1NY3S22K7GIo0eO8sEf+SCO41Do6WV5cZHlpUVq1TK33HYbW7ZsWV1ZELDq6Ot5HrouWV5cQmqS/d/2Tr712DeZPX0YrzMDCKTU4KJGYTGvhFjwVzkromg26pH/exD9yVptF02LnGoREtMwyGWSUU+omRiJPNfs2kcymcK2LRK2TS6XJZlMYttJCoUeRkZGsKyVvfFnRg6GYTA6OobT10+r1aLVcUmnUuTyeXp6ezAtC13Xu/773cCjlGSzWXzfx7YiZx7DNOnt6yOVTGKaFy6jpZSiUCgwPTWF7/sYhoFhJTASOcLCLoSeRMR7YC8bseCvegSe51KvVZFSQ9Mii6tG28U2dRKWAVKgGxrJhAUopG5ip/Lsu2YPQmp4nodpGCRTqdU03lQqRU9vb3SGc4bKUkoKhQIArusyNzOD0f18MpU66+awFsuysCxr9ZiaptHb14dpXTxZaKUtjuPQarW6wTmBZqYx8tvRrBQvY/IT8wqI1zuucqQUtJt1pk4ejSrZEFWXXaq2aLTdyJhCCVAi8pNDEPgBrufR3z+ArussLy+TyWbJ5XIkk0kqlQrVWo1Wq3VJ82IlBPmeHsbGxi55Ht1sNmk2m4yOjpJKJl/yvWEQYBgGmpTMzc5y+vQki0tLTGzbhmVZUTJQzGUh7uGvegROs8LS1IsUjAAhosorK751KBXtDVfhqvut06lTWThN4HukUimGh4dJp9OYponnebTbbU6fPs1zzz3Hrbfe+pLFMJRSOI4T5RNcYtEMOJNnn0mn0Y0ztdobjQa+75PL5brxCYdDhw5z9MgRqtUqCIGdSJDJ5SKhx137ZSUW/OsAt1OnMneY7PDQahKOqXcFD92klxDPi6rY+m6HTmORVrtFNldgYGCARCKBEALXdalUq3hHj+L7Ptddd103v//8wd5KhdzFxUXS6TS5bPasnX3nvtfzvNXPNKsVmuVy9Lzr4nkeQsDy0hKddpug08ZIJOh0XGZnZ5mdm6NaqWIlkuy95hp6enrwff+888S8NmLBX+WEYYgKmqjOFM1WFtuOsvU0KdZ414HnBZRrTYIwJJ9NsnW0j2eefoYdu4rs2VNcPZ7neXzyk59keXmZXC7HPffcw5YtW1bn7GvpdDrMzMzw67/+64yNjbF3714++MEPkslkME1ztRiHHwQ4jsOLBw/idDrMTU3x6Ef+iLnSi5z4V79IOl/AtG00TTJ16hSzx4/x5Kc/zg3v/S6Kt97J29/2Njzfo1qrsW/ftdExY7GvC7Hgr2KiIW8H3/fQtChQHXSLLZimjqFrhN3U22qtQfvIKW6/YTc9hRzbJ8b4w7/8CO9413vYvXsnUmrU63VmZ2fwPBff96nX6/zGb/wG995zD7fffjvDIyO4rkuz2eSZZ57hyJEjHD58mJMnT7K0tMSpU6eYnJzENE00TVvNHlRK8YEPfIAn/+4vGDIVTUdBdYlsMsH8Q19i2YgccqUQtDoOfr3JkCXxmw0W5mY5euwYqXSaZCr9mjISY16eWPBXOR2ng+8HiDVln0IFlqGjdwtXCKFRbzRpLLfwPJ9MOsnIkOSJx77JlomtVKtV8vkCy8tLHDlyZHXXmuu6fOxjH6NeryOEoLhnD61Wi+XlZb7whS/wxBNPUCqVAFYF/8wzzwDnV51561vfwmOf/QTX53VCu4CWLJBJp6mVnkUFDir0o4q0VgqpGQwkLSSKTrvD3NwcAwOD2IlEXARynYkFf5WyssZdrdSpNzoEKkHKtnG8aBidSkZVblaE124usbgwy9ziEprWT9K2+Pmf/i7KjuRDf/Jn/MxP/ySf++zn+M3f/E0ajcbqeZRSfP7zn+f+++9fjcCvDNUvVXyGFNiaRt/QdqzePN6aVFiZXpkqRM8JBGHg0WrMsmNkhKE9exkdi/xRYrGvP7Hgr3KazTqtVouOE3TdZcRKTUfWZqOkkmkGB0Y4cXoOTTPYPj7I/j3buf/hg3z+i4/S19fLI48+Srm8zO7eNClTI2lGPvctx6PWdjm8HHnDr+29dU0ymDSY6MkwnI2SYFquT6Xt8sipRUIFupRYukbGtgk5E1uAtVt8zuwMDH3F8lSN6xIZevv71/PyxZxDLPirHKfTotVq02z5BEG0dVUAQRAikEgt6uVty8aybQ4dmyaRSLJtfJCx4QF08Tynjh/igfu/yNTJE2Q0xTWDWXpTFrmEiUJQbXVYbnZo+AoviKq4+KHCCxVSwLZCipvGetg1kEMiqHZc5mptTpSbdPwAW9cxNI3EBUplrbLmeRWENModTMMmm80SeN6FPxNz2YkFf5XTadaYn6nx4nNNxkY72AkTgWB2uU46adGXTxGGoOvR/P4jf/813l1tsb84QSad5D1vuYVrd27h1/7D73HzRA8/+923k7cECImvJEcWaiTNXrK2wU+bOm0voOF4TFYaPDddZrrS4vtu28FAJkHWMgmiWtEoFfId+yc4vFBlstzslrRWL10JRgXguwReBz+Z7BpsyIvs/4tZD2LBX8UIIViYmULqkuvufRNtfxnVcUBEjjFBENJquxh6FAUXwGjBIJeUuJ5PGIZkU0kmxga4/b4bGZdttMDhOcbJOBUKziKD6TS6JjE0iRRg6xJdGBg9afIJi4bjoUnJTKXFZNhgIJMgZepYuoauCcbyKXK2ScKUSBkyW2/Sn06hfAd8FxX6SN1E6RY1PUl+dDv4IS8enKHGJbl0xVxGYsFfpayUUpqbmyGUkuINN3H4qS8Q+OGaLbEhHdcDATqRucVgj0kmoeP5weryXU8hw/U370HOTVFbXqAyOoGqSUynzGDCAAUh0V52KQSWrmEbGv3pBKFSzFTblB2PhuOTNPWuPVUUVMzaJlnbwNAlKVuw3PJxPQdDl2hGAhn6eCEEUkMfHCW7aw8mAueRJwlMMza22GBiwV/FKODRpw+yfft2PvCud/K3f/sxBtJR3brIuz7aaNJqe6SSJvlMgvGBAtmURcdxgciSWqmQN7/lVr7w1QR/fyzkT/7tz3LkUIlnvvkN+g5/HhkCmnnWeZVi1YJ6KJtgOJckVIq5WovZWgs3CBnNpUgaOqYe+fDdu3OAaqPFX3/5Yfa87wcZufke+nI5HvnqA7Qadf7VL/5nBgcH8X2frTt3MTA4RLPVwjTM1XLa8Q1gfYkFf5WyEvzav/96xsbHyOUiP3g/jBxgdD3KxAnCkNnFGv2FFIVsEtsycR2PqdklRod60QQoJTA0jd3b+lAo6o0GuZ4+rr35FmYe/WN0JbESGUwrjRAaSB1E5E676mDXbU82YZI0DUKlSBgamhRrCk0IUrbF22/aS8Nv0pw8zq6d72D/rbfhOw66pqFJiZ1Oc+edd/LUU09x6uQJdu7aTavVBKXIF3rO264bc/lYj9pyBvD/A7YCAVGZKZ83cDHJ9WTnrp3090e58JZtE4SRn3uUWhsNwxfKzcj2WSl0TdJsdzg9NcvN+3fRdYNGCMFwf46krVNenCGT72dsYoKnFpbIZnP09aQIjAQqiEYFOB2kVAgJUjOJiuUJkoYOBqx41ClCVEj0/8BDF4riSIFDnWWq00fwl2+mv7cPaZq0mk2q1Sp2IkE2m6VRrzM3N7fa60spcV0X27av3AV/g7MePfx7AL1UKt1VLBbfAfwa0U/kDV1M8nITWU377Nq1i0wmg67rjI2OMXP6CI1WhzAMyWeSWKbO4dNlEJJrtg+iaxpHDh3lxKmHedvdN2Do0a60UClyuQzZTJoHv/4xtu+/l7Fdt/KJJ+G+f/Zutv/QB5k6cYyl0nNUDz0Hz36NXNYjn9fpH7wBaaTODPtVgAgDUB4q8FFhZLXdrpwk8Ns4zjK50ENvhnzsTz/B3p/4Sfpvu40DBw7g+z6+79Nstejp6aFQKHD40CG+/b3vpb+/n4cffjiyxNZfYokv5lWzHoI/BOjFYlESFZP0gDt4gxeTXA+klAwM9GOaFmEYkslmWTTtqC5dEHYtnqP3th2PpWqTgZ40jqtYqnhMzi6jaQY9hXQ0lw+jdfxrdk9Qrs7xyNfu57Z/+s+44U1vYeeOHYwMDtDZswe39jbCpe8h8Nu4fovTpxbQp55Gnz9MgI2TGsFLDWL29GGn0xi2TTLdg/3OH4+CdRqgQmrVOlr4FQrbtzM6OsrY2NjqpphEIkEul8P3fZ5++mkMXcc0TbZt28bs3ByNRpO+vr5Y9JeZ9RB8g2g4fxDoIyoqeV+pVFr5y9WB3Dqc9w1FVDFGkk5nVjeqpJIJLNMEBa4fEARqNQW34/jMl5v0F9K4gaLWCjhyYoZkwqavJ9O1k44YGuilenyepZnTjO2/lpEd2+nr7YXe3u40QRGE0Vy/Uq0wbX4LtzFNZ+EwwkgQFIahbztieByj0IudziATabI3vQPbsrAtGwRY5TK5Upn82Bj9fX1kslmCMETrOuokk0kajQaHDh1a/c4DAwNMT8/QajYR/f2x4C8z61E99ncAp1Qq/XyxWBwHHgAKpVKpr/v6+4B3lEqln1n7uTdK9djLxdqLsZKUujA/i+u06esfYmFuCtPQMHSNxUqTMFRIKejNpWg7HrVmB9Mw6MlnGOjLXdBHQoWKcsMhlcqQzmQu6majlKLZaNButzBMi0QicZZHnRCCTqdz3tw7CAJqtRqWZUVedWuMMM59TyKRWDXTbDabBEFwUR+8Nxqv9+qxZaJhPMAy0fz9qUsuJnm1Vfu8QhVI1/4CZNfh9f5Pf4ypU4f5v374X/OHv/kLDBTSjA3m+PSDB1ioNGl1PH7w22/k1GyFJw9M44aS7/q2u/nx73sXg30FpBSE3XptoltZprxUZnE5z2JikLe9/e2r7jcr51zhwAvPszg/h5VUjI+PMzY2dlZ7Dxw4wN69e896rtPp8Nxzz4FSGJrGnj17zrupzM3N8dnPfpZ77r6bbdu2MTg0xEf+7MMsLCzwzvd8x2tbpourx57HelyN/w+4qVgsfp2od/8FooKSv1wsFr8JmLzhi0muD5oE24pKL2tSEoSKtuORTZlYho7jBtQaHVBQyCboOB6L5SonJudXSzpBNHrouB6NVofxgRSaX2f65GEW5ucpl8tn7aZbwU4kyeUL3bruIjLmeJkfq6Zp9PX14XselUrlgnvdlVK0Wi2q1Sq1Wg3P96lXFqguz3bzDGIuJ+tRPbYB/NMLvLTpikleXgRhEJAwo2F8PpPAD0Km5mv05dPUWz4zi01OzFSwTZ3h/izHpiocOjbN5x74Fjfv34VpRLXpTUNy+PgkpaOTfOc77mD3mMZQrsXffPQvGBgaY8uWrdxzz11ned35vk+n08G0LDzXpd1uk3wZc0pN0xjo7+f4sWOUy2Vc143MKrUzFWgTiQS33HILy+Uy1aefwQ0UW3oF/YkU9UaDZCIR5RzEXBbixJvXDQrP66DCACEF+YxNveVQqXVw/YBC1uLanf3RsF1Fm1j27xyg7Xk8/sxhDh+fZHx4gHw2ypgbHeojYVt89ZFnGRvqY3y4jzv36MwuTHL4qWMIKZjYMsHQ0AC6piE1Dd00mZ2bQ2o6oVL09/dj2/YF5+YQpf6WK1We/sIXOPrsswSuw47iXgaHhujt7UEg6HQcWu02ywe/QdBcwmoepzcrGeobpxm8/Cgi5pURC/71goh6WVSIABK2gesHaJqk0+pgGhqj/Vk6ro8ANE0y3JdhcqHO5HyZZw6eQEpJNjMOCrLpKCvv6ReO0im4CCnZ0p+gXZ1nqb3A0uxJkiZouBhWiqXZaZanT9GolCl399FrmkZPTw96t8dWYYjizGig1awze+J5mtPHcOZOM3u8RNoUeM0yU1MZUgkD33XxO3V0t4xwF/Hr08jcCLppn6lsE3PZiAX/OkEAoYoEJYQgYeloMknCNCidmKcnl2R8ME+10UEKEfXKUtCfS+J7Pr/2B3/L973/zYwN9ZFOJxGAZep817vvpt5oU6u1GOjPsW/vTq7du5N6o86Rg/fz5FeW8TJ7OPCVv2fuxUd573vfxWJzH/MLSxw9epSbbryRHTt2rLrW+r7P3PwCzz33LFNHnqPyyP/kztvewfe+7wcg9Dn84j/wlb8/zn/66KO8+ZYtXLdnnHvuuJNr33YPPfksKdviCw8doDo5xV1vu50wDOJe/jISC/51glIKv1NFeWcCaromSSYMtgwXSCdMkglzdX1eqcj7LpkwGO7PcXSqykOPvYDnevzbH30/6ZSNFJF5hmUZ3XmywPN8fD9gsdykv7eH4cFBlJ5iZ+oelm/dCbqBH9boTD/LN198kc986q8JRIof/bF/wW/85m/TKi8x5Lr095tkMoJEz7VM1QSVk3NIU8foHWJf7yD/+/rbGepNkU3ZmHaCaq1Fo9FhZLBAsjCKIAWo2Jb+MhML/nWCQOB3muB3Vp+REqTQ6M0lsUwNU5ckLAPXC3A8H6UUhq6RTkqStsbswhJff+xF3vPWW5kYHaC/JwuArmlnhuWq63HvhyRsi3TKRuBjjg3Q21dgdrGM124hgzrSXWZptkWlJXCdNkdLz9FeXkAKQX9yiExvL/bgDoRh4AmBkDrJbIpsOsm1/QVkN9pfqTXwvIBO6FKrN7DTIxhGoduzx4q/nMSCfx0QmcwoWuUyujzHDkpATy4qIqlJyWBvmmbLpVxv03H8btEKyR37xzlyepkjJ6b4pd/6CN/73vv4vve9Cds2u8tl0eF0XUPTJD35DCcn55ieW0LTNAq5DIVsit1bR0knbSzL4D3vefOq4eVMkOcvf+sn8buBNkOPXHV1LdqnL4QgDEJm58tUag0OHD5Fs93B8wNQiomxQWxT5+TpGfqKe0jkh1AqXpa73MSCfx0gRNTPmbaI9q6fQ9LWI/vqUCEQJCwDKQVT8zU0Ler1vSBkpD+DaWicnl3kY5/9Ok+/cJyf/Yl/Qn9PjlTSxveDrvAF6aTN9i3DjA71dfP1I/OqSq3B/FIZzwtwfR+ze4OwR4eYPzmNoWsMD/ZGJaGVwvN8HnnyMPNLFbaND1PIpentyVLIZ6IbDQopJKmESbMTMFlPkfY1kpzZjx9z+YgF/zog2o8eIqU6L1NqZdgughCvW0Nd1yVC6limHtlX6RJD18imLDQpmJyvcvL0LLMLFd5+z/Xs2jbC2FAfqaTVzc0Hw9AwjWS3/ju4no/rejiuh+8HOK5Lx/UIDQNdl1jdElNat+DESsVX1/WpN1pUqg3cQS9y1DENdE3D6ZpX5jMpGs0WHS9EJvsQ2oWX+WJeO7HgXweoMCTwfYQKUFx4mKtr8kytOUCTgqHeNH4Q4vkB6YSBrgl0TXLrNaMcnSxzdHKZn/uNj/CWO6/lnffcyDvuvYFkIqoXHwRRMciVsb4mJcmERTJhXXCpbFFYbNmzLWqvWqlLF1KtN7m2uI0br91Jf0+OerON63mgFIeOTeF6Pm+5cz/PHz5NtQ233/MBVBgQhrG15XoQC/51QBiGeL6PZgbI8Oxh7kutUxuGRJMCTZMkEybtjocmXfwgZOtwnt5ckumFGi8cPMbxkzP8/Zce4+5b9nLHTbvZOTGMZepoMipntXaef6FlMqV1jTPWIKUgn0tH/xeCIAxxPR/PCzANg11bR+g4Do8/+SJ6boKBkYG4Wuw6Ewv+KufMdtUA7RVlmEZDazSFIRS6LlHdeb7nBxiaRtI2aXccKo0Op8s1TkwtoOsCTRPUmw7D/T30FjIYmkLXo2QbgbjkuLkQInLi6RLt6FsJ4kWvh0hqjk5+qJ9kfpA4Kr++xIJ/PdC1stINg1C9sqINAhAy+rxl6tiWjmlo1JsOtFyKWwdwvIBmy+H5o7N87ZGn+dLXn6JQKPCut9zBW+++ifEexVB/Dz2FPLLrYbeyYvZKA2u5TJR/77kOTzx3gnILrrnrn2BbUbwhNrFcX2LBvw7wPZ9mo4EmbaT2yjY4njvkVyracWfoGtm0Tavj0XY8DF1y7c4hOo6H4waI5AC79l7P7hvfjOc0OdmsUzrSQLQXSJg+SVPQk8+SsO1oB50WxQ2AVauNlX38K2v7jUaTheUa9U5AxxghO3ELg4kMtqkhRexYuxHEgn8d4Ac+7U4HXbMIL8OIV5MCTWqYhrb62Ogu3zmui+uFtLU0+UIfud4hqtUaoSNxUKCayNBHhFD3TBwhMXwIMorlpgco5Bp3neiRIFTQdnVagUVHgSPS9GUHyWYyKBVvktkoYsFf5UQ14h3Ky2VsO0PgXd4/WdI2SCWiZTA/iIJqrqdY6hhYuiIMAxK2ydjoCGJsFMR+/K7B5tJSmVq1RrvZYOe2kMdfqCCVjy7DaBoChJiEmo00bfr6J+jbWmAwkQAgjKPxG04s+KscKSX1Wo0jhw8ihIahX/416pXOVQqBbeoYmmK5UYPQjYJ0a4wrhAgR3YqxPYUcuUyKIAywLZPitTdFMQOxpnCkEiAlIDBME0PXY5FfQWLBvw5wWjUWJg/TbyikXD8ziBVDTFSI06gSuM557zkjfLBMA1YccAKfXL4nes/K8c58avWz8dD9ynIVGn7FrEUpaJcnmXnuc4S+E1WGWWeCMGTm2ElajcbZ5nrntU2t5tLDmSG66v4LV/+Fl2SJFbP+xIK/ihFCMDc/j+O6DI0MoOna+q9Sq8g7b2hEYegO9Xo9NqF4AxEL/iplxZd+bmaKWr1CJp1BvFR3e5lYuaFkcymUCqjX6qvtiXn9Ewv+KmVlPv30Yw9x6uhhMtlexEYVWBSSwYHtOI7i9OTpjTlnzIYQC/4qRAiB53mUl5fxyo8SNg8BkSPNhpwfgW4mmZ08xovf+hoC4mqubxBec5S+WCzeDvxGqVR6c7FY3MkFqsQWi8UfA36cqIrsr5ZKpc++1vO+UVkZyjcbdU4cP4oI2hgy3NgMcwECDbdVxu84q/bUMa9/XtNtu1gs/gfgT4CVGkO/Q1Ql9l6i7uh9xWJxCPhXwN3Au4D/ViwW41/PBVgRu2EYzExN8g9//7ck7GGy2dGNbgkKgR5UML2TLCzM0W53zvKTj3l98lp7+KPAdwF/0X18M+dXiQ2Ah0qlkgM4xWLxCHAd8PhrPPcbCk3TWF5e5tixo/z9lx5EtBcYs6po0kJt0FD+XJKpAqFSfP5Tf80td7+V/Tfcgm1Z8TLb65jX1MOXSqVPcqaOHIC4QJXYLFBd8564euwFUEqxvLTEE9/6FnOnj9CpLZA0V0wcr4zgNc1A00yalRmOll7gscce4+jRo5TL5dWyzzGvLy53pt3a7U4ZoALUuv8/9/kLczUaF25AmwI/pKe3h3vuuYdv/7a3RXXWLxIoyxQGecsH/s26t2kFpRSNtofjhZhG5JeHCkGdcyPapH+7V8UVatflFvyFqsQ+BvxasVi0AQvYSxTQuzBXW7XPdaxAurayykc/+lFOHH6BmeNPc1NxjGTi4jnzb/nAv+Ern/jddWnTeXSH7cuNDkuVNo8frmEYJkNDQ/zWb/8Ouq5HQ/ursVLr1dgmuKLVYy+34P8d8KFisWgCB4BPlEqloFgs/j7wdaIpxC+WSqXOSx3kjcyKwMMwZGlxkXKlwuzsLIcOlaguLaAZFpqhIaVcLd20lpV588Xmz2ccZi9bgxFAPmWjCYEWLlCrNgiCgFKpxPj4GPl8gcC/SnvSmLN4zYIvlUongDu6/z/EBarElkqlDwEfeq3ner0jhEDX9cijzvN4/vnneeyxx/jYx/6GXbt2YRgGnqfhegLbjLzolOqWmFrrKccap5nuFF9wkWw4dWZv+qVkyymlWPs20e0hLVOia0n2bOllqSVohwYf//jHeP/7388dd9wZmWx27bhirl7i3XLrxEqm3ErCiuM4LC4u8uQTT3DkyBEeeeQR8rkcjuswPDyMbUfFEw3D4OsvLpNLwGhBo9OJYqKGriFElADjeQEL5RZSCjQZOdEKsWIPHVlECyJjCyEFsmsdfSmEocIPI8fZlXChEIJyrcNyw2W2qaOEBKV46BvfIGEnWFhY5E1vuo8gCEkmk6s3tbUba2KuDmLBX0ZWetCVTDnXdWk2m5w8eYJKpUqtWuX48eNMTU0yNzeLUiGalFiWtbrzTEpJsx0txJmaj+96JEwdy5SYRhTIE0Jg6BIpRFf0Z0whV8TOuY8v9TtIgS4EqMhl1g8US3WHasun0Vb4SkMCSgU4jsPMzDSHSmluveVmHnv8cZLJFIODg+RyOZLJJMlkEtltc9z7X3liwV9GVnp0IQSNRoOFhQVKpYP8yYc+xOTkacIgYNv27SQSSXbs2AFEpZVDpfD9bi04wyCdTOAFAafKLlldI5kw6S2kyadMNAmmIRnoSUfD9TWrdmsF9XLaWh3eK7Uy8UcI0ISMbjaGoOMFdFo+L55qEkodTbcwdLHaa/f19bGwMM/y8hLveMfb+ZVf/mUMw+Ctb30bN950E9u3b2fnzp2Ypommaavr9zFXjljwr4FI4NEP2XUdpiYnOX78OP/45S8xOTVFEATkcjnS6TS7du1GKYVpmmflpWuaRjKZxHEcHMeh2WySyWTQpYaesFEo5pqK+SMtNOr0pnXu8BUtJ4gKS8jIe14pEIRdN7lL6dmjUUEQKgKlCEJFo+lSaXiUmz5zja6ltJBoVgK965zbaDSo1+u4rsvw8PDqDc4wDHbu3AnA9PQUszMzhGFAtVZn79697Nixg3vvu4+BgQFSqVQs/itELPhXwcrwtNPpMDk5SbVSYX5hgXqtxtzsLFNTUywuLq6+17IsDOPCy2wrc31tTfVWz/OQMohuDLpOGEZ+cwKF1g7xAsV0OSrbhFBR9FyCLkDTVkpTgURG3bZQBCGgVHRLCLtzdRWZXYBEAa4b0GiH1NuKtqOQmkKXIVKA77kEQRCVk9I0TNNE1/XVkYLsTk0APM/DcRxc16VcLnP6dJowDDFMg1w2R6FQ4PobbkDX9XhTzgYTC/4VsiJOz3WpVCp88QufX422Dw8PkU6nSaczjIyMvKI95KZpApHgq9UqSik0TSOdTqNJiSY1QKPlg+vD08daeKHCCwJEGJAwNTK2QdoW3d5ToWl6FLCTgrYTEqgQP1T4nk/LDWi5IYGKKsYamkbSMrrnMkhHPpMopWg2mzQaDRzHIZ/Pk8/nL3oDgzOjlmQyST6fJwgCjh49wsMPfYN2p8Po6Ci/9/v/g3w+vxq/iNkYYsFfImsDcg9+9au88MLz3H///eRyOTRNY9++fWiatjrEfS1ks9nVKHe9HhlQSClJJJOrAbqEpZMAQgxQKqq1LqDuwkqPLUKx0nhQEoUEAdLQSWqKRGJl+B9VhhXdCpBBENBoNOh0OnieRyaTIZvNdqvPaK/4+630/qNjYywtLmKZJrVajUwmjZQJgiA2tdwoYsFfIr7vU6lUePLJJzlUKnH69Gnq9TqJRALbtrFt++UPcgmsDPGFiHrqlUw2KSWB7xPQrTXnuUAkJim76/WIc1Lvuw/UyvabM2v5XY1HnnOrtePOJPWs5Ays7N4zDANdf3U/l7VLlMlUCiEljzzyTe69514SieSrvVQxr4JY8JeAlJJ2u83Ro0f55f/3v9A/MEQ6k2bbtqha6noEn1amDqlUavUczWaTIIhMIRuNRrdOm7YaBV8dXagzxzi/VtsZ48mg6y+/MjcPgmD1vIlEglQqddm3xGazWTzP408//GEG+gcYHBoikUjEw/oNIhb8JSClpFwuU11apkfT2NFvoNmCIzM1UikbQ9eitet1RAixKn5N08jn86u9su/7uK67Og24YHXXbq+98n3WRtcty+qOEtRZU5f1QkpJPp/n7z75UV589nF+9hd+eXVZMmZ9iQV/CXiey4vPPsfRgy+wa2svI30phK4ThALHV/gqxPW7mW3rJJRVz3jOrPeviHtlXi3lxYsxnvGTPzO8XunNL0fc4ZV+F6kZiKCG35pjbm6OTCaDaZqx6NeZWPAvQTRvDqnWatz/uc8we6rE97znum4ddMmOUcnBkwvMV12ajomUOpzJY1l3zk3ffb2gFIRCY7RHMJIPePHFA+y7dh99th0H8NaZ19cvZYNRSuG4Dj/2oz/CQKbDu+7bjR9ESSqhCgkCn+0jBfZuyTOc9tA32nvudUoIdLyAXH4AFRr8wX//dU4cPYqMLbTWnVjwF0HTNE6fnsR1HHJmm1xKkkqYZ0WylVIYmiBtGwz1JAjCkLYbO8G8HFIIDEMHoSNR2MzjOTXa7faVbtobnljwF2BlbvvMM0/T6bR4x61b6MnaFyzVHIQhpqGxYzSP43nU2+fXY4s5GyEgaZkEQYjAZ98OAUGd8nI5LnixzsSCPwchBH4QML+wwOKRrxA6dUwr8TJFIBQqDNg/luCaEZtg441MXnf4gY/r+YRKZ3RkDwvzZY4ePbbhAcTNRiz4cxBC0G61eOJbjxO4zpqA2MV/hCvD/FzKIJvQcTz/jEFFzHmEoaLj+ggpME0Ny04xO3WayZNHYrGvM7Hgz0EIQb1e44v/8BlAwzAubakoVJBNmqRsnY7joeLw3UVRREE7TSOqR29YnD5e4vCBp+Iefp2JBb8GIQTVao3a0jTp9rcw1Iq79qX9ABO2gWFotB3vqjVLvVoIQkUYghJR0Qvqi4jKPB3HibfNriOx4NcgpWR2dprpqUlsK8ErvjxKYeqCoZyGrp2f1BoTIRDYptHdqBOCgmRSkkhCvV5fTfGNufzEgu+yksBy7OhRDh06TDIzhNSi/d2XMh2P8tMDEjrsGkpgG1ocuLsIUgrSlgEIXD9AocgWbDJ5k+XlMp7nxYJfJ2LBryEIAr7x0EPc/6Uvo+lWdw/6pWfOKQW6JslnTBQKP4iHphdCCIFp6Ji6xNKjzT7pdJ5kMsvMzDSdTicW/DpxuavH3gD8D6J6cg7wg6VSae5qrx4rhCAIAqrVGp1WExV4pJIWmvbK74dSCpK2get36Lghpm6uQ4tf3wjA0iOXHlRkuW3oBgjBwsIi7g73SjfxDcvlrh77e8C/LJVKbwb+D/Bzr5fqsb7vMz8/D6FHOmmSS9uvWPCKrlGFZeJ6Pm5cf22VlcxEpUAKSFmStZfX0A2EEszMztBx4uSl9eK1DulXqseu8M9KpdLT3f/rQAe4jW712FKpVAVWqsdeVZiGwdj4GLfs38qNxeFXPf8WIkQTITsGbbb2J1gpBxlzBoVC4iPXXBghNXzPZfr4izitejykXyfEa92OWCwWtwJ/UyqV7ljz3F3Ah4H7iHr1/aVS6ee6r30E+EipVPry2uM88cQTV1QXSin8IKBZXcRzO+jdjRyZwiD18twrPp7jhQShwgvOWEBfLoaGhpidnb18B7wMvFyb1v7OhBAIQhKmhq6duTBhqGi1PPqGhkmkUpsmXfHmm2/esLvbZd8eWywWvxf4ReDbS6XSQrFYvOTqsYozpY02EiklHcfhxImTlB7+ayqzh0ml+wDxqgo3SimYXmyy0PA5tSTRxOUV/C/8wi/wX//rf718B7wMvFyblFK0221M08QwdEzVYc94mv6cuVohp1Fu8tAXnuFf/tbvcv3d9xIEwWvbH3+VF5NUSiE2ePx3WQVfLBa/nyg49+ZSqbTcffqVVY+9AgghcDsdDr7wDLV6mxCL11qQMWEbJFyB77tIPc4eg+4+ha6lVjvw8fwz+YhKgW7D1usEVjok8P14KrQOXDbBF4tFDfh94BTwf4rFIsCDpVLpv7weqsf6XouZo48hnBqGiJxhL9a5hN1tc1JeXMSWoWHoCsf3MeJIPRCNpPwgiFx2icpaad1rGPnxKypLELgC0a2eG3N5uazVY4Gei7znkqrHXsk+0HOanCp9nf6+CTKZHNCNLHdfX90HT5QSChDtqzm/1UopLENHEz4d1yfVTTLZ7Giahut6hGGAbRromkTTRJRiG4Z4rmL2ZIjjnLHyeiNbXklNQwUbu5JzVU1wtFdpg/xa8X2fSt3jq8+6OIFBNm3j+SHleifas93VarvjcfT0MtVmB/clrZiiYo+6rhGqOEoPZ0plK6VQYUg2aWBoEtG9EeqahmFoyCRUa2XK5fIVbvH609tzwf5xXbmqBL9S7ngjEULQarVoNpsk0NGEJAgUi5UmYRiutqfRcqm1XPxAoUmB8TJr9EqFCEJsqXiJkf+mQ9M0NF0jys06M2RXgKYL8n06QejQarXe0HEPIQSWvfHpKFeV4On2AhtNp9PBbbfpSybQEbhewMJyc6VJKAX1lkO96SBEVKvd0DVecpjenacmdC65NvtmQNN1DF0nDLyzgiRhqEAqegZ0EAGdzhs7+UbXdbQrYD56VQk+8H1279mFYRgbendPJpMMDPVz673X4kuN03MVqo0OuhZF12uNDh3HRwCDPWks8+VvSpFNliCVtGLBr0HTNDRNI/A9Qs6YftabHepNh2w6Rf9AP/19fVe0nevFitPw7j27WOoWHN1IriqbaiklJ44eZ3hkiCAIcRyHpaVlwjXz5curne78UdcRoWL59AyuDBGaoDeXxDSiy9PsRLu3LFMjaRsvGZ2H7s65bgqpoSlcANVNHF97dnGmDa+Uq9Ga+lLaZOiCIFB4nZBwTRjEMDQ8T1CuNGm12rietyZg91qiIFcugrI23qhpGr29vViWyfzcHCeOHieVStFsNje0TVeV4E3TZMeOHayUSGt3HJbLZUS4ntHaqJCDCkJmjp7Az6RJFdLsHO/DNDRQinbHQ9cktqmTsPQLmlleDF0TeAFdXZ8tbiFefYWXl7vprAcX+hOsbf6ltElIiSCk5UcVblc+YZk6nquxXG7QaLRwnE73b/76D3lGhTckhUIe27ZYWlxkx44dGIYR7d/YQK4qwQNnlSE20wY3Xrcxafe33nIz3/1//fPznj9w4AAf/eKzG9KGS+XAgQM88sijV7oZZ3G1tmnv3r1XuhnnsVLi64qc+2pZ57zSufQxMVeKjcylv2oEHxMTs/5cfZGfmJiYdeOKz+GLxaIE/hC4nsgl50dLpdKRK9QWA/hTYCvRRp9fBSaBzwCHu2/7o1Kp9LENbtdTwIqF7nHg14A/J4poPQ/8dKlU2rDE82Kx+EPAD3Uf2sANwF1coet0juvSTi5wbTbadekSnaB+n8gYpt792Pu6nhHrxhUXPPB+wC6VSncWi8U7gN8G3neF2vL9wFKpVPqBYrHYCzwF/ArwO6VS6bevRIO6uwzpugitPPdp4JdKpdJXi8XiHxNdr09tVJtKpdKfE4mKYrH4P4lukjdxBa5T13XpB4CV9a3f4ZxrUywWv0nkunQL0Q3qG8Vi8UulUmldsnsu0KYVJ6ini8XijwM/B/w/RNfsXaVSacMW5K+GIf09wBcASqXSI0R/lCvF3wL/ac1jH7gZ+PZisfi1YrH44WKxmLnwR9eN64FksVi8v1gsPtC9Kd4MPNh9/fPA2ze4TQAUi8VbgH2lUul/c+Wu07muSxe6NhvtuvSyTlDdke0u4H8Xi8WHisXiD69je1a5GgSf5cxwFSAoFotXZORRKpUapVKp3v2xfgL4JaL9/D9bKpXuA44B/2WDm9UCfovIOegngL8CRKlUWk1SA3Ib3KYVfgH45e7/r8h1KpVKnwS8NU9d6Nqc+xtb12t2bptKpdIMrDpB/Qzw/wEpomH+9wPfBvxUsVhc9zXoq0Hw5zriyFKpdMXcH4vF4jjwFeAvSqXSXwOfKpVKT3Rf/hRw4wY36RDwl6VSSZVKpUPAEjC45vWLOgitJ8ViMQ/sKZVKX+k+daWv0wprYxkr1+aSXZfWi64T1B/TdYIiupH/XqlUapVKpTrwANFobl25GgT/EPAegO5w9bkr1ZBisTgI3A/8XKlU+tPu018sFou3df//NuCJC354/fhhorgGxWJxhKi3ur9YLL65+/q7icxFNpr7gLW+hFf6Oq3w1AWuzWPAvcVi0S4Wizk22HWp6wT1M0ROUMe6T+8miiVo3WDxPcCT692WqyFo9yngHcVi8WGi3NMPXsG2/AJQAP5TsVhcmcv/P8DvFotFF5gF/sUGt+nDwJ8Xi8VvEEWefxhYBD5ULBZN4ADR9GOjKRIN3Vf4SeAPruB1WuHfcc61KZVKwZVyXXoZJ6i/Ah4hGv5/pFQqvbDe7YkTb2JiNhFXw5A+JiZmg4gFHxOziYgFHxOziYgFHxOziYgFHxOziYgFHxOziYgFHxOziYgFHxOziYgFHxOziYgFHxOziYgFHxOziYgFHxOziYgFHxOziYgFHxOziYgFHxOziYgFHxOziYgFHxOziYgFHxOziYgFHxOziYgFHxOzifj/A6BK9KVlGzouAAAAAElFTkSuQmCC&quot; width=&quot;252px&quot; height=&quot;252px&quot; alt=&quot;&quot;&gt;&lt;/img&gt;\",\"width\":252},\"id\":\"1097\",\"type\":\"panel.models.markup.HTML\"},{\"attributes\":{\"client_comm_id\":\"c10b02a70c544e20ad878432d0d32413\",\"comm_id\":\"a8aabfae6c7b4a60a3be4e50730d1ad3\",\"plot_id\":\"1093\"},\"id\":\"1098\",\"type\":\"panel.models.comm_manager.CommManager\"},{\"attributes\":{\"height\":252,\"margin\":[5,5,5,5],\"name\":\"Matplotlib01818\",\"text\":\"&lt;img src=&quot;data:image/png;base64,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&quot; width=&quot;252px&quot; height=&quot;252px&quot; alt=&quot;&quot;&gt;&lt;/img&gt;\",\"width\":252},\"id\":\"1095\",\"type\":\"panel.models.markup.HTML\"},{\"attributes\":{\"children\":[{\"id\":\"1094\"}],\"margin\":[0,0,0,0],\"name\":\"Column01824\"},\"id\":\"1093\",\"type\":\"Column\"}],\"root_ids\":[\"1093\",\"1098\",\"1099\"]},\"title\":\"Bokeh Application\",\"version\":\"2.4.2\"}};\n",
       "    var render_items = [{\"docid\":\"3d6e4472-d4fb-4542-ad64-fcae7eaea309\",\"root_ids\":[\"1093\"],\"roots\":{\"1093\":\"9b7ec74c-83f4-4ba0-a544-0e1b07c63c5c\"}}];\n",
       "    root.Bokeh.embed.embed_items_notebook(docs_json, render_items);\n",
       "  }\n",
       "  if (root.Bokeh !== undefined && root.Bokeh.Panel !== undefined) {\n",
       "    embed_document(root);\n",
       "  } else {\n",
       "    var attempts = 0;\n",
       "    var timer = setInterval(function(root) {\n",
       "      if (root.Bokeh !== undefined && root.Bokeh.Panel !== undefined) {\n",
       "        clearInterval(timer);\n",
       "        embed_document(root);\n",
       "      } else if (document.readyState == \"complete\") {\n",
       "        attempts++;\n",
       "        if (attempts > 200) {\n",
       "          clearInterval(timer);\n",
       "          console.log(\"Bokeh: ERROR: Unable to run BokehJS code because BokehJS library is missing\");\n",
       "        }\n",
       "      }\n",
       "    }, 25, root)\n",
       "  }\n",
       "})(window);</script>"
      ],
      "text/plain": [
       "Column\n",
       "    [0] Row\n",
       "        [0] Matplotlib(Figure)\n",
       "        [1] Matplotlib(Figure)\n",
       "        [2] Matplotlib(Figure)"
      ]
     },
     "execution_count": 35,
     "metadata": {
      "application/vnd.holoviews_exec.v0+json": {
       "id": "1093"
      }
     },
     "output_type": "execute_result"
    }
   ],
   "source": [
    "#invoke the function with the collection name and display \n",
    "# random thumbnails of the NFTs in the collection\n",
    "panel = display_colleaction_assets(collection_slug,asset_limit,total_images_to_display)\n",
    "panel"
   ]
  },
  {
   "cell_type": "code",
   "execution_count": 38,
   "id": "dc80436c",
   "metadata": {},
   "outputs": [],
   "source": [
    "# Load .env enviroment variables\n",
    "load_dotenv()\n",
    "bearer_token =  os.getenv('TWITTER_BEARER_TOKEN')\n",
    "api_key =  os.getenv('TWITTER_API_KEY')\n",
    "api_secret_key =  os.getenv('TWITTER_SECRET_KEY')\n",
    "access_token =  os.getenv('TWITTER_ACCESS_TOKEN')\n",
    "access_secret_token =  os.getenv('TWITTER_SECRET_TOKEN')\n",
    "\n",
    "#keys for essential acccess\n",
    "def get_api_keys():\n",
    "    api_key =  os.getenv('TWITTER_API_KEY')\n",
    "    api_secret_key =  os.getenv('TWITTER_SECRET_KEY')\n",
    "    bearer_token =  os.getenv('TWITTER_BEARER_TOKEN')\n",
    "    access_token =  os.getenv('TWITTER_ACCESS_TOKEN')\n",
    "    access_secret_token =  os.getenv('TWITTER_SECRET_TOKEN')\n",
    "    return api_key,api_secret_key,bearer_token,access_token,access_secret_token\n",
    "\n",
    "def get_api_keys1():\n",
    "    api_key =  os.getenv('access_token')\n",
    "    api_secret_key =  os.getenv('access_token_secret')\n",
    "    bearer_token =  os.getenv('bearer_token1')\n",
    "    access_token =  os.getenv('consumer_key')\n",
    "    access_secret_token =  os.getenv('consumer_secret')\n",
    "    return api_key,api_secret_key,bearer_token,access_token,access_secret_token\n",
    "\n",
    "#getApiKeys1 have the elevated access to  twitter API\n",
    "api_key,api_secret_key,bearer_token,access_token,access_secret_token = get_api_keys1()\n"
   ]
  },
  {
   "cell_type": "code",
   "execution_count": 39,
   "id": "aaf11958",
   "metadata": {},
   "outputs": [
    {
     "name": "stdout",
     "output_type": "stream",
     "text": [
      "{\"data\":{\"created_at\":\"2022-06-11T13:02:08.000Z\",\"author_id\":\"164425558\",\"attachments\":{\"media_keys\":[\"3_1535608317837443073\"]},\"text\":\"On this day in 1980: Steve Ballmer became Microsoft employee #24.\\n\\nHis shares are now worth $81 billion. https://t.co/tHc8wtldIG\",\"id\":\"1535608320211427329\"},\"includes\":{\"users\":[{\"id\":\"164425558\",\"name\":\"Jon Erlichman\",\"username\":\"JonErlichman\"}]}}\n"
     ]
    }
   ],
   "source": [
    "url = \"https://api.twitter.com/2/tweets/1535608320211427329?tweet.fields=created_at,attachments&expansions=author_id\"\n",
    "\n",
    "payload={}\n",
    "headers = {\n",
    "  'id': '1228393702244134912',\n",
    "  'Authorization': 'Bearer '+ bearer_token,\n",
    "  'Cookie': 'guest_id=v1%3A165495549908649152'\n",
    "}\n",
    "\n",
    "response = requests.request(\"GET\", url, headers=headers, data=payload)\n",
    "json_response = response.text\n",
    "print(json_response)"
   ]
  },
  {
   "cell_type": "code",
   "execution_count": null,
   "id": "3ab5bd3d",
   "metadata": {},
   "outputs": [],
   "source": []
  },
  {
   "cell_type": "code",
   "execution_count": 40,
   "id": "2a45ec94",
   "metadata": {},
   "outputs": [
    {
     "name": "stdout",
     "output_type": "stream",
     "text": [
      "{'end': '2022-06-10T00:00:00.000Z', 'start': '2022-06-09T22:40:42.000Z', 'tweet_count': 863}\n",
      "{'end': '2022-06-11T00:00:00.000Z', 'start': '2022-06-10T00:00:00.000Z', 'tweet_count': 42091}\n",
      "{'end': '2022-06-12T00:00:00.000Z', 'start': '2022-06-11T00:00:00.000Z', 'tweet_count': 23580}\n",
      "{'end': '2022-06-13T00:00:00.000Z', 'start': '2022-06-12T00:00:00.000Z', 'tweet_count': 39051}\n",
      "{'end': '2022-06-14T00:00:00.000Z', 'start': '2022-06-13T00:00:00.000Z', 'tweet_count': 26749}\n",
      "{'end': '2022-06-15T00:00:00.000Z', 'start': '2022-06-14T00:00:00.000Z', 'tweet_count': 16714}\n",
      "{'end': '2022-06-16T00:00:00.000Z', 'start': '2022-06-15T00:00:00.000Z', 'tweet_count': 20142}\n",
      "{'end': '2022-06-16T22:40:42.000Z', 'start': '2022-06-16T00:00:00.000Z', 'tweet_count': 32349}\n"
     ]
    }
   ],
   "source": [
    "query = \"BAYC\"\n",
    "client = tweepy.Client(bearer_token=bearer_token)\n",
    "counts = client.get_recent_tweets_count(query=query,granularity=\"day\")\n",
    "for count in counts.data:\n",
    "    print(count)"
   ]
  },
  {
   "cell_type": "code",
   "execution_count": 41,
   "id": "a819b18d",
   "metadata": {},
   "outputs": [],
   "source": [
    "def create_tweet(text):\n",
    "    client = tweepy.Client(consumer_key=api_key,\n",
    "        consumer_secret=api_secret_key,\n",
    "        access_token=access_token,\n",
    "        access_token_secret=access_secret_token)\n",
    "    response=client.create_tweet(text=text)\n",
    "\n",
    "#create_tweet(\"Hello World!\")"
   ]
  },
  {
   "cell_type": "code",
   "execution_count": 47,
   "id": "dcfa22f6",
   "metadata": {},
   "outputs": [],
   "source": [
    "def determine_file_name(query,start_date):\n",
    "    file_name = \"Data/\"+query+\"_\"+start_date.strftime('%Y-%m-%d')+\".csv\"\n",
    "    return file_name"
   ]
  },
  {
   "cell_type": "code",
   "execution_count": 43,
   "id": "207e12d2",
   "metadata": {},
   "outputs": [],
   "source": [
    "#this function writes the event data to a csv file to avoid calling the API multiple times\n",
    "def write_csv(data_list, file_name):\n",
    "    with open(file_name, mode='w', encoding='utf-8', newline='\\n') as f:\n",
    "        header = \"Tweets\"\n",
    "        f.write(\"%s\\n\" % header)\n",
    "        for data in data_list:\n",
    "            f.write(\"%s\\n\" % data)"
   ]
  },
  {
   "cell_type": "code",
   "execution_count": 44,
   "id": "5bad359a",
   "metadata": {},
   "outputs": [
    {
     "name": "stderr",
     "output_type": "stream",
     "text": [
      "[nltk_data] Downloading package words to\n",
      "[nltk_data]     /Users/sameerlakhe/nltk_data...\n",
      "[nltk_data]   Package words is already up-to-date!\n"
     ]
    }
   ],
   "source": [
    "def remove_emoji(string):\n",
    "    return emoji.get_emoji_regexp().sub(u'', string)\n",
    "\n",
    "nltk.download('words')\n",
    "words = set(nltk.corpus.words.words())\n",
    "\n",
    "\n",
    "def remove_non_english_words(text):\n",
    "    return \" \".join(w for w in nltk.wordpunct_tokenize(text) if w.lower() in words or not w.isalpha())\n",
    "\n",
    "def sanitize_tweet(tweet):\n",
    "    sanitzed_tweet = tweet.replace(\"\\n\", \" \")\n",
    "    sanitzed_tweet = re.sub(r'@[A-za-z0-9]+','',sanitzed_tweet)\n",
    "    sanitzed_tweet = re.sub(r'#','',sanitzed_tweet)\n",
    "    sanitzed_tweet = re.sub(r'RT[\\s]','',sanitzed_tweet)\n",
    "    sanitzed_tweet = re.sub(r'https?:\\/\\/\\S+','',sanitzed_tweet)\n",
    "    sanitzed_tweet = re.sub(r',+','',sanitzed_tweet)\n",
    "    #sanitzed_tweet = re.sub(r'✅+','',sanitzed_tweet)\n",
    "    #sanitzed_tweet = re.sub(r'🚨+','',sanitzed_tweet)\n",
    "    #sanitzed_tweet = remove_emoji(sanitzed_tweet)\n",
    "    #sanitzed_tweet = remove_non_english_words(sanitzed_tweet)\n",
    "    sanitzed_tweet =  re.sub('[^A-Za-z0-9]+', ' ', sanitzed_tweet)\n",
    "    return sanitzed_tweet\n",
    "\n",
    "def remove_duplicates(tweet_list):\n",
    "    unique_lines = set()\n",
    "    for tweet in tweet_list:\n",
    "        unique_lines.add(tweet)\n",
    "    return list(unique_lines)  "
   ]
  },
  {
   "cell_type": "code",
   "execution_count": 48,
   "id": "1eed22c3",
   "metadata": {},
   "outputs": [
    {
     "name": "stdout",
     "output_type": "stream",
     "text": [
      "tweet_date:2022-06-16 22:42:28+00:00\n",
      "tweet_date:2022-06-16 22:42:23+00:00\n",
      "tweet_date:2022-06-16 22:42:22+00:00\n",
      "tweet_date:2022-06-16 22:42:17+00:00\n",
      "tweet_date:2022-06-16 22:42:06+00:00\n",
      "tweet_date:2022-06-16 22:41:53+00:00\n",
      "tweet_date:2022-06-16 22:41:51+00:00\n",
      "tweet_date:2022-06-16 22:41:44+00:00\n",
      "tweet_date:2022-06-16 22:41:41+00:00\n",
      "tweet_date:2022-06-16 22:41:30+00:00\n",
      "tweet_date:2022-06-16 22:41:28+00:00\n",
      "tweet_date:2022-06-16 22:41:24+00:00\n",
      "tweet_date:2022-06-16 22:41:22+00:00\n",
      "tweet_date:2022-06-16 22:41:22+00:00\n",
      "tweet_date:2022-06-16 22:41:21+00:00\n",
      "tweet_date:2022-06-16 22:41:19+00:00\n",
      "tweet_date:2022-06-16 22:41:18+00:00\n",
      "tweet_date:2022-06-16 22:41:12+00:00\n",
      "tweet_date:2022-06-16 22:41:07+00:00\n",
      "tweet_date:2022-06-16 22:40:56+00:00\n",
      "tweet_date:2022-06-16 22:40:55+00:00\n",
      "tweet_date:2022-06-16 22:40:48+00:00\n",
      "tweet_date:2022-06-16 22:40:44+00:00\n",
      "tweet_date:2022-06-16 22:40:40+00:00\n",
      "tweet_date:2022-06-16 22:40:39+00:00\n",
      "tweet_date:2022-06-16 22:40:33+00:00\n",
      "tweet_date:2022-06-16 22:40:25+00:00\n",
      "tweet_date:2022-06-16 22:40:20+00:00\n",
      "tweet_date:2022-06-16 22:40:18+00:00\n",
      "tweet_date:2022-06-16 22:40:17+00:00\n",
      "tweet_date:2022-06-16 22:40:16+00:00\n",
      "tweet_date:2022-06-16 22:40:00+00:00\n",
      "tweet_date:2022-06-16 22:39:53+00:00\n",
      "tweet_date:2022-06-16 22:39:43+00:00\n",
      "tweet_date:2022-06-16 22:39:32+00:00\n",
      "tweet_date:2022-06-16 22:39:27+00:00\n",
      "tweet_date:2022-06-16 22:39:27+00:00\n",
      "tweet_date:2022-06-16 22:39:14+00:00\n",
      "tweet_date:2022-06-16 22:39:12+00:00\n",
      "tweet_date:2022-06-16 22:39:07+00:00\n",
      "tweet_date:2022-06-16 22:38:56+00:00\n",
      "tweet_date:2022-06-16 22:38:49+00:00\n",
      "tweet_date:2022-06-16 22:38:48+00:00\n",
      "tweet_date:2022-06-16 22:38:44+00:00\n",
      "tweet_date:2022-06-16 22:38:32+00:00\n",
      "tweet_date:2022-06-16 22:38:22+00:00\n",
      "tweet_date:2022-06-16 22:38:09+00:00\n",
      "tweet_date:2022-06-16 22:38:07+00:00\n",
      "tweet_date:2022-06-16 22:38:04+00:00\n",
      "Number of tweets fetched..:50\n",
      "tweet_date:2022-06-16 22:38:00+00:00\n"
     ]
    },
    {
     "data": {
      "text/html": [
       "<div>\n",
       "<style scoped>\n",
       "    .dataframe tbody tr th:only-of-type {\n",
       "        vertical-align: middle;\n",
       "    }\n",
       "\n",
       "    .dataframe tbody tr th {\n",
       "        vertical-align: top;\n",
       "    }\n",
       "\n",
       "    .dataframe thead th {\n",
       "        text-align: right;\n",
       "    }\n",
       "</style>\n",
       "<table border=\"1\" class=\"dataframe\">\n",
       "  <thead>\n",
       "    <tr style=\"text-align: right;\">\n",
       "      <th></th>\n",
       "      <th>0</th>\n",
       "    </tr>\n",
       "  </thead>\n",
       "  <tbody>\n",
       "    <tr>\n",
       "      <th>0</th>\n",
       "      <td>Lol nah he staked over on CDC</td>\n",
       "    </tr>\n",
       "    <tr>\n",
       "      <th>1</th>\n",
       "      <td>Listening to your interview with futurefi and I want to buy more RR BAYC Very Bullish on your project</td>\n",
       "    </tr>\n",
       "    <tr>\n",
       "      <th>2</th>\n",
       "      <td>BAYC went to NYC and started tagging their logo on top of work from legendary graffiti artists This is so corny</td>\n",
       "    </tr>\n",
       "    <tr>\n",
       "      <th>3</th>\n",
       "      <td>APEFEST 2022 SABET x Available for 7 Days at 0 20 If you hold this piece in NFT NYC and we meet I ll paint you</td>\n",
       "    </tr>\n",
       "    <tr>\n",
       "      <th>4</th>\n",
       "      <td>16Jun Monkey and Duck are friends and look out for each other QUACK ApeFollowApe DuckFollowDuck BAYC ODYC https</td>\n",
       "    </tr>\n",
       "    <tr>\n",
       "      <th>5</th>\n",
       "      <td>when you see a BAYC image thats been reminted as an RR BAYC image the meaning entirely changes Something that is crass an</td>\n",
       "    </tr>\n",
       "    <tr>\n",
       "      <th>6</th>\n",
       "      <td>REVEAL IS HERE Mint 1 Trolltown within 24 hours of reveal to get a fractionalized Mutant BAYC worth 3200 TO</td>\n",
       "    </tr>\n",
       "    <tr>\n",
       "      <th>7</th>\n",
       "      <td>Have you noticed nobody cares about what you saying lol it s like if you saying mmf it s a scam cause of how high it was and look at the price now lol</td>\n",
       "    </tr>\n",
       "    <tr>\n",
       "      <th>8</th>\n",
       "      <td>Just bought myself a BAYC pretty fkn stoked Nice to be apart of the community BAYC BAYC9545 apefollowape yugal</td>\n",
       "    </tr>\n",
       "    <tr>\n",
       "      <th>9</th>\n",
       "      <td>0x57ab b464 fumbled BAYC 1870 status No Hands in 133 88 WETH out 90 WETH hodl 1 month 23 days loss 43 88 ETH spent 396686 04 2022 lost 285446 72</td>\n",
       "    </tr>\n",
       "    <tr>\n",
       "      <th>10</th>\n",
       "      <td>BAYC thinks im legit masterminding all this shit against them paranoid delusions they dont realize that most of the wor</td>\n",
       "    </tr>\n",
       "    <tr>\n",
       "      <th>11</th>\n",
       "      <td>THE SAFEST PROJECT IN DEFI THATS MONKE ape apecoin bayc cryptocurrency Trending MONKE</td>\n",
       "    </tr>\n",
       "    <tr>\n",
       "      <th>12</th>\n",
       "      <td>i would buy a bayc</td>\n",
       "    </tr>\n",
       "    <tr>\n",
       "      <th>13</th>\n",
       "      <td>Free NFT Giveaway Worth 1 ETH 1200 Follow amp Retweet Drop your ETH address NFTCommunity opensea NFTArtist</td>\n",
       "    </tr>\n",
       "    <tr>\n",
       "      <th>14</th>\n",
       "      <td></td>\n",
       "    </tr>\n",
       "    <tr>\n",
       "      <th>15</th>\n",
       "      <td>Kira next bayc</td>\n",
       "    </tr>\n",
       "    <tr>\n",
       "      <th>16</th>\n",
       "      <td>Meta F1 Token is a game metaverse based on the first Race2Earn concept that brings Formula 1 to the blockchain JUNE 17 PRESALE ON PINKSALE KYC amp Audit CMC soon No vesting Telegram vechain bayc</td>\n",
       "    </tr>\n",
       "    <tr>\n",
       "      <th>17</th>\n",
       "      <td>Just found this It s a project that s making meaningful justice reform via NFT tech Follow</td>\n",
       "    </tr>\n",
       "    <tr>\n",
       "      <th>18</th>\n",
       "      <td>Otherdeed 20535 bought for 2 2195 6 otherside otherdeed BAYC MAYC APE Metaverse WhaleAnalytica</td>\n",
       "    </tr>\n",
       "    <tr>\n",
       "      <th>19</th>\n",
       "      <td>The MACC mint is less than 48 hours away are you joining the fun GACC BAYC MAYC NFTMintAlert Mutant</td>\n",
       "    </tr>\n",
       "    <tr>\n",
       "      <th>20</th>\n",
       "      <td>Soyou on repeat now</td>\n",
       "    </tr>\n",
       "    <tr>\n",
       "      <th>21</th>\n",
       "      <td>TIME PST 15 38 48 MAYC floor price 17 10 BAYC floor price 86 45 ETH price 1098 93</td>\n",
       "    </tr>\n",
       "    <tr>\n",
       "      <th>22</th>\n",
       "      <td>When the floor is 0 005 but rares are still getting scooped up boredassgoblins BAGS GOBLINQUEENS BORED</td>\n",
       "    </tr>\n",
       "    <tr>\n",
       "      <th>23</th>\n",
       "      <td>If you don t wanna get called out by Low pay him it s as simple as that He accepts tips on his account and will happily accept cash to support you I believe he might even offer a monthly subscription to this considering crypto crash Laying low lowering standards by eachday</td>\n",
       "    </tr>\n",
       "    <tr>\n",
       "      <th>24</th>\n",
       "      <td>Y all battlin while this dude is supposedly out partyin w the ladies amp 50k Or that s what I would do</td>\n",
       "    </tr>\n",
       "    <tr>\n",
       "      <th>25</th>\n",
       "      <td>NUEVO SORTEO Junto con vamos a sortear 3 Bored Apes S lo por holdear APEs puedes ganar MOVR ht</td>\n",
       "    </tr>\n",
       "    <tr>\n",
       "      <th>26</th>\n",
       "      <td>MONKE supremacy NFTs NFTCommunity BAYC Doodles goblintownwtf</td>\n",
       "    </tr>\n",
       "    <tr>\n",
       "      <th>27</th>\n",
       "      <td>The MACC mint is less than 48 hours away are you joining the fun GACC BAYC MAYC NFTMintAlert MutantApeCountryClub Investing cryptocurrency ETHNFTs digitalart</td>\n",
       "    </tr>\n",
       "    <tr>\n",
       "      <th>28</th>\n",
       "      <td>5 Momoblack NFT Pass BAYC MAYC Azuki 1 2</td>\n",
       "    </tr>\n",
       "    <tr>\n",
       "      <th>29</th>\n",
       "      <td>BAYC at 85k with a future market value of 500k 1mil Strong stench of engagement farming</td>\n",
       "    </tr>\n",
       "    <tr>\n",
       "      <th>30</th>\n",
       "      <td>The interactive NFTs Premint is Live If you ve registered through the premint your good to mint yours NOW</td>\n",
       "    </tr>\n",
       "    <tr>\n",
       "      <th>31</th>\n",
       "      <td>Not true This has been untouched out of respect for over a decade to a well known stre</td>\n",
       "    </tr>\n",
       "    <tr>\n",
       "      <th>32</th>\n",
       "      <td>I salute the big guns BAYC MAYC CloneX Moonbirds Doodles amp all other brave investors in the NFT space Will you have the</td>\n",
       "    </tr>\n",
       "    <tr>\n",
       "      <th>33</th>\n",
       "      <td>if bayc holders complaining at other bayc holders for changing their pfps doesn t show a top idk what does</td>\n",
       "    </tr>\n",
       "  </tbody>\n",
       "</table>\n",
       "</div>"
      ],
      "text/plain": [
       "                                                                                                                                                                                                                                                                                     0\n",
       "0                                                                                                                                                                                                                                                       Lol nah he staked over on CDC \n",
       "1                                                                                                                                                                                Listening to your interview with futurefi and I want to buy more RR BAYC Very Bullish on your project\n",
       "2                                                                                                                                                                     BAYC went to NYC and started tagging their logo on top of work from legendary graffiti artists This is so corny \n",
       "3                                                                                                                                                                      APEFEST 2022 SABET x Available for 7 Days at 0 20 If you hold this piece in NFT NYC and we meet I ll paint you \n",
       "4                                                                                                                                                                     16Jun Monkey and Duck are friends and look out for each other QUACK ApeFollowApe DuckFollowDuck BAYC ODYC https \n",
       "5                                                                                                                                                           when you see a BAYC image thats been reminted as an RR BAYC image the meaning entirely changes Something that is crass an \n",
       "6                                                                                                                                                                         REVEAL IS HERE Mint 1 Trolltown within 24 hours of reveal to get a fractionalized Mutant BAYC worth 3200 TO \n",
       "7                                                                                                                              Have you noticed nobody cares about what you saying lol it s like if you saying mmf it s a scam cause of how high it was and look at the price now lol \n",
       "8                                                                                                                                                                      Just bought myself a BAYC pretty fkn stoked Nice to be apart of the community BAYC BAYC9545 apefollowape yugal \n",
       "9                                                                                                                                    0x57ab b464 fumbled BAYC 1870 status No Hands in 133 88 WETH out 90 WETH hodl 1 month 23 days loss 43 88 ETH spent 396686 04 2022 lost 285446 72 \n",
       "10                                                                                                                                                            BAYC thinks im legit masterminding all this shit against them paranoid delusions they dont realize that most of the wor \n",
       "11                                                                                                                                                                                              THE SAFEST PROJECT IN DEFI THATS MONKE ape apecoin bayc cryptocurrency Trending MONKE \n",
       "12                                                                                                                                                                                                                                                                  i would buy a bayc\n",
       "13                                                                                                                                                                         Free NFT Giveaway Worth 1 ETH 1200 Follow amp Retweet Drop your ETH address NFTCommunity opensea NFTArtist \n",
       "14                                                                                                                                                                                                                                                                                    \n",
       "15                                                                                                                                                                                                                                                                     Kira next bayc \n",
       "16                                                                                 Meta F1 Token is a game metaverse based on the first Race2Earn concept that brings Formula 1 to the blockchain JUNE 17 PRESALE ON PINKSALE KYC amp Audit CMC soon No vesting Telegram vechain bayc \n",
       "17                                                                                                                                                                                         Just found this It s a project that s making meaningful justice reform via NFT tech Follow \n",
       "18                                                                                                                                                                                     Otherdeed 20535 bought for 2 2195 6 otherside otherdeed BAYC MAYC APE Metaverse WhaleAnalytica \n",
       "19                                                                                                                                                                                The MACC mint is less than 48 hours away are you joining the fun GACC BAYC MAYC NFTMintAlert Mutant \n",
       "20                                                                                                                                                                                                                                                                Soyou on repeat now \n",
       "21                                                                                                                                                                                                  TIME PST 15 38 48 MAYC floor price 17 10 BAYC floor price 86 45 ETH price 1098 93 \n",
       "22                                                                                                                                                                             When the floor is 0 005 but rares are still getting scooped up boredassgoblins BAGS GOBLINQUEENS BORED \n",
       "23   If you don t wanna get called out by Low pay him it s as simple as that He accepts tips on his account and will happily accept cash to support you I believe he might even offer a monthly subscription to this considering crypto crash Laying low lowering standards by eachday\n",
       "24                                                                                                                                                                             Y all battlin while this dude is supposedly out partyin w the ladies amp 50k Or that s what I would do \n",
       "25                                                                                                                                                                                     NUEVO SORTEO Junto con vamos a sortear 3 Bored Apes S lo por holdear APEs puedes ganar MOVR ht \n",
       "26                                                                                                                                                                                                                       MONKE supremacy NFTs NFTCommunity BAYC Doodles goblintownwtf \n",
       "27                                                                                                                      The MACC mint is less than 48 hours away are you joining the fun GACC BAYC MAYC NFTMintAlert MutantApeCountryClub Investing cryptocurrency ETHNFTs digitalart \n",
       "28                                                                                                                                                                                                                                           5 Momoblack NFT Pass BAYC MAYC Azuki 1 2 \n",
       "29                                                                                                                                                                                            BAYC at 85k with a future market value of 500k 1mil Strong stench of engagement farming \n",
       "30                                                                                                                                                                          The interactive NFTs Premint is Live If you ve registered through the premint your good to mint yours NOW \n",
       "31                                                                                                                                                                                             Not true This has been untouched out of respect for over a decade to a well known stre \n",
       "32                                                                                                                                                          I salute the big guns BAYC MAYC CloneX Moonbirds Doodles amp all other brave investors in the NFT space Will you have the \n",
       "33                                                                                                                                                                          if bayc holders complaining at other bayc holders for changing their pfps doesn t show a top idk what does"
      ]
     },
     "execution_count": 48,
     "metadata": {},
     "output_type": "execute_result"
    }
   ],
   "source": [
    "#get the max data\n",
    "limit = 50\n",
    "max_results = 100\n",
    "tweet_list=[]\n",
    "progress_indicator_size=50\n",
    "startDate = \"2022-06-16\"\n",
    "start_date = datetime.datetime(2022, 6, 16, 0,0, 0)\n",
    "\n",
    "\n",
    "def search_tweets(query,start_date,reload=False):\n",
    "    client = tweepy.Client(bearer_token=bearer_token)\n",
    "    file_name = determine_file_name(query,start_date)\n",
    "    path = Path(file_name)\n",
    "    \n",
    "    i=1\n",
    "    if (reload == False and path.is_file()):\n",
    "        print(f'The file {file_name} exists')\n",
    "        nft_df = pd.read_csv(file_name)\n",
    "        return nft_df\n",
    "    else:\n",
    "        for tweet in tweepy.Paginator(client.search_recent_tweets,query=query,\n",
    "                                      start_time=start_date,\n",
    "                                      tweet_fields = [ 'created_at'],\n",
    "                                      max_results=max_results).flatten(limit=limit):\n",
    "            #print(str(i) +\")\" + tweet.text)\n",
    "            i=i+1\n",
    "            tweet_date = tweet.created_at\n",
    "            print(f\"tweet_date:{tweet_date}\")\n",
    "            sanitized_tweet = sanitize_tweet(tweet.text)\n",
    "            tweet_list.append(sanitized_tweet)\n",
    "            if(i%progress_indicator_size)==0:\n",
    "                print(f\"Number of tweets fetched..:{i}\")\n",
    "        #once the list is generated, write it to file\n",
    "        unique_tweet_list = remove_duplicates(tweet_list)\n",
    "        write_csv(unique_tweet_list,file_name)\n",
    "    #return list as a dataframe\n",
    "    return pd.DataFrame(unique_tweet_list)\n",
    "\n",
    "query = \"BAYC\"\n",
    "is_reload_needed = True\n",
    "bayc_tweet_df = search_tweets(query,start_date,is_reload_needed)\n",
    "\n",
    "pd.set_option('max_colwidth', 800)\n",
    "bayc_tweet_df\n"
   ]
  },
  {
   "cell_type": "code",
   "execution_count": 179,
   "id": "9d159a44",
   "metadata": {},
   "outputs": [],
   "source": [
    "#query = \"NFT\"\n",
    "#is_reload_needed = False\n",
    "#tweet_df = search_tweets1(query,is_reload_needed)\n",
    "#tweet_df"
   ]
  },
  {
   "cell_type": "markdown",
   "id": "13238473",
   "metadata": {},
   "source": [
    "To score a review comment as positive or negative, we will use the compound polarity score; The compound score ranges between -1 (most extreme negative) and +1 (most extreme positive). Following the recommendations from the research paper (link below), we will define a threshold of 0.1 to label a review as positive, if the compound score is greater than or equal to 0.1, the review comment will be positive , if the compound score is below 0.1, the review comment will be negative \n",
    "\n",
    "Research paper link - https://scholar.smu.edu/cgi/viewcontent.cgi?article=1051&context=datasciencereview"
   ]
  },
  {
   "cell_type": "code",
   "execution_count": 213,
   "id": "d70fc996",
   "metadata": {},
   "outputs": [
    {
     "data": {
      "text/html": [
       "<div>\n",
       "<style scoped>\n",
       "    .dataframe tbody tr th:only-of-type {\n",
       "        vertical-align: middle;\n",
       "    }\n",
       "\n",
       "    .dataframe tbody tr th {\n",
       "        vertical-align: top;\n",
       "    }\n",
       "\n",
       "    .dataframe thead th {\n",
       "        text-align: right;\n",
       "    }\n",
       "</style>\n",
       "<table border=\"1\" class=\"dataframe\">\n",
       "  <thead>\n",
       "    <tr style=\"text-align: right;\">\n",
       "      <th></th>\n",
       "      <th>Tweets</th>\n",
       "      <th>tweet_compound</th>\n",
       "      <th>tweet_pos</th>\n",
       "      <th>tweet_neu</th>\n",
       "      <th>tweet_neg</th>\n",
       "      <th>tweet_sent</th>\n",
       "      <th>sentiment_score</th>\n",
       "    </tr>\n",
       "  </thead>\n",
       "  <tbody>\n",
       "    <tr>\n",
       "      <th>0</th>\n",
       "      <td>GACC IS LIVE for WAGMI Wednesday All MACC details have been revealed what are you thoughts on the price and schedule</td>\n",
       "      <td>0.0000</td>\n",
       "      <td>0.000</td>\n",
       "      <td>1.000</td>\n",
       "      <td>0.0</td>\n",
       "      <td>0.0000</td>\n",
       "      <td>0</td>\n",
       "    </tr>\n",
       "    <tr>\n",
       "      <th>1</th>\n",
       "      <td>bayc better than goblins</td>\n",
       "      <td>0.4404</td>\n",
       "      <td>0.492</td>\n",
       "      <td>0.508</td>\n",
       "      <td>0.0</td>\n",
       "      <td>0.4404</td>\n",
       "      <td>1</td>\n",
       "    </tr>\n",
       "    <tr>\n",
       "      <th>2</th>\n",
       "      <td>Original music by dope artists is a cooler use case than BAYC MAYC Don t me</td>\n",
       "      <td>0.3182</td>\n",
       "      <td>0.150</td>\n",
       "      <td>0.850</td>\n",
       "      <td>0.0</td>\n",
       "      <td>0.3182</td>\n",
       "      <td>1</td>\n",
       "    </tr>\n",
       "    <tr>\n",
       "      <th>3</th>\n",
       "      <td>bayc rules</td>\n",
       "      <td>0.0000</td>\n",
       "      <td>0.000</td>\n",
       "      <td>1.000</td>\n",
       "      <td>0.0</td>\n",
       "      <td>0.0000</td>\n",
       "      <td>0</td>\n",
       "    </tr>\n",
       "    <tr>\n",
       "      <th>4</th>\n",
       "      <td>Just recorded a video yesterday which will release tomorrow where I mentioned BAYC could reach 100 ETH floor price in t</td>\n",
       "      <td>0.0258</td>\n",
       "      <td>0.061</td>\n",
       "      <td>0.939</td>\n",
       "      <td>0.0</td>\n",
       "      <td>0.0258</td>\n",
       "      <td>0</td>\n",
       "    </tr>\n",
       "  </tbody>\n",
       "</table>\n",
       "</div>"
      ],
      "text/plain": [
       "                                                                                                                      Tweets  tweet_compound  tweet_pos  tweet_neu  tweet_neg  tweet_sent  sentiment_score\n",
       "0      GACC IS LIVE for WAGMI Wednesday All MACC details have been revealed what are you thoughts on the price and schedule           0.0000      0.000      1.000        0.0      0.0000                0\n",
       "1                                                                                                  bayc better than goblins           0.4404      0.492      0.508        0.0      0.4404                1\n",
       "2                                                Original music by dope artists is a cooler use case than BAYC MAYC Don t me          0.3182      0.150      0.850        0.0      0.3182                1\n",
       "3                                                                                                                bayc rules           0.0000      0.000      1.000        0.0      0.0000                0\n",
       "4   Just recorded a video yesterday which will release tomorrow where I mentioned BAYC could reach 100 ETH floor price in t           0.0258      0.061      0.939        0.0      0.0258                0"
      ]
     },
     "execution_count": 213,
     "metadata": {},
     "output_type": "execute_result"
    }
   ],
   "source": [
    "#dictionary to store the sentiment scores of the article\n",
    "tweet_sentiment = {\n",
    "        \"tweet_compound\": [],\n",
    "        \"tweet_pos\": [],\n",
    "        \"tweet_neu\": [],\n",
    "        \"tweet_neg\": [],\n",
    "        \"tweet_sent\": [],\n",
    "        \"sentiment_score\": [],\n",
    "        }\n",
    "\n",
    "analyzer = SentimentIntensityAnalyzer()\n",
    "\n",
    "def convert_tweet_sentiment_score(tweet_sentiment_score):\n",
    "    binary_score = 0\n",
    "    \n",
    "    if(tweet_sentiment_score > 0.1):\n",
    "        binary_score =1 \n",
    "    \n",
    "    #print(f\"tweet_sentiment_score:{tweet_sentiment_score},binary_score:{binary_score}\")\n",
    "    return binary_score\n",
    "    \n",
    "# Get sentiment for the tweet\n",
    "def get_sentiment_score(tweet_df):\n",
    "    \n",
    "    for index, row in tweet_df.iterrows():\n",
    "        try:\n",
    "            # Sentiment scoring with VADER\n",
    "            text_sentiment = analyzer.polarity_scores(row[\"Tweets\"])\n",
    "            tweet_sentiment[\"tweet_compound\"].append(text_sentiment[\"compound\"])\n",
    "            tweet_sentiment[\"tweet_pos\"].append(text_sentiment[\"pos\"])\n",
    "            tweet_sentiment[\"tweet_neu\"].append(text_sentiment[\"neu\"])\n",
    "            tweet_sentiment[\"tweet_neg\"].append(text_sentiment[\"neg\"])\n",
    "            tweet_sentiment_score = text_sentiment[\"compound\"]\n",
    "            tweet_sentiment[\"tweet_sent\"].append(tweet_sentiment_score)\n",
    "            classification_score = convert_tweet_sentiment_score(float(tweet_sentiment_score))\n",
    "            #print(f\"classification_score:{classification_score}\")\n",
    "            tweet_sentiment[\"sentiment_score\"].append(classification_score)\n",
    "        except AttributeError:\n",
    "            pass\n",
    "        \n",
    "    return tweet_sentiment\n",
    "\n",
    "    \n",
    "# Attaching sentiment columns to the News DataFrame\n",
    "tweet_sentiment = get_sentiment_score(bayc_tweet_df)\n",
    "tweet_sentiment_df = pd.DataFrame(tweet_sentiment)\n",
    "bayc_tweet_sentiment_df = bayc_tweet_df.join(tweet_sentiment_df)\n",
    "bayc_tweet_sentiment_df.head()"
   ]
  },
  {
   "cell_type": "code",
   "execution_count": 188,
   "id": "28c4a3be",
   "metadata": {},
   "outputs": [
    {
     "name": "stderr",
     "output_type": "stream",
     "text": [
      "[nltk_data] Downloading package omw-1.4 to\n",
      "[nltk_data]     /Users/sameerlakhe/nltk_data...\n",
      "[nltk_data]   Package omw-1.4 is already up-to-date!\n"
     ]
    },
    {
     "name": "stdout",
     "output_type": "stream",
     "text": [
      "[('bayc', 11), ('ape', 6), ('nft', 5), ('mayc', 4), ('premint', 4), ('project', 3), ('nfts', 3), ('floor', 3), ('like', 2), ('eth', 2)]\n"
     ]
    },
    {
     "data": {
      "text/plain": [
       "<matplotlib.image.AxesImage at 0x7fa3253fb050>"
      ]
     },
     "execution_count": 188,
     "metadata": {},
     "output_type": "execute_result"
    },
    {
     "data": {
      "image/png": "[encoded data removed]",
      "text/plain": [
       "<Figure size 432x288 with 1 Axes>"
      ]
     },
     "metadata": {
      "needs_background": "light"
     },
     "output_type": "display_data"
    }
   ],
   "source": [
    "nltk.download('omw-1.4')\n",
    "# Instantiate the lemmatizer\n",
    "lemmatizer = WordNetLemmatizer()\n",
    "\n",
    "# Create a list of stopwords\n",
    "sw = set(stopwords.words('english'))\n",
    "\n",
    "# Complete the tokenizer function\n",
    "def tokenizer(text):\n",
    "    \"\"\"Tokenizes text.\"\"\"\n",
    "    # Remove the punctuation from text\n",
    "    regex = re.compile(\"[^a-zA-Z ]\")\n",
    "    re_clean = regex.sub('', text)\n",
    "    # Create a tokenized list of the words\n",
    "    words = word_tokenize(re_clean)\n",
    "    # Lemmatize words into root words\n",
    "    lem = [lemmatizer.lemmatize(word) for word in words]\n",
    "    # Convert the words to lowercase\n",
    "    # Remove the stop words\n",
    "    tokens = [word.lower() for word in lem if word.lower() not in sw]\n",
    "    return tokens\n",
    "\n",
    "# Create a new tokens column for Bitcoin\n",
    "def generate_tokens(df):\n",
    "    list_tokens=[]\n",
    "    for row in df[\"Tweets\"]:\n",
    "        tokens = tokenizer(row)\n",
    "        list_tokens.append(tokens)\n",
    "    return list_tokens\n",
    "\n",
    "bayc_tokens = generate_tokens(bayc_tweet_df)\n",
    "bayc_tweet_df['tokens'] = bayc_tokens\n",
    "bayc_tweet_df.head()\n",
    "\n",
    "#concat data from all the rows for tokens column\n",
    "def get_big_token_string(df):\n",
    "    big_str=''\n",
    "    for row in df[\"tokens\"]:\n",
    "        list_string = ' '.join(row)\n",
    "        big_str = big_str + list_string\n",
    "    return big_str\n",
    "\n",
    "# Generate the Bitcoin N-grams where N=2\n",
    "big_string_bayc_tokens = get_big_token_string(bayc_tweet_df)\n",
    "bayc_tokens = big_string_bayc_tokens.split()\n",
    "bayc_bigram_counts = Counter(ngrams(bayc_tokens, n=2))\n",
    "\n",
    "# Function token_count generates the top 10 words for a given coin\n",
    "def token_count(tokens, N=3):\n",
    "    \"\"\"Returns the top N tokens from the frequency count\"\"\"\n",
    "    return Counter(tokens).most_common(N)\n",
    "\n",
    "# Use token_count to get the top 10 words for Bitcoin\n",
    "bayc_top_words = token_count(bayc_tokens,10)\n",
    "print(bayc_top_words)\n",
    "\n",
    "# Generate the Bitcoin word cloud\n",
    "wc_bayc = WordCloud(width=1800, height=1000, max_words=50).generate(big_string_bayc_tokens)\n",
    "plt.imshow(wc_bayc)"
   ]
  },
  {
   "cell_type": "code",
   "execution_count": 216,
   "id": "cf06e4aa",
   "metadata": {},
   "outputs": [
    {
     "data": {
      "text/html": [
       "<div>\n",
       "<style scoped>\n",
       "    .dataframe tbody tr th:only-of-type {\n",
       "        vertical-align: middle;\n",
       "    }\n",
       "\n",
       "    .dataframe tbody tr th {\n",
       "        vertical-align: top;\n",
       "    }\n",
       "\n",
       "    .dataframe thead th {\n",
       "        text-align: right;\n",
       "    }\n",
       "</style>\n",
       "<table border=\"1\" class=\"dataframe\">\n",
       "  <thead>\n",
       "    <tr style=\"text-align: right;\">\n",
       "      <th></th>\n",
       "      <th>Tweets</th>\n",
       "      <th>sentiment_score</th>\n",
       "    </tr>\n",
       "  </thead>\n",
       "  <tbody>\n",
       "    <tr>\n",
       "      <th>0</th>\n",
       "      <td>GACC IS LIVE for WAGMI Wednesday All MACC details have been revealed what are you thoughts on the price and schedule</td>\n",
       "      <td>0</td>\n",
       "    </tr>\n",
       "    <tr>\n",
       "      <th>1</th>\n",
       "      <td>bayc better than goblins</td>\n",
       "      <td>1</td>\n",
       "    </tr>\n",
       "    <tr>\n",
       "      <th>2</th>\n",
       "      <td>Original music by dope artists is a cooler use case than BAYC MAYC Don t me</td>\n",
       "      <td>1</td>\n",
       "    </tr>\n",
       "    <tr>\n",
       "      <th>3</th>\n",
       "      <td>bayc rules</td>\n",
       "      <td>0</td>\n",
       "    </tr>\n",
       "    <tr>\n",
       "      <th>4</th>\n",
       "      <td>Just recorded a video yesterday which will release tomorrow where I mentioned BAYC could reach 100 ETH floor price in t</td>\n",
       "      <td>0</td>\n",
       "    </tr>\n",
       "    <tr>\n",
       "      <th>5</th>\n",
       "      <td>bayc gt goblins</td>\n",
       "      <td>1</td>\n",
       "    </tr>\n",
       "    <tr>\n",
       "      <th>6</th>\n",
       "      <td>The Biggest BAYC Giveaway Claim Your BAYC Now</td>\n",
       "      <td>0</td>\n",
       "    </tr>\n",
       "    <tr>\n",
       "      <th>7</th>\n",
       "      <td>GM the best thing about even if you plebs have to sell you monkey PFP cos they are worthless I will still</td>\n",
       "      <td>1</td>\n",
       "    </tr>\n",
       "    <tr>\n",
       "      <th>8</th>\n",
       "      <td>ppl held their apes at 1k eth they ll hold their apes at 500 eth others joined the club BAYC MAYC gonna thrive thru the bear market</td>\n",
       "      <td>0</td>\n",
       "    </tr>\n",
       "    <tr>\n",
       "      <th>9</th>\n",
       "      <td>ad MAYC 19 ETH 34000 GIVEAWAY mints in 24 hours and is giving away a BAYC NFT worth over 34000 To</td>\n",
       "      <td>1</td>\n",
       "    </tr>\n",
       "    <tr>\n",
       "      <th>10</th>\n",
       "      <td>When BAYC mfs finally meet their 1 irl</td>\n",
       "      <td>0</td>\n",
       "    </tr>\n",
       "    <tr>\n",
       "      <th>11</th>\n",
       "      <td>For 0 25 E Pay us eth Check out my item listing on OpenSea ensdomains Ethereum NFT NFTCommmu</td>\n",
       "      <td>0</td>\n",
       "    </tr>\n",
       "    <tr>\n",
       "      <th>12</th>\n",
       "      <td>I will give away another rare GOBLIN to some random person floor price 7ETH Last round Follow Retweet</td>\n",
       "      <td>0</td>\n",
       "    </tr>\n",
       "    <tr>\n",
       "      <th>13</th>\n",
       "      <td>BAYC</td>\n",
       "      <td>0</td>\n",
       "    </tr>\n",
       "    <tr>\n",
       "      <th>14</th>\n",
       "      <td>bayc for the win</td>\n",
       "      <td>1</td>\n",
       "    </tr>\n",
       "  </tbody>\n",
       "</table>\n",
       "</div>"
      ],
      "text/plain": [
       "                                                                                                                                  Tweets  sentiment_score\n",
       "0                  GACC IS LIVE for WAGMI Wednesday All MACC details have been revealed what are you thoughts on the price and schedule                 0\n",
       "1                                                                                                              bayc better than goblins                 1\n",
       "2                                                            Original music by dope artists is a cooler use case than BAYC MAYC Don t me                1\n",
       "3                                                                                                                            bayc rules                 0\n",
       "4               Just recorded a video yesterday which will release tomorrow where I mentioned BAYC could reach 100 ETH floor price in t                 0\n",
       "5                                                                                                                       bayc gt goblins                 1\n",
       "6                                                                                         The Biggest BAYC Giveaway Claim Your BAYC Now                 0\n",
       "7                             GM the best thing about even if you plebs have to sell you monkey PFP cos they are worthless I will still                 1\n",
       "8   ppl held their apes at 1k eth they ll hold their apes at 500 eth others joined the club BAYC MAYC gonna thrive thru the bear market                 0\n",
       "9                                     ad MAYC 19 ETH 34000 GIVEAWAY mints in 24 hours and is giving away a BAYC NFT worth over 34000 To                 1\n",
       "10                                                                                               When BAYC mfs finally meet their 1 irl                 0\n",
       "11                                         For 0 25 E Pay us eth Check out my item listing on OpenSea ensdomains Ethereum NFT NFTCommmu                 0\n",
       "12                                I will give away another rare GOBLIN to some random person floor price 7ETH Last round Follow Retweet                 0\n",
       "13                                                                                                                                 BAYC                 0\n",
       "14                                                                                                                     bayc for the win                 1"
      ]
     },
     "execution_count": 216,
     "metadata": {},
     "output_type": "execute_result"
    }
   ],
   "source": [
    "bayc_learing_df = bayc_tweet_sentiment_df.copy()\n",
    "bayc_learing_df = bayc_learing_df[[\"Tweets\",\"sentiment_score\"]]\n",
    "bayc_learing_df"
   ]
  },
  {
   "cell_type": "code",
   "execution_count": 220,
   "id": "2494bf37",
   "metadata": {},
   "outputs": [],
   "source": [
    "# Create the features set (X) and the target vector (y)\n",
    "X = bayc_learing_df[\"Tweets\"].values\n",
    "y = bayc_learing_df[\"sentiment_score\"].values"
   ]
  },
  {
   "cell_type": "code",
   "execution_count": 221,
   "id": "c6969bde",
   "metadata": {},
   "outputs": [],
   "source": [
    "# Create the train, test, and validation sets\n",
    "X_train, X_test, y_train, y_test = train_test_split(X, y)\n",
    "\n",
    "X_train, X_val, y_train, y_val = train_test_split(X_train, y_train)"
   ]
  },
  {
   "cell_type": "markdown",
   "id": "01ff1477",
   "metadata": {},
   "source": [
    "***Scoring Sentiment Using RNN LSTM***\n",
    "\n",
    "Build an RNN LSTM model to score the sentiment of the review comments. You will fit the model using the training and validations sets, and finally, you will get some predictions using the testing set "
   ]
  },
  {
   "cell_type": "code",
   "execution_count": 223,
   "id": "666efc28",
   "metadata": {},
   "outputs": [],
   "source": [
    "# Create an instance of the Tokenizer and fit it with the X text data\n",
    "tokenizer = Tokenizer(lower=True)\n",
    "tokenizer.fit_on_texts(X)"
   ]
  },
  {
   "cell_type": "code",
   "execution_count": 224,
   "id": "178bcc60",
   "metadata": {},
   "outputs": [
    {
     "name": "stdout",
     "output_type": "stream",
     "text": [
      "word: 'bayc', token: 1\n",
      "word: 'the', token: 2\n",
      "word: 'eth', token: 3\n",
      "word: 'is', token: 4\n",
      "word: 'for', token: 5\n"
     ]
    }
   ],
   "source": [
    "# Print the first five elements of the encoded vocabulary\n",
    "for token in list(tokenizer.word_index)[:5]:\n",
    "    print(f\"word: '{token}', token: {tokenizer.word_index[token]}\")"
   ]
  },
  {
   "cell_type": "code",
   "execution_count": 226,
   "id": "bf805113",
   "metadata": {},
   "outputs": [
    {
     "name": "stdout",
     "output_type": "stream",
     "text": [
      "**Text comment**\n",
      "{' GACC IS LIVE for WAGMI Wednesday All MACC details have been revealed what are you thoughts on the price and schedule '}\n",
      "**Numerical sequence representation**\n",
      "[30, 4, 31, 5, 32, 33, 34, 35, 36, 14, 37, 38, 39, 15, 6, 40, 16, 2, 7, 17, 41]\n"
     ]
    }
   ],
   "source": [
    "#To fit the RNN LSTM model for sentiment scoring, the text data in X should be encoded \n",
    "#as sequences. Use the text_to_sequence() method of the tokenizer to transform\n",
    "#the text data to numerical sequences and save the sequences in a variable called X_seq\n",
    "# Transform the text data to numerical sequences\n",
    "X_seq = tokenizer.texts_to_sequences(X)\n",
    "#For testing proposes, compare the text representation of a movie review with its \n",
    "#numerical representation, by printing the first text review in X and the first encoded element in X_seq\n",
    "\n",
    "# Contrast a sample numerical sequence with its text version\n",
    "print(\"**Text comment**\")\n",
    "print({X[0]})\n",
    "print(\"**Numerical sequence representation**\")\n",
    "print(X_seq[0])"
   ]
  },
  {
   "cell_type": "code",
   "execution_count": 229,
   "id": "a9b9af49",
   "metadata": {},
   "outputs": [],
   "source": [
    "#RNN LSTM models need equal size inputs, so that, pad the sequences \n",
    "#stored in X_pad up to 140 integers using the pad_sequences method from Keras. \n",
    "#Store the pad size in a variable called max_words.Note: You may use a bigger padding size;\n",
    "#however, using a bigger value will increase the time that takes fitting the RNN LSTM model\n",
    "# Set the pad size\n",
    "max_words = 140\n",
    "\n",
    "# Pad the sequences using the pad_sequences() method\n",
    "X_pad = pad_sequences(X_seq, maxlen=max_words, padding=\"post\")\n"
   ]
  },
  {
   "cell_type": "code",
   "execution_count": 230,
   "id": "95febf3b",
   "metadata": {},
   "outputs": [],
   "source": [
    "#Create the Training, Validation, and Testing Sets\n",
    "#Create suitable training, validation, and testing sets for fitting and testing \n",
    "#the RNN LSTM model using the encoded review comments.\n",
    "#Use the train_test_split method from sklearn to create these sets\n",
    "# Creating training, validation, and testing sets using the encoded data\n",
    "X_train_rnn, X_test_rnn, y_train_rnn, y_test_rnn = train_test_split(X_pad, y)\n",
    "\n",
    "X_train_rnn, X_val_rnn, y_train_rnn, y_val_rnn = train_test_split(X_train_rnn, y_train_rnn)"
   ]
  },
  {
   "cell_type": "code",
   "execution_count": 232,
   "id": "75a54fee",
   "metadata": {},
   "outputs": [],
   "source": [
    "#Build and Train the RNN LSTM Model\n",
    "#We use Embedding layers to analyze text data in RNN LSTM models,\n",
    "#so this section starts by setting-up some initial variables needed for the RNN LSTM to \n",
    "#score sentiment.As it's defined in the Embedding layer documentation of the Keras API, \n",
    "#set the input_dim parameter to the size of your vocabulary, \n",
    "#so we set the vocabulary_size variable to the length of the number of words in the\n",
    "#tokenizer plus 1.Also, we define a variable called embedding_size to specify how\n",
    "#many dimensions will be used to represent each word.\n",
    "# Model set-up\n",
    "vocabulary_size = len(tokenizer.word_counts.keys()) + 1\n",
    "embedding_size = 64\n"
   ]
  },
  {
   "cell_type": "markdown",
   "id": "9629709c",
   "metadata": {},
   "source": [
    "***Define an RNN LSTM model as follows:***\n",
    "- Layer 1: Add an Embedding layer using the vocabulary_size and embedding_size variables as the first two parameters, and setting input_length=max_words (the same size as the padding).\n",
    "- Layer 2: Add an LSTM layer with 280 units.Output Layer: Add a Dense layer with 1 unit and sigmoid as activation function."
   ]
  },
  {
   "cell_type": "code",
   "execution_count": 233,
   "id": "5d239590",
   "metadata": {},
   "outputs": [
    {
     "name": "stderr",
     "output_type": "stream",
     "text": [
      "2022-06-16 00:39:01.907929: I tensorflow/core/platform/cpu_feature_guard.cc:193] This TensorFlow binary is optimized with oneAPI Deep Neural Network Library (oneDNN) to use the following CPU instructions in performance-critical operations:  AVX2 FMA\n",
      "To enable them in other operations, rebuild TensorFlow with the appropriate compiler flags.\n"
     ]
    }
   ],
   "source": [
    "# Define the LSTM RNN model\n",
    "model = Sequential()\n",
    "\n",
    "# Layer 1\n",
    "model.add(Embedding(vocabulary_size, embedding_size, input_length=max_words))\n",
    "\n",
    "# Layer 2\n",
    "model.add(LSTM(units=280))\n",
    "\n",
    "# Output layer\n",
    "model.add(Dense(units=1, activation=\"sigmoid\"))"
   ]
  },
  {
   "cell_type": "code",
   "execution_count": 238,
   "id": "96274dda",
   "metadata": {},
   "outputs": [],
   "source": [
    "#Compile the model using the binary_crossentropy loss function, the adam optimizer, \n",
    "#and fetch the following metrics: Accuracy, True positives, True negatives,\n",
    "#False positives, False negatives, Precision, Recall,and AUC.\n",
    "\n",
    "# Compile the model\n",
    "model.compile(\n",
    "    loss=\"binary_crossentropy\",\n",
    "    optimizer=\"adam\",\n",
    "    metrics=[\n",
    "        \"accuracy\",\n",
    "        tf.keras.metrics.TruePositives(name=\"tp\"),\n",
    "        tf.keras.metrics.TrueNegatives(name=\"tn\"),\n",
    "        tf.keras.metrics.FalsePositives(name=\"fp\"),\n",
    "        tf.keras.metrics.FalseNegatives(name=\"fn\"),\n",
    "        tf.keras.metrics.Precision(name=\"precision\"),\n",
    "        tf.keras.metrics.Recall(name=\"recall\"),\n",
    "        tf.keras.metrics.AUC(name=\"auc\"),\n",
    "    ],\n",
    ")"
   ]
  },
  {
   "cell_type": "code",
   "execution_count": 239,
   "id": "f883a95a",
   "metadata": {},
   "outputs": [
    {
     "name": "stdout",
     "output_type": "stream",
     "text": [
      "Model: \"sequential\"\n",
      "_________________________________________________________________\n",
      " Layer (type)                Output Shape              Param #   \n",
      "=================================================================\n",
      " embedding (Embedding)       (None, 140, 64)           8896      \n",
      "                                                                 \n",
      " lstm (LSTM)                 (None, 280)               386400    \n",
      "                                                                 \n",
      " dense (Dense)               (None, 1)                 281       \n",
      "                                                                 \n",
      "=================================================================\n",
      "Total params: 395,577\n",
      "Trainable params: 395,577\n",
      "Non-trainable params: 0\n",
      "_________________________________________________________________\n"
     ]
    }
   ],
   "source": [
    "#Display the summary of the model using the summary method of the model.\n",
    "# Show model summary\n",
    "model.summary()"
   ]
  },
  {
   "cell_type": "code",
   "execution_count": 240,
   "id": "aee2d1c6",
   "metadata": {},
   "outputs": [
    {
     "name": "stdout",
     "output_type": "stream",
     "text": [
      "Epoch 1/10\n",
      "1/1 [==============================] - 4s 4s/step - loss: 0.6939 - accuracy: 0.3750 - tp: 3.0000 - tn: 0.0000e+00 - fp: 5.0000 - fn: 0.0000e+00 - precision: 0.3750 - recall: 1.0000 - auc: 0.5000 - val_loss: 0.7099 - val_accuracy: 0.3333 - val_tp: 0.0000e+00 - val_tn: 1.0000 - val_fp: 0.0000e+00 - val_fn: 2.0000 - val_precision: 0.0000e+00 - val_recall: 0.0000e+00 - val_auc: 0.5000\n",
      "Epoch 2/10\n",
      "1/1 [==============================] - 0s 143ms/step - loss: 0.6825 - accuracy: 0.6250 - tp: 0.0000e+00 - tn: 5.0000 - fp: 0.0000e+00 - fn: 3.0000 - precision: 0.0000e+00 - recall: 0.0000e+00 - auc: 0.5000 - val_loss: 0.7350 - val_accuracy: 0.3333 - val_tp: 0.0000e+00 - val_tn: 1.0000 - val_fp: 0.0000e+00 - val_fn: 2.0000 - val_precision: 0.0000e+00 - val_recall: 0.0000e+00 - val_auc: 0.5000\n",
      "Epoch 3/10\n",
      "1/1 [==============================] - 0s 142ms/step - loss: 0.6720 - accuracy: 0.6250 - tp: 0.0000e+00 - tn: 5.0000 - fp: 0.0000e+00 - fn: 3.0000 - precision: 0.0000e+00 - recall: 0.0000e+00 - auc: 0.5000 - val_loss: 0.7864 - val_accuracy: 0.3333 - val_tp: 0.0000e+00 - val_tn: 1.0000 - val_fp: 0.0000e+00 - val_fn: 2.0000 - val_precision: 0.0000e+00 - val_recall: 0.0000e+00 - val_auc: 0.5000\n",
      "Epoch 4/10\n",
      "1/1 [==============================] - 0s 161ms/step - loss: 0.6624 - accuracy: 0.6250 - tp: 0.0000e+00 - tn: 5.0000 - fp: 0.0000e+00 - fn: 3.0000 - precision: 0.0000e+00 - recall: 0.0000e+00 - auc: 0.5000 - val_loss: 0.9670 - val_accuracy: 0.3333 - val_tp: 0.0000e+00 - val_tn: 1.0000 - val_fp: 0.0000e+00 - val_fn: 2.0000 - val_precision: 0.0000e+00 - val_recall: 0.0000e+00 - val_auc: 0.5000\n",
      "Epoch 5/10\n",
      "1/1 [==============================] - 0s 160ms/step - loss: 0.6849 - accuracy: 0.6250 - tp: 0.0000e+00 - tn: 5.0000 - fp: 0.0000e+00 - fn: 3.0000 - precision: 0.0000e+00 - recall: 0.0000e+00 - auc: 0.5000 - val_loss: 0.8374 - val_accuracy: 0.3333 - val_tp: 0.0000e+00 - val_tn: 1.0000 - val_fp: 0.0000e+00 - val_fn: 2.0000 - val_precision: 0.0000e+00 - val_recall: 0.0000e+00 - val_auc: 0.5000\n",
      "Epoch 6/10\n",
      "1/1 [==============================] - 0s 148ms/step - loss: 0.6625 - accuracy: 0.6250 - tp: 0.0000e+00 - tn: 5.0000 - fp: 0.0000e+00 - fn: 3.0000 - precision: 0.0000e+00 - recall: 0.0000e+00 - auc: 0.5000 - val_loss: 0.7902 - val_accuracy: 0.3333 - val_tp: 0.0000e+00 - val_tn: 1.0000 - val_fp: 0.0000e+00 - val_fn: 2.0000 - val_precision: 0.0000e+00 - val_recall: 0.0000e+00 - val_auc: 0.5000\n",
      "Epoch 7/10\n",
      "1/1 [==============================] - 0s 169ms/step - loss: 0.6622 - accuracy: 0.6250 - tp: 0.0000e+00 - tn: 5.0000 - fp: 0.0000e+00 - fn: 3.0000 - precision: 0.0000e+00 - recall: 0.0000e+00 - auc: 0.5000 - val_loss: 0.7696 - val_accuracy: 0.3333 - val_tp: 0.0000e+00 - val_tn: 1.0000 - val_fp: 0.0000e+00 - val_fn: 2.0000 - val_precision: 0.0000e+00 - val_recall: 0.0000e+00 - val_auc: 0.5000\n",
      "Epoch 8/10\n",
      "1/1 [==============================] - 0s 183ms/step - loss: 0.6642 - accuracy: 0.6250 - tp: 0.0000e+00 - tn: 5.0000 - fp: 0.0000e+00 - fn: 3.0000 - precision: 0.0000e+00 - recall: 0.0000e+00 - auc: 0.5000 - val_loss: 0.7599 - val_accuracy: 0.3333 - val_tp: 0.0000e+00 - val_tn: 1.0000 - val_fp: 0.0000e+00 - val_fn: 2.0000 - val_precision: 0.0000e+00 - val_recall: 0.0000e+00 - val_auc: 0.5000\n",
      "Epoch 9/10\n",
      "1/1 [==============================] - 0s 166ms/step - loss: 0.6658 - accuracy: 0.6250 - tp: 0.0000e+00 - tn: 5.0000 - fp: 0.0000e+00 - fn: 3.0000 - precision: 0.0000e+00 - recall: 0.0000e+00 - auc: 0.5000 - val_loss: 0.7558 - val_accuracy: 0.3333 - val_tp: 0.0000e+00 - val_tn: 1.0000 - val_fp: 0.0000e+00 - val_fn: 2.0000 - val_precision: 0.0000e+00 - val_recall: 0.0000e+00 - val_auc: 0.5000\n",
      "Epoch 10/10\n",
      "1/1 [==============================] - 0s 174ms/step - loss: 0.6666 - accuracy: 0.6250 - tp: 0.0000e+00 - tn: 5.0000 - fp: 0.0000e+00 - fn: 3.0000 - precision: 0.0000e+00 - recall: 0.0000e+00 - auc: 0.5000 - val_loss: 0.7550 - val_accuracy: 0.3333 - val_tp: 0.0000e+00 - val_tn: 1.0000 - val_fp: 0.0000e+00 - val_fn: 2.0000 - val_precision: 0.0000e+00 - val_recall: 0.0000e+00 - val_auc: 0.5000\n"
     ]
    },
    {
     "data": {
      "text/plain": [
       "<keras.callbacks.History at 0x7fa3264c5dd0>"
      ]
     },
     "execution_count": 240,
     "metadata": {},
     "output_type": "execute_result"
    }
   ],
   "source": [
    "#Train the RNN LSTM model using a batch size equals to 1000 and ten epochs. \n",
    "#Remember to set the validation_data parameter to use your validation sets.\n",
    "# Training the model\n",
    "batch_size = 1000\n",
    "epochs = 10\n",
    "model.fit(\n",
    "    X_train_rnn,\n",
    "    y_train_rnn,\n",
    "    validation_data=(X_val_rnn, y_val_rnn),\n",
    "    epochs=epochs,\n",
    "    batch_size=batch_size,\n",
    "    verbose=1,\n",
    ")"
   ]
  },
  {
   "cell_type": "code",
   "execution_count": 241,
   "id": "eeef1f3f",
   "metadata": {},
   "outputs": [
    {
     "name": "stdout",
     "output_type": "stream",
     "text": [
      "1/1 [==============================] - 0s 426ms/step\n"
     ]
    }
   ],
   "source": [
    "# Predict classes using the testing data\n",
    "y_rnn_pred = model.predict(X_test_rnn) > 0.5"
   ]
  },
  {
   "cell_type": "code",
   "execution_count": 243,
   "id": "11d75544",
   "metadata": {},
   "outputs": [
    {
     "name": "stdout",
     "output_type": "stream",
     "text": [
      "RNN LSTM Accuracy 0.75\n"
     ]
    }
   ],
   "source": [
    "print(\"RNN LSTM Accuracy %.2f\" % (accuracy_score(y_test_rnn, y_rnn_pred)))"
   ]
  },
  {
   "cell_type": "code",
   "execution_count": 245,
   "id": "9e77b67e",
   "metadata": {},
   "outputs": [
    {
     "name": "stdout",
     "output_type": "stream",
     "text": [
      "Confusion Matrix from the RNN LSTM Model\n"
     ]
    },
    {
     "data": {
      "text/html": [
       "<div>\n",
       "<style scoped>\n",
       "    .dataframe tbody tr th:only-of-type {\n",
       "        vertical-align: middle;\n",
       "    }\n",
       "\n",
       "    .dataframe tbody tr th {\n",
       "        vertical-align: top;\n",
       "    }\n",
       "\n",
       "    .dataframe thead th {\n",
       "        text-align: right;\n",
       "    }\n",
       "</style>\n",
       "<table border=\"1\" class=\"dataframe\">\n",
       "  <thead>\n",
       "    <tr style=\"text-align: right;\">\n",
       "      <th>Predicted</th>\n",
       "      <th>Positive(1)</th>\n",
       "      <th>Negative(0)</th>\n",
       "    </tr>\n",
       "    <tr>\n",
       "      <th>Actual</th>\n",
       "      <th></th>\n",
       "      <th></th>\n",
       "    </tr>\n",
       "  </thead>\n",
       "  <tbody>\n",
       "    <tr>\n",
       "      <th>Positive(1)</th>\n",
       "      <td>TP=0</td>\n",
       "      <td>FN=1</td>\n",
       "    </tr>\n",
       "    <tr>\n",
       "      <th>Negative(0)</th>\n",
       "      <td>FP=0</td>\n",
       "      <td>TN=3</td>\n",
       "    </tr>\n",
       "  </tbody>\n",
       "</table>\n",
       "</div>"
      ],
      "text/plain": [
       "Predicted   Positive(1) Negative(0)\n",
       "Actual                             \n",
       "Positive(1)        TP=0        FN=1\n",
       "Negative(0)        FP=0        TN=3"
      ]
     },
     "metadata": {},
     "output_type": "display_data"
    }
   ],
   "source": [
    "#Confusion Matrix\n",
    "#Scoring the sentiment of the movie reviews as positive or negative is a binary classification\n",
    "#problem, so use the confusion_matrix method from sklearn to calculate the confusion matrix\n",
    "#for the RNN LSTM model.\n",
    "\n",
    "# Confusion matrtix metrics from the RNN LSTM model\n",
    "tn_rnn, fp_rnn, fn_rnn, tp_rnn = confusion_matrix(y_test_rnn, y_rnn_pred).ravel()\n",
    "\n",
    "# Dataframe to display confusion matrix from the RNN LSTM model\n",
    "cm_rnn_df = pd.DataFrame(\n",
    "    {\n",
    "        \"Positive(1)\": [f\"TP={tp_rnn}\", f\"FP={fp_rnn}\"],\n",
    "        \"Negative(0)\": [f\"FN={fn_rnn}\", f\"TN={tn_rnn}\"],\n",
    "    },\n",
    "    index=[\"Positive(1)\", \"Negative(0)\"],\n",
    ")\n",
    "cm_rnn_df.index.name = \"Actual\"\n",
    "cm_rnn_df.columns.name = \"Predicted\"\n",
    "print(\"Confusion Matrix from the RNN LSTM Model\")\n",
    "display(cm_rnn_df)"
   ]
  },
  {
   "cell_type": "code",
   "execution_count": 247,
   "id": "a5aa41b3",
   "metadata": {},
   "outputs": [
    {
     "name": "stdout",
     "output_type": "stream",
     "text": [
      "Classification Report for the RNN LSTM Model\n",
      "              precision    recall  f1-score   support\n",
      "\n",
      "           0       1.00      0.75      0.86         4\n",
      "           1       0.00      0.00      0.00         0\n",
      "\n",
      "    accuracy                           0.75         4\n",
      "   macro avg       0.50      0.38      0.43         4\n",
      "weighted avg       1.00      0.75      0.86         4\n",
      "\n"
     ]
    }
   ],
   "source": [
    "# Display classification report for the RNN LSTM Model\n",
    "print(\"Classification Report for the RNN LSTM Model\")\n",
    "print(classification_report(y_rnn_pred, y_test_rnn))"
   ]
  },
  {
   "cell_type": "code",
   "execution_count": 250,
   "id": "75bfc40a",
   "metadata": {},
   "outputs": [
    {
     "name": "stdout",
     "output_type": "stream",
     "text": [
      "1/1 [==============================] - 0s 37ms/step\n"
     ]
    }
   ],
   "source": [
    "# ROC Curve RNN LSTM\n",
    "#Use the predict() method from the RNN LSTM model to predict the sentiment of \n",
    "#the testing data X_test_rnn. Set batch_size=1000 to speed up the predictions and store \n",
    "#the results in a variable called test_predictions_rnn.\n",
    "\n",
    "# Making predictions to feed the roc_curve module\n",
    "test_predictions_rnn = model.predict(X_test_rnn, batch_size=1000)\n",
    "\n",
    "# Use the roc_curve method from sklearn to calculate the false positives (fpr)\n",
    "#and true positives (tpr) rates passing as parameters the testing target sentiments\n",
    "#(y_test_rnn) and the predictions you compute using the testing data (test_predictions_rnn)\n",
    "# Data for ROC Curve - RNN LSTM Model\n",
    "fpr_test_rnn, tpr_test_rnn, thresholds_test_rnn = roc_curve(y_test_rnn, test_predictions_rnn)"
   ]
  },
  {
   "cell_type": "code",
   "execution_count": 251,
   "id": "e0b4ee9b",
   "metadata": {},
   "outputs": [],
   "source": [
    "#After calculating the fpr and tpr for the RNN LSTM Model, use the auc method of sklearn \n",
    "#to calculate the AUC for this model.Round the final result up to 4 decimals.\n",
    "# AUC for the RNN LSTM Model\n",
    "auc_test_rnn = auc(fpr_test_rnn, tpr_test_rnn)\n",
    "auc_test_rnn = round(auc_test_rnn, 4)"
   ]
  },
  {
   "cell_type": "code",
   "execution_count": 252,
   "id": "1f5e9536",
   "metadata": {},
   "outputs": [],
   "source": [
    "# Once you gather all the data needed to plot the ROC curve, \n",
    "#create a DataFrame with the fpr and tpr data from the RNN LSTM model\n",
    "#Dataframe to plot ROC Curve for the RNN LSTM model\n",
    "roc_df_test_rnn = pd.DataFrame({\"FPR Test\": fpr_test_rnn, \"TPR Test\": tpr_test_rnn,})"
   ]
  },
  {
   "cell_type": "code",
   "execution_count": 253,
   "id": "de3953be",
   "metadata": {},
   "outputs": [
    {
     "data": {
      "text/plain": [
       "<AxesSubplot:title={'center':'Test ROC Curve (AUC=0.0)'}, xlabel='FPR Test'>"
      ]
     },
     "execution_count": 253,
     "metadata": {},
     "output_type": "execute_result"
    },
    {
     "data": {
      "image/png": "[encoded data removed]",
      "text/plain": [
       "<Figure size 432x288 with 1 Axes>"
      ]
     },
     "metadata": {
      "needs_background": "light"
     },
     "output_type": "display_data"
    }
   ],
   "source": [
    "roc_df_test_rnn.plot(\n",
    "    x=\"FPR Test\",\n",
    "    y=\"TPR Test\",\n",
    "    color=\"blue\",\n",
    "    style=\"--\",\n",
    "    xlim=([-0.05, 1.05]),\n",
    "    title=f\"Test ROC Curve (AUC={auc_test_rnn})\",\n",
    ")"
   ]
  },
  {
   "cell_type": "code",
   "execution_count": null,
   "id": "01e7aec9",
   "metadata": {},
   "outputs": [],
   "source": []
  }
 ],
 "metadata": {
  "kernelspec": {
   "display_name": "Python [conda env:pyvizenv] *",
   "language": "python",
   "name": "conda-env-pyvizenv-py"
  },
  "language_info": {
   "codemirror_mode": {
    "name": "ipython",
    "version": 3
   },
   "file_extension": ".py",
   "mimetype": "text/x-python",
   "name": "python",
   "nbconvert_exporter": "python",
   "pygments_lexer": "ipython3",
   "version": "3.7.7"
  }
 },
 "nbformat": 4,
 "nbformat_minor": 5
}
